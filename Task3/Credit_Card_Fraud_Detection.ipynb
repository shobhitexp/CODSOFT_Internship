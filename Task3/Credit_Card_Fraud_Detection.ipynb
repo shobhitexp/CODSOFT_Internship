{
  "nbformat": 4,
  "nbformat_minor": 0,
  "metadata": {
    "colab": {
      "provenance": []
    },
    "kernelspec": {
      "name": "python3",
      "display_name": "Python 3"
    },
    "language_info": {
      "name": "python"
    }
  },
  "cells": [
    {
      "cell_type": "markdown",
      "source": [
        "# Credit Card Fraud Detection Documentation\n",
        "\n",
        "This documentation provides an overview and explanation of the Python code for Credit Card Fraud Detection. The code is divided into sections and includes explanations for each step.\n",
        "\n",
        "## Introduction\n",
        "\n",
        "This Python code is designed to perform credit card fraud detection using various machine learning models. It aims to classify credit card transactions as either fraudulent or non-fraudulent based on a dataset of credit card transactions.\n",
        "\n",
        "### Data Source\n",
        "\n",
        "The code uses a dataset from Kaggle, which can be found at the following URL:\n",
        "[Credit Card Fraud Detection Dataset on Kaggle](https://www.kaggle.com/mlg-ulb/creditcardfraud)\n",
        "\n",
        "## Setup and Data Loading\n"
      ],
      "metadata": {
        "id": "ZtgJ6-tU-2gD"
      }
    },
    {
      "cell_type": "code",
      "execution_count": 1,
      "metadata": {
        "colab": {
          "base_uri": "https://localhost:8080/",
          "height": 0
        },
        "id": "vQRl9-BRcd0r",
        "outputId": "c243b13e-bab8-422b-941d-9868fee7b20c"
      },
      "outputs": [
        {
          "output_type": "stream",
          "name": "stdout",
          "text": [
            "mkdir: cannot create directory ‘/root/.kaggle’: File exists\n",
            "creditcardfraud.zip: Skipping, found more recently modified local copy (use --force to force download)\n",
            "Archive:  creditcardfraud.zip\n",
            "replace creditcard.csv? [y]es, [n]o, [A]ll, [N]one, [r]ename: y\n",
            "  inflating: creditcard.csv          \n"
          ]
        }
      ],
      "source": [
        "!mkdir ~/.kaggle\n",
        "!cp kaggle.json ~/.kaggle/\n",
        "!chmod 600 ~/.kaggle/kaggle.json\n",
        "!kaggle datasets download -d mlg-ulb/creditcardfraud\n",
        "!unzip creditcardfraud.zip"
      ]
    },
    {
      "cell_type": "code",
      "source": [
        "import pandas as pd\n",
        "df = pd.read_csv('creditcard.csv')"
      ],
      "metadata": {
        "id": "EcrrlR_JdbUx"
      },
      "execution_count": 2,
      "outputs": []
    },
    {
      "cell_type": "markdown",
      "source": [
        "- The code starts by setting up the Kaggle API credentials, which are required to download the dataset from Kaggle.\n",
        "- It imports the `pandas` library and loads the dataset into a Pandas DataFrame named `df`.\n",
        "\n",
        "## Exploratory Data Analysis (EDA)"
      ],
      "metadata": {
        "id": "UedfsFSq_E_y"
      }
    },
    {
      "cell_type": "code",
      "source": [
        "df"
      ],
      "metadata": {
        "colab": {
          "base_uri": "https://localhost:8080/",
          "height": 444
        },
        "id": "cYynl9gIftHX",
        "outputId": "92541d6c-7ac3-4d37-b176-bcc627f7ffa9"
      },
      "execution_count": 3,
      "outputs": [
        {
          "output_type": "execute_result",
          "data": {
            "text/plain": [
              "            Time         V1         V2        V3        V4        V5  \\\n",
              "0            0.0  -1.359807  -0.072781  2.536347  1.378155 -0.338321   \n",
              "1            0.0   1.191857   0.266151  0.166480  0.448154  0.060018   \n",
              "2            1.0  -1.358354  -1.340163  1.773209  0.379780 -0.503198   \n",
              "3            1.0  -0.966272  -0.185226  1.792993 -0.863291 -0.010309   \n",
              "4            2.0  -1.158233   0.877737  1.548718  0.403034 -0.407193   \n",
              "...          ...        ...        ...       ...       ...       ...   \n",
              "284802  172786.0 -11.881118  10.071785 -9.834783 -2.066656 -5.364473   \n",
              "284803  172787.0  -0.732789  -0.055080  2.035030 -0.738589  0.868229   \n",
              "284804  172788.0   1.919565  -0.301254 -3.249640 -0.557828  2.630515   \n",
              "284805  172788.0  -0.240440   0.530483  0.702510  0.689799 -0.377961   \n",
              "284806  172792.0  -0.533413  -0.189733  0.703337 -0.506271 -0.012546   \n",
              "\n",
              "              V6        V7        V8        V9  ...       V21       V22  \\\n",
              "0       0.462388  0.239599  0.098698  0.363787  ... -0.018307  0.277838   \n",
              "1      -0.082361 -0.078803  0.085102 -0.255425  ... -0.225775 -0.638672   \n",
              "2       1.800499  0.791461  0.247676 -1.514654  ...  0.247998  0.771679   \n",
              "3       1.247203  0.237609  0.377436 -1.387024  ... -0.108300  0.005274   \n",
              "4       0.095921  0.592941 -0.270533  0.817739  ... -0.009431  0.798278   \n",
              "...          ...       ...       ...       ...  ...       ...       ...   \n",
              "284802 -2.606837 -4.918215  7.305334  1.914428  ...  0.213454  0.111864   \n",
              "284803  1.058415  0.024330  0.294869  0.584800  ...  0.214205  0.924384   \n",
              "284804  3.031260 -0.296827  0.708417  0.432454  ...  0.232045  0.578229   \n",
              "284805  0.623708 -0.686180  0.679145  0.392087  ...  0.265245  0.800049   \n",
              "284806 -0.649617  1.577006 -0.414650  0.486180  ...  0.261057  0.643078   \n",
              "\n",
              "             V23       V24       V25       V26       V27       V28  Amount  \\\n",
              "0      -0.110474  0.066928  0.128539 -0.189115  0.133558 -0.021053  149.62   \n",
              "1       0.101288 -0.339846  0.167170  0.125895 -0.008983  0.014724    2.69   \n",
              "2       0.909412 -0.689281 -0.327642 -0.139097 -0.055353 -0.059752  378.66   \n",
              "3      -0.190321 -1.175575  0.647376 -0.221929  0.062723  0.061458  123.50   \n",
              "4      -0.137458  0.141267 -0.206010  0.502292  0.219422  0.215153   69.99   \n",
              "...          ...       ...       ...       ...       ...       ...     ...   \n",
              "284802  1.014480 -0.509348  1.436807  0.250034  0.943651  0.823731    0.77   \n",
              "284803  0.012463 -1.016226 -0.606624 -0.395255  0.068472 -0.053527   24.79   \n",
              "284804 -0.037501  0.640134  0.265745 -0.087371  0.004455 -0.026561   67.88   \n",
              "284805 -0.163298  0.123205 -0.569159  0.546668  0.108821  0.104533   10.00   \n",
              "284806  0.376777  0.008797 -0.473649 -0.818267 -0.002415  0.013649  217.00   \n",
              "\n",
              "        Class  \n",
              "0           0  \n",
              "1           0  \n",
              "2           0  \n",
              "3           0  \n",
              "4           0  \n",
              "...       ...  \n",
              "284802      0  \n",
              "284803      0  \n",
              "284804      0  \n",
              "284805      0  \n",
              "284806      0  \n",
              "\n",
              "[284807 rows x 31 columns]"
            ],
            "text/html": [
              "\n",
              "  <div id=\"df-15447397-7a01-41c2-ac83-eed701cd2491\" class=\"colab-df-container\">\n",
              "    <div>\n",
              "<style scoped>\n",
              "    .dataframe tbody tr th:only-of-type {\n",
              "        vertical-align: middle;\n",
              "    }\n",
              "\n",
              "    .dataframe tbody tr th {\n",
              "        vertical-align: top;\n",
              "    }\n",
              "\n",
              "    .dataframe thead th {\n",
              "        text-align: right;\n",
              "    }\n",
              "</style>\n",
              "<table border=\"1\" class=\"dataframe\">\n",
              "  <thead>\n",
              "    <tr style=\"text-align: right;\">\n",
              "      <th></th>\n",
              "      <th>Time</th>\n",
              "      <th>V1</th>\n",
              "      <th>V2</th>\n",
              "      <th>V3</th>\n",
              "      <th>V4</th>\n",
              "      <th>V5</th>\n",
              "      <th>V6</th>\n",
              "      <th>V7</th>\n",
              "      <th>V8</th>\n",
              "      <th>V9</th>\n",
              "      <th>...</th>\n",
              "      <th>V21</th>\n",
              "      <th>V22</th>\n",
              "      <th>V23</th>\n",
              "      <th>V24</th>\n",
              "      <th>V25</th>\n",
              "      <th>V26</th>\n",
              "      <th>V27</th>\n",
              "      <th>V28</th>\n",
              "      <th>Amount</th>\n",
              "      <th>Class</th>\n",
              "    </tr>\n",
              "  </thead>\n",
              "  <tbody>\n",
              "    <tr>\n",
              "      <th>0</th>\n",
              "      <td>0.0</td>\n",
              "      <td>-1.359807</td>\n",
              "      <td>-0.072781</td>\n",
              "      <td>2.536347</td>\n",
              "      <td>1.378155</td>\n",
              "      <td>-0.338321</td>\n",
              "      <td>0.462388</td>\n",
              "      <td>0.239599</td>\n",
              "      <td>0.098698</td>\n",
              "      <td>0.363787</td>\n",
              "      <td>...</td>\n",
              "      <td>-0.018307</td>\n",
              "      <td>0.277838</td>\n",
              "      <td>-0.110474</td>\n",
              "      <td>0.066928</td>\n",
              "      <td>0.128539</td>\n",
              "      <td>-0.189115</td>\n",
              "      <td>0.133558</td>\n",
              "      <td>-0.021053</td>\n",
              "      <td>149.62</td>\n",
              "      <td>0</td>\n",
              "    </tr>\n",
              "    <tr>\n",
              "      <th>1</th>\n",
              "      <td>0.0</td>\n",
              "      <td>1.191857</td>\n",
              "      <td>0.266151</td>\n",
              "      <td>0.166480</td>\n",
              "      <td>0.448154</td>\n",
              "      <td>0.060018</td>\n",
              "      <td>-0.082361</td>\n",
              "      <td>-0.078803</td>\n",
              "      <td>0.085102</td>\n",
              "      <td>-0.255425</td>\n",
              "      <td>...</td>\n",
              "      <td>-0.225775</td>\n",
              "      <td>-0.638672</td>\n",
              "      <td>0.101288</td>\n",
              "      <td>-0.339846</td>\n",
              "      <td>0.167170</td>\n",
              "      <td>0.125895</td>\n",
              "      <td>-0.008983</td>\n",
              "      <td>0.014724</td>\n",
              "      <td>2.69</td>\n",
              "      <td>0</td>\n",
              "    </tr>\n",
              "    <tr>\n",
              "      <th>2</th>\n",
              "      <td>1.0</td>\n",
              "      <td>-1.358354</td>\n",
              "      <td>-1.340163</td>\n",
              "      <td>1.773209</td>\n",
              "      <td>0.379780</td>\n",
              "      <td>-0.503198</td>\n",
              "      <td>1.800499</td>\n",
              "      <td>0.791461</td>\n",
              "      <td>0.247676</td>\n",
              "      <td>-1.514654</td>\n",
              "      <td>...</td>\n",
              "      <td>0.247998</td>\n",
              "      <td>0.771679</td>\n",
              "      <td>0.909412</td>\n",
              "      <td>-0.689281</td>\n",
              "      <td>-0.327642</td>\n",
              "      <td>-0.139097</td>\n",
              "      <td>-0.055353</td>\n",
              "      <td>-0.059752</td>\n",
              "      <td>378.66</td>\n",
              "      <td>0</td>\n",
              "    </tr>\n",
              "    <tr>\n",
              "      <th>3</th>\n",
              "      <td>1.0</td>\n",
              "      <td>-0.966272</td>\n",
              "      <td>-0.185226</td>\n",
              "      <td>1.792993</td>\n",
              "      <td>-0.863291</td>\n",
              "      <td>-0.010309</td>\n",
              "      <td>1.247203</td>\n",
              "      <td>0.237609</td>\n",
              "      <td>0.377436</td>\n",
              "      <td>-1.387024</td>\n",
              "      <td>...</td>\n",
              "      <td>-0.108300</td>\n",
              "      <td>0.005274</td>\n",
              "      <td>-0.190321</td>\n",
              "      <td>-1.175575</td>\n",
              "      <td>0.647376</td>\n",
              "      <td>-0.221929</td>\n",
              "      <td>0.062723</td>\n",
              "      <td>0.061458</td>\n",
              "      <td>123.50</td>\n",
              "      <td>0</td>\n",
              "    </tr>\n",
              "    <tr>\n",
              "      <th>4</th>\n",
              "      <td>2.0</td>\n",
              "      <td>-1.158233</td>\n",
              "      <td>0.877737</td>\n",
              "      <td>1.548718</td>\n",
              "      <td>0.403034</td>\n",
              "      <td>-0.407193</td>\n",
              "      <td>0.095921</td>\n",
              "      <td>0.592941</td>\n",
              "      <td>-0.270533</td>\n",
              "      <td>0.817739</td>\n",
              "      <td>...</td>\n",
              "      <td>-0.009431</td>\n",
              "      <td>0.798278</td>\n",
              "      <td>-0.137458</td>\n",
              "      <td>0.141267</td>\n",
              "      <td>-0.206010</td>\n",
              "      <td>0.502292</td>\n",
              "      <td>0.219422</td>\n",
              "      <td>0.215153</td>\n",
              "      <td>69.99</td>\n",
              "      <td>0</td>\n",
              "    </tr>\n",
              "    <tr>\n",
              "      <th>...</th>\n",
              "      <td>...</td>\n",
              "      <td>...</td>\n",
              "      <td>...</td>\n",
              "      <td>...</td>\n",
              "      <td>...</td>\n",
              "      <td>...</td>\n",
              "      <td>...</td>\n",
              "      <td>...</td>\n",
              "      <td>...</td>\n",
              "      <td>...</td>\n",
              "      <td>...</td>\n",
              "      <td>...</td>\n",
              "      <td>...</td>\n",
              "      <td>...</td>\n",
              "      <td>...</td>\n",
              "      <td>...</td>\n",
              "      <td>...</td>\n",
              "      <td>...</td>\n",
              "      <td>...</td>\n",
              "      <td>...</td>\n",
              "      <td>...</td>\n",
              "    </tr>\n",
              "    <tr>\n",
              "      <th>284802</th>\n",
              "      <td>172786.0</td>\n",
              "      <td>-11.881118</td>\n",
              "      <td>10.071785</td>\n",
              "      <td>-9.834783</td>\n",
              "      <td>-2.066656</td>\n",
              "      <td>-5.364473</td>\n",
              "      <td>-2.606837</td>\n",
              "      <td>-4.918215</td>\n",
              "      <td>7.305334</td>\n",
              "      <td>1.914428</td>\n",
              "      <td>...</td>\n",
              "      <td>0.213454</td>\n",
              "      <td>0.111864</td>\n",
              "      <td>1.014480</td>\n",
              "      <td>-0.509348</td>\n",
              "      <td>1.436807</td>\n",
              "      <td>0.250034</td>\n",
              "      <td>0.943651</td>\n",
              "      <td>0.823731</td>\n",
              "      <td>0.77</td>\n",
              "      <td>0</td>\n",
              "    </tr>\n",
              "    <tr>\n",
              "      <th>284803</th>\n",
              "      <td>172787.0</td>\n",
              "      <td>-0.732789</td>\n",
              "      <td>-0.055080</td>\n",
              "      <td>2.035030</td>\n",
              "      <td>-0.738589</td>\n",
              "      <td>0.868229</td>\n",
              "      <td>1.058415</td>\n",
              "      <td>0.024330</td>\n",
              "      <td>0.294869</td>\n",
              "      <td>0.584800</td>\n",
              "      <td>...</td>\n",
              "      <td>0.214205</td>\n",
              "      <td>0.924384</td>\n",
              "      <td>0.012463</td>\n",
              "      <td>-1.016226</td>\n",
              "      <td>-0.606624</td>\n",
              "      <td>-0.395255</td>\n",
              "      <td>0.068472</td>\n",
              "      <td>-0.053527</td>\n",
              "      <td>24.79</td>\n",
              "      <td>0</td>\n",
              "    </tr>\n",
              "    <tr>\n",
              "      <th>284804</th>\n",
              "      <td>172788.0</td>\n",
              "      <td>1.919565</td>\n",
              "      <td>-0.301254</td>\n",
              "      <td>-3.249640</td>\n",
              "      <td>-0.557828</td>\n",
              "      <td>2.630515</td>\n",
              "      <td>3.031260</td>\n",
              "      <td>-0.296827</td>\n",
              "      <td>0.708417</td>\n",
              "      <td>0.432454</td>\n",
              "      <td>...</td>\n",
              "      <td>0.232045</td>\n",
              "      <td>0.578229</td>\n",
              "      <td>-0.037501</td>\n",
              "      <td>0.640134</td>\n",
              "      <td>0.265745</td>\n",
              "      <td>-0.087371</td>\n",
              "      <td>0.004455</td>\n",
              "      <td>-0.026561</td>\n",
              "      <td>67.88</td>\n",
              "      <td>0</td>\n",
              "    </tr>\n",
              "    <tr>\n",
              "      <th>284805</th>\n",
              "      <td>172788.0</td>\n",
              "      <td>-0.240440</td>\n",
              "      <td>0.530483</td>\n",
              "      <td>0.702510</td>\n",
              "      <td>0.689799</td>\n",
              "      <td>-0.377961</td>\n",
              "      <td>0.623708</td>\n",
              "      <td>-0.686180</td>\n",
              "      <td>0.679145</td>\n",
              "      <td>0.392087</td>\n",
              "      <td>...</td>\n",
              "      <td>0.265245</td>\n",
              "      <td>0.800049</td>\n",
              "      <td>-0.163298</td>\n",
              "      <td>0.123205</td>\n",
              "      <td>-0.569159</td>\n",
              "      <td>0.546668</td>\n",
              "      <td>0.108821</td>\n",
              "      <td>0.104533</td>\n",
              "      <td>10.00</td>\n",
              "      <td>0</td>\n",
              "    </tr>\n",
              "    <tr>\n",
              "      <th>284806</th>\n",
              "      <td>172792.0</td>\n",
              "      <td>-0.533413</td>\n",
              "      <td>-0.189733</td>\n",
              "      <td>0.703337</td>\n",
              "      <td>-0.506271</td>\n",
              "      <td>-0.012546</td>\n",
              "      <td>-0.649617</td>\n",
              "      <td>1.577006</td>\n",
              "      <td>-0.414650</td>\n",
              "      <td>0.486180</td>\n",
              "      <td>...</td>\n",
              "      <td>0.261057</td>\n",
              "      <td>0.643078</td>\n",
              "      <td>0.376777</td>\n",
              "      <td>0.008797</td>\n",
              "      <td>-0.473649</td>\n",
              "      <td>-0.818267</td>\n",
              "      <td>-0.002415</td>\n",
              "      <td>0.013649</td>\n",
              "      <td>217.00</td>\n",
              "      <td>0</td>\n",
              "    </tr>\n",
              "  </tbody>\n",
              "</table>\n",
              "<p>284807 rows × 31 columns</p>\n",
              "</div>\n",
              "    <div class=\"colab-df-buttons\">\n",
              "\n",
              "  <div class=\"colab-df-container\">\n",
              "    <button class=\"colab-df-convert\" onclick=\"convertToInteractive('df-15447397-7a01-41c2-ac83-eed701cd2491')\"\n",
              "            title=\"Convert this dataframe to an interactive table.\"\n",
              "            style=\"display:none;\">\n",
              "\n",
              "  <svg xmlns=\"http://www.w3.org/2000/svg\" height=\"24px\" viewBox=\"0 -960 960 960\">\n",
              "    <path d=\"M120-120v-720h720v720H120Zm60-500h600v-160H180v160Zm220 220h160v-160H400v160Zm0 220h160v-160H400v160ZM180-400h160v-160H180v160Zm440 0h160v-160H620v160ZM180-180h160v-160H180v160Zm440 0h160v-160H620v160Z\"/>\n",
              "  </svg>\n",
              "    </button>\n",
              "\n",
              "  <style>\n",
              "    .colab-df-container {\n",
              "      display:flex;\n",
              "      gap: 12px;\n",
              "    }\n",
              "\n",
              "    .colab-df-convert {\n",
              "      background-color: #E8F0FE;\n",
              "      border: none;\n",
              "      border-radius: 50%;\n",
              "      cursor: pointer;\n",
              "      display: none;\n",
              "      fill: #1967D2;\n",
              "      height: 32px;\n",
              "      padding: 0 0 0 0;\n",
              "      width: 32px;\n",
              "    }\n",
              "\n",
              "    .colab-df-convert:hover {\n",
              "      background-color: #E2EBFA;\n",
              "      box-shadow: 0px 1px 2px rgba(60, 64, 67, 0.3), 0px 1px 3px 1px rgba(60, 64, 67, 0.15);\n",
              "      fill: #174EA6;\n",
              "    }\n",
              "\n",
              "    .colab-df-buttons div {\n",
              "      margin-bottom: 4px;\n",
              "    }\n",
              "\n",
              "    [theme=dark] .colab-df-convert {\n",
              "      background-color: #3B4455;\n",
              "      fill: #D2E3FC;\n",
              "    }\n",
              "\n",
              "    [theme=dark] .colab-df-convert:hover {\n",
              "      background-color: #434B5C;\n",
              "      box-shadow: 0px 1px 3px 1px rgba(0, 0, 0, 0.15);\n",
              "      filter: drop-shadow(0px 1px 2px rgba(0, 0, 0, 0.3));\n",
              "      fill: #FFFFFF;\n",
              "    }\n",
              "  </style>\n",
              "\n",
              "    <script>\n",
              "      const buttonEl =\n",
              "        document.querySelector('#df-15447397-7a01-41c2-ac83-eed701cd2491 button.colab-df-convert');\n",
              "      buttonEl.style.display =\n",
              "        google.colab.kernel.accessAllowed ? 'block' : 'none';\n",
              "\n",
              "      async function convertToInteractive(key) {\n",
              "        const element = document.querySelector('#df-15447397-7a01-41c2-ac83-eed701cd2491');\n",
              "        const dataTable =\n",
              "          await google.colab.kernel.invokeFunction('convertToInteractive',\n",
              "                                                    [key], {});\n",
              "        if (!dataTable) return;\n",
              "\n",
              "        const docLinkHtml = 'Like what you see? Visit the ' +\n",
              "          '<a target=\"_blank\" href=https://colab.research.google.com/notebooks/data_table.ipynb>data table notebook</a>'\n",
              "          + ' to learn more about interactive tables.';\n",
              "        element.innerHTML = '';\n",
              "        dataTable['output_type'] = 'display_data';\n",
              "        await google.colab.output.renderOutput(dataTable, element);\n",
              "        const docLink = document.createElement('div');\n",
              "        docLink.innerHTML = docLinkHtml;\n",
              "        element.appendChild(docLink);\n",
              "      }\n",
              "    </script>\n",
              "  </div>\n",
              "\n",
              "\n",
              "<div id=\"df-ec26e01b-97dc-4f3c-ad89-e99fbff2e3f5\">\n",
              "  <button class=\"colab-df-quickchart\" onclick=\"quickchart('df-ec26e01b-97dc-4f3c-ad89-e99fbff2e3f5')\"\n",
              "            title=\"Suggest charts.\"\n",
              "            style=\"display:none;\">\n",
              "\n",
              "<svg xmlns=\"http://www.w3.org/2000/svg\" height=\"24px\"viewBox=\"0 0 24 24\"\n",
              "     width=\"24px\">\n",
              "    <g>\n",
              "        <path d=\"M19 3H5c-1.1 0-2 .9-2 2v14c0 1.1.9 2 2 2h14c1.1 0 2-.9 2-2V5c0-1.1-.9-2-2-2zM9 17H7v-7h2v7zm4 0h-2V7h2v10zm4 0h-2v-4h2v4z\"/>\n",
              "    </g>\n",
              "</svg>\n",
              "  </button>\n",
              "\n",
              "<style>\n",
              "  .colab-df-quickchart {\n",
              "      --bg-color: #E8F0FE;\n",
              "      --fill-color: #1967D2;\n",
              "      --hover-bg-color: #E2EBFA;\n",
              "      --hover-fill-color: #174EA6;\n",
              "      --disabled-fill-color: #AAA;\n",
              "      --disabled-bg-color: #DDD;\n",
              "  }\n",
              "\n",
              "  [theme=dark] .colab-df-quickchart {\n",
              "      --bg-color: #3B4455;\n",
              "      --fill-color: #D2E3FC;\n",
              "      --hover-bg-color: #434B5C;\n",
              "      --hover-fill-color: #FFFFFF;\n",
              "      --disabled-bg-color: #3B4455;\n",
              "      --disabled-fill-color: #666;\n",
              "  }\n",
              "\n",
              "  .colab-df-quickchart {\n",
              "    background-color: var(--bg-color);\n",
              "    border: none;\n",
              "    border-radius: 50%;\n",
              "    cursor: pointer;\n",
              "    display: none;\n",
              "    fill: var(--fill-color);\n",
              "    height: 32px;\n",
              "    padding: 0;\n",
              "    width: 32px;\n",
              "  }\n",
              "\n",
              "  .colab-df-quickchart:hover {\n",
              "    background-color: var(--hover-bg-color);\n",
              "    box-shadow: 0 1px 2px rgba(60, 64, 67, 0.3), 0 1px 3px 1px rgba(60, 64, 67, 0.15);\n",
              "    fill: var(--button-hover-fill-color);\n",
              "  }\n",
              "\n",
              "  .colab-df-quickchart-complete:disabled,\n",
              "  .colab-df-quickchart-complete:disabled:hover {\n",
              "    background-color: var(--disabled-bg-color);\n",
              "    fill: var(--disabled-fill-color);\n",
              "    box-shadow: none;\n",
              "  }\n",
              "\n",
              "  .colab-df-spinner {\n",
              "    border: 2px solid var(--fill-color);\n",
              "    border-color: transparent;\n",
              "    border-bottom-color: var(--fill-color);\n",
              "    animation:\n",
              "      spin 1s steps(1) infinite;\n",
              "  }\n",
              "\n",
              "  @keyframes spin {\n",
              "    0% {\n",
              "      border-color: transparent;\n",
              "      border-bottom-color: var(--fill-color);\n",
              "      border-left-color: var(--fill-color);\n",
              "    }\n",
              "    20% {\n",
              "      border-color: transparent;\n",
              "      border-left-color: var(--fill-color);\n",
              "      border-top-color: var(--fill-color);\n",
              "    }\n",
              "    30% {\n",
              "      border-color: transparent;\n",
              "      border-left-color: var(--fill-color);\n",
              "      border-top-color: var(--fill-color);\n",
              "      border-right-color: var(--fill-color);\n",
              "    }\n",
              "    40% {\n",
              "      border-color: transparent;\n",
              "      border-right-color: var(--fill-color);\n",
              "      border-top-color: var(--fill-color);\n",
              "    }\n",
              "    60% {\n",
              "      border-color: transparent;\n",
              "      border-right-color: var(--fill-color);\n",
              "    }\n",
              "    80% {\n",
              "      border-color: transparent;\n",
              "      border-right-color: var(--fill-color);\n",
              "      border-bottom-color: var(--fill-color);\n",
              "    }\n",
              "    90% {\n",
              "      border-color: transparent;\n",
              "      border-bottom-color: var(--fill-color);\n",
              "    }\n",
              "  }\n",
              "</style>\n",
              "\n",
              "  <script>\n",
              "    async function quickchart(key) {\n",
              "      const quickchartButtonEl =\n",
              "        document.querySelector('#' + key + ' button');\n",
              "      quickchartButtonEl.disabled = true;  // To prevent multiple clicks.\n",
              "      quickchartButtonEl.classList.add('colab-df-spinner');\n",
              "      try {\n",
              "        const charts = await google.colab.kernel.invokeFunction(\n",
              "            'suggestCharts', [key], {});\n",
              "      } catch (error) {\n",
              "        console.error('Error during call to suggestCharts:', error);\n",
              "      }\n",
              "      quickchartButtonEl.classList.remove('colab-df-spinner');\n",
              "      quickchartButtonEl.classList.add('colab-df-quickchart-complete');\n",
              "    }\n",
              "    (() => {\n",
              "      let quickchartButtonEl =\n",
              "        document.querySelector('#df-ec26e01b-97dc-4f3c-ad89-e99fbff2e3f5 button');\n",
              "      quickchartButtonEl.style.display =\n",
              "        google.colab.kernel.accessAllowed ? 'block' : 'none';\n",
              "    })();\n",
              "  </script>\n",
              "</div>\n",
              "    </div>\n",
              "  </div>\n"
            ]
          },
          "metadata": {},
          "execution_count": 3
        }
      ]
    },
    {
      "cell_type": "code",
      "source": [
        "df['Class'].value_counts()"
      ],
      "metadata": {
        "colab": {
          "base_uri": "https://localhost:8080/",
          "height": 0
        },
        "id": "QXIKaTWwfu2g",
        "outputId": "cf29381b-977d-41ff-9ad3-15cd5407fa57"
      },
      "execution_count": 4,
      "outputs": [
        {
          "output_type": "execute_result",
          "data": {
            "text/plain": [
              "0    284315\n",
              "1       492\n",
              "Name: Class, dtype: int64"
            ]
          },
          "metadata": {},
          "execution_count": 4
        }
      ]
    },
    {
      "cell_type": "code",
      "source": [
        "import pandas as pd\n",
        "import matplotlib.pyplot as plt\n",
        "hist_color = 'skyblue'\n",
        "df.hist(bins=30, figsize=(10, 10), color=hist_color)\n",
        "plt.xlabel('X-Axis Label')\n",
        "plt.ylabel('Y-Axis Label')\n",
        "plt.title('Histogram with Color')\n",
        "plt.show()\n"
      ],
      "metadata": {
        "id": "qrQ7awSWzLy5",
        "colab": {
          "base_uri": "https://localhost:8080/",
          "height": 853
        },
        "outputId": "bbf4fb7a-fbd7-41ce-c842-db807ce39209"
      },
      "execution_count": 5,
      "outputs": [
        {
          "output_type": "display_data",
          "data": {
            "text/plain": [
              "<Figure size 1000x1000 with 36 Axes>"
            ],
            "image/png": "[encoded data removed]"
          },
          "metadata": {}
        }
      ]
    },
    {
      "cell_type": "code",
      "source": [
        "df.describe()"
      ],
      "metadata": {
        "colab": {
          "base_uri": "https://localhost:8080/",
          "height": 350
        },
        "id": "7cJCjKEzXNZ7",
        "outputId": "46fb16d9-8bd6-4d93-8540-e14ab8b91569"
      },
      "execution_count": 6,
      "outputs": [
        {
          "output_type": "execute_result",
          "data": {
            "text/plain": [
              "                Time            V1            V2            V3            V4  \\\n",
              "count  284807.000000  2.848070e+05  2.848070e+05  2.848070e+05  2.848070e+05   \n",
              "mean    94813.859575  1.168375e-15  3.416908e-16 -1.379537e-15  2.074095e-15   \n",
              "std     47488.145955  1.958696e+00  1.651309e+00  1.516255e+00  1.415869e+00   \n",
              "min         0.000000 -5.640751e+01 -7.271573e+01 -4.832559e+01 -5.683171e+00   \n",
              "25%     54201.500000 -9.203734e-01 -5.985499e-01 -8.903648e-01 -8.486401e-01   \n",
              "50%     84692.000000  1.810880e-02  6.548556e-02  1.798463e-01 -1.984653e-02   \n",
              "75%    139320.500000  1.315642e+00  8.037239e-01  1.027196e+00  7.433413e-01   \n",
              "max    172792.000000  2.454930e+00  2.205773e+01  9.382558e+00  1.687534e+01   \n",
              "\n",
              "                 V5            V6            V7            V8            V9  \\\n",
              "count  2.848070e+05  2.848070e+05  2.848070e+05  2.848070e+05  2.848070e+05   \n",
              "mean   9.604066e-16  1.487313e-15 -5.556467e-16  1.213481e-16 -2.406331e-15   \n",
              "std    1.380247e+00  1.332271e+00  1.237094e+00  1.194353e+00  1.098632e+00   \n",
              "min   -1.137433e+02 -2.616051e+01 -4.355724e+01 -7.321672e+01 -1.343407e+01   \n",
              "25%   -6.915971e-01 -7.682956e-01 -5.540759e-01 -2.086297e-01 -6.430976e-01   \n",
              "50%   -5.433583e-02 -2.741871e-01  4.010308e-02  2.235804e-02 -5.142873e-02   \n",
              "75%    6.119264e-01  3.985649e-01  5.704361e-01  3.273459e-01  5.971390e-01   \n",
              "max    3.480167e+01  7.330163e+01  1.205895e+02  2.000721e+01  1.559499e+01   \n",
              "\n",
              "       ...           V21           V22           V23           V24  \\\n",
              "count  ...  2.848070e+05  2.848070e+05  2.848070e+05  2.848070e+05   \n",
              "mean   ...  1.654067e-16 -3.568593e-16  2.578648e-16  4.473266e-15   \n",
              "std    ...  7.345240e-01  7.257016e-01  6.244603e-01  6.056471e-01   \n",
              "min    ... -3.483038e+01 -1.093314e+01 -4.480774e+01 -2.836627e+00   \n",
              "25%    ... -2.283949e-01 -5.423504e-01 -1.618463e-01 -3.545861e-01   \n",
              "50%    ... -2.945017e-02  6.781943e-03 -1.119293e-02  4.097606e-02   \n",
              "75%    ...  1.863772e-01  5.285536e-01  1.476421e-01  4.395266e-01   \n",
              "max    ...  2.720284e+01  1.050309e+01  2.252841e+01  4.584549e+00   \n",
              "\n",
              "                V25           V26           V27           V28         Amount  \\\n",
              "count  2.848070e+05  2.848070e+05  2.848070e+05  2.848070e+05  284807.000000   \n",
              "mean   5.340915e-16  1.683437e-15 -3.660091e-16 -1.227390e-16      88.349619   \n",
              "std    5.212781e-01  4.822270e-01  4.036325e-01  3.300833e-01     250.120109   \n",
              "min   -1.029540e+01 -2.604551e+00 -2.256568e+01 -1.543008e+01       0.000000   \n",
              "25%   -3.171451e-01 -3.269839e-01 -7.083953e-02 -5.295979e-02       5.600000   \n",
              "50%    1.659350e-02 -5.213911e-02  1.342146e-03  1.124383e-02      22.000000   \n",
              "75%    3.507156e-01  2.409522e-01  9.104512e-02  7.827995e-02      77.165000   \n",
              "max    7.519589e+00  3.517346e+00  3.161220e+01  3.384781e+01   25691.160000   \n",
              "\n",
              "               Class  \n",
              "count  284807.000000  \n",
              "mean        0.001727  \n",
              "std         0.041527  \n",
              "min         0.000000  \n",
              "25%         0.000000  \n",
              "50%         0.000000  \n",
              "75%         0.000000  \n",
              "max         1.000000  \n",
              "\n",
              "[8 rows x 31 columns]"
            ],
            "text/html": [
              "\n",
              "  <div id=\"df-a865aa01-866e-4d31-9785-22b737bc39b4\" class=\"colab-df-container\">\n",
              "    <div>\n",
              "<style scoped>\n",
              "    .dataframe tbody tr th:only-of-type {\n",
              "        vertical-align: middle;\n",
              "    }\n",
              "\n",
              "    .dataframe tbody tr th {\n",
              "        vertical-align: top;\n",
              "    }\n",
              "\n",
              "    .dataframe thead th {\n",
              "        text-align: right;\n",
              "    }\n",
              "</style>\n",
              "<table border=\"1\" class=\"dataframe\">\n",
              "  <thead>\n",
              "    <tr style=\"text-align: right;\">\n",
              "      <th></th>\n",
              "      <th>Time</th>\n",
              "      <th>V1</th>\n",
              "      <th>V2</th>\n",
              "      <th>V3</th>\n",
              "      <th>V4</th>\n",
              "      <th>V5</th>\n",
              "      <th>V6</th>\n",
              "      <th>V7</th>\n",
              "      <th>V8</th>\n",
              "      <th>V9</th>\n",
              "      <th>...</th>\n",
              "      <th>V21</th>\n",
              "      <th>V22</th>\n",
              "      <th>V23</th>\n",
              "      <th>V24</th>\n",
              "      <th>V25</th>\n",
              "      <th>V26</th>\n",
              "      <th>V27</th>\n",
              "      <th>V28</th>\n",
              "      <th>Amount</th>\n",
              "      <th>Class</th>\n",
              "    </tr>\n",
              "  </thead>\n",
              "  <tbody>\n",
              "    <tr>\n",
              "      <th>count</th>\n",
              "      <td>284807.000000</td>\n",
              "      <td>2.848070e+05</td>\n",
              "      <td>2.848070e+05</td>\n",
              "      <td>2.848070e+05</td>\n",
              "      <td>2.848070e+05</td>\n",
              "      <td>2.848070e+05</td>\n",
              "      <td>2.848070e+05</td>\n",
              "      <td>2.848070e+05</td>\n",
              "      <td>2.848070e+05</td>\n",
              "      <td>2.848070e+05</td>\n",
              "      <td>...</td>\n",
              "      <td>2.848070e+05</td>\n",
              "      <td>2.848070e+05</td>\n",
              "      <td>2.848070e+05</td>\n",
              "      <td>2.848070e+05</td>\n",
              "      <td>2.848070e+05</td>\n",
              "      <td>2.848070e+05</td>\n",
              "      <td>2.848070e+05</td>\n",
              "      <td>2.848070e+05</td>\n",
              "      <td>284807.000000</td>\n",
              "      <td>284807.000000</td>\n",
              "    </tr>\n",
              "    <tr>\n",
              "      <th>mean</th>\n",
              "      <td>94813.859575</td>\n",
              "      <td>1.168375e-15</td>\n",
              "      <td>3.416908e-16</td>\n",
              "      <td>-1.379537e-15</td>\n",
              "      <td>2.074095e-15</td>\n",
              "      <td>9.604066e-16</td>\n",
              "      <td>1.487313e-15</td>\n",
              "      <td>-5.556467e-16</td>\n",
              "      <td>1.213481e-16</td>\n",
              "      <td>-2.406331e-15</td>\n",
              "      <td>...</td>\n",
              "      <td>1.654067e-16</td>\n",
              "      <td>-3.568593e-16</td>\n",
              "      <td>2.578648e-16</td>\n",
              "      <td>4.473266e-15</td>\n",
              "      <td>5.340915e-16</td>\n",
              "      <td>1.683437e-15</td>\n",
              "      <td>-3.660091e-16</td>\n",
              "      <td>-1.227390e-16</td>\n",
              "      <td>88.349619</td>\n",
              "      <td>0.001727</td>\n",
              "    </tr>\n",
              "    <tr>\n",
              "      <th>std</th>\n",
              "      <td>47488.145955</td>\n",
              "      <td>1.958696e+00</td>\n",
              "      <td>1.651309e+00</td>\n",
              "      <td>1.516255e+00</td>\n",
              "      <td>1.415869e+00</td>\n",
              "      <td>1.380247e+00</td>\n",
              "      <td>1.332271e+00</td>\n",
              "      <td>1.237094e+00</td>\n",
              "      <td>1.194353e+00</td>\n",
              "      <td>1.098632e+00</td>\n",
              "      <td>...</td>\n",
              "      <td>7.345240e-01</td>\n",
              "      <td>7.257016e-01</td>\n",
              "      <td>6.244603e-01</td>\n",
              "      <td>6.056471e-01</td>\n",
              "      <td>5.212781e-01</td>\n",
              "      <td>4.822270e-01</td>\n",
              "      <td>4.036325e-01</td>\n",
              "      <td>3.300833e-01</td>\n",
              "      <td>250.120109</td>\n",
              "      <td>0.041527</td>\n",
              "    </tr>\n",
              "    <tr>\n",
              "      <th>min</th>\n",
              "      <td>0.000000</td>\n",
              "      <td>-5.640751e+01</td>\n",
              "      <td>-7.271573e+01</td>\n",
              "      <td>-4.832559e+01</td>\n",
              "      <td>-5.683171e+00</td>\n",
              "      <td>-1.137433e+02</td>\n",
              "      <td>-2.616051e+01</td>\n",
              "      <td>-4.355724e+01</td>\n",
              "      <td>-7.321672e+01</td>\n",
              "      <td>-1.343407e+01</td>\n",
              "      <td>...</td>\n",
              "      <td>-3.483038e+01</td>\n",
              "      <td>-1.093314e+01</td>\n",
              "      <td>-4.480774e+01</td>\n",
              "      <td>-2.836627e+00</td>\n",
              "      <td>-1.029540e+01</td>\n",
              "      <td>-2.604551e+00</td>\n",
              "      <td>-2.256568e+01</td>\n",
              "      <td>-1.543008e+01</td>\n",
              "      <td>0.000000</td>\n",
              "      <td>0.000000</td>\n",
              "    </tr>\n",
              "    <tr>\n",
              "      <th>25%</th>\n",
              "      <td>54201.500000</td>\n",
              "      <td>-9.203734e-01</td>\n",
              "      <td>-5.985499e-01</td>\n",
              "      <td>-8.903648e-01</td>\n",
              "      <td>-8.486401e-01</td>\n",
              "      <td>-6.915971e-01</td>\n",
              "      <td>-7.682956e-01</td>\n",
              "      <td>-5.540759e-01</td>\n",
              "      <td>-2.086297e-01</td>\n",
              "      <td>-6.430976e-01</td>\n",
              "      <td>...</td>\n",
              "      <td>-2.283949e-01</td>\n",
              "      <td>-5.423504e-01</td>\n",
              "      <td>-1.618463e-01</td>\n",
              "      <td>-3.545861e-01</td>\n",
              "      <td>-3.171451e-01</td>\n",
              "      <td>-3.269839e-01</td>\n",
              "      <td>-7.083953e-02</td>\n",
              "      <td>-5.295979e-02</td>\n",
              "      <td>5.600000</td>\n",
              "      <td>0.000000</td>\n",
              "    </tr>\n",
              "    <tr>\n",
              "      <th>50%</th>\n",
              "      <td>84692.000000</td>\n",
              "      <td>1.810880e-02</td>\n",
              "      <td>6.548556e-02</td>\n",
              "      <td>1.798463e-01</td>\n",
              "      <td>-1.984653e-02</td>\n",
              "      <td>-5.433583e-02</td>\n",
              "      <td>-2.741871e-01</td>\n",
              "      <td>4.010308e-02</td>\n",
              "      <td>2.235804e-02</td>\n",
              "      <td>-5.142873e-02</td>\n",
              "      <td>...</td>\n",
              "      <td>-2.945017e-02</td>\n",
              "      <td>6.781943e-03</td>\n",
              "      <td>-1.119293e-02</td>\n",
              "      <td>4.097606e-02</td>\n",
              "      <td>1.659350e-02</td>\n",
              "      <td>-5.213911e-02</td>\n",
              "      <td>1.342146e-03</td>\n",
              "      <td>1.124383e-02</td>\n",
              "      <td>22.000000</td>\n",
              "      <td>0.000000</td>\n",
              "    </tr>\n",
              "    <tr>\n",
              "      <th>75%</th>\n",
              "      <td>139320.500000</td>\n",
              "      <td>1.315642e+00</td>\n",
              "      <td>8.037239e-01</td>\n",
              "      <td>1.027196e+00</td>\n",
              "      <td>7.433413e-01</td>\n",
              "      <td>6.119264e-01</td>\n",
              "      <td>3.985649e-01</td>\n",
              "      <td>5.704361e-01</td>\n",
              "      <td>3.273459e-01</td>\n",
              "      <td>5.971390e-01</td>\n",
              "      <td>...</td>\n",
              "      <td>1.863772e-01</td>\n",
              "      <td>5.285536e-01</td>\n",
              "      <td>1.476421e-01</td>\n",
              "      <td>4.395266e-01</td>\n",
              "      <td>3.507156e-01</td>\n",
              "      <td>2.409522e-01</td>\n",
              "      <td>9.104512e-02</td>\n",
              "      <td>7.827995e-02</td>\n",
              "      <td>77.165000</td>\n",
              "      <td>0.000000</td>\n",
              "    </tr>\n",
              "    <tr>\n",
              "      <th>max</th>\n",
              "      <td>172792.000000</td>\n",
              "      <td>2.454930e+00</td>\n",
              "      <td>2.205773e+01</td>\n",
              "      <td>9.382558e+00</td>\n",
              "      <td>1.687534e+01</td>\n",
              "      <td>3.480167e+01</td>\n",
              "      <td>7.330163e+01</td>\n",
              "      <td>1.205895e+02</td>\n",
              "      <td>2.000721e+01</td>\n",
              "      <td>1.559499e+01</td>\n",
              "      <td>...</td>\n",
              "      <td>2.720284e+01</td>\n",
              "      <td>1.050309e+01</td>\n",
              "      <td>2.252841e+01</td>\n",
              "      <td>4.584549e+00</td>\n",
              "      <td>7.519589e+00</td>\n",
              "      <td>3.517346e+00</td>\n",
              "      <td>3.161220e+01</td>\n",
              "      <td>3.384781e+01</td>\n",
              "      <td>25691.160000</td>\n",
              "      <td>1.000000</td>\n",
              "    </tr>\n",
              "  </tbody>\n",
              "</table>\n",
              "<p>8 rows × 31 columns</p>\n",
              "</div>\n",
              "    <div class=\"colab-df-buttons\">\n",
              "\n",
              "  <div class=\"colab-df-container\">\n",
              "    <button class=\"colab-df-convert\" onclick=\"convertToInteractive('df-a865aa01-866e-4d31-9785-22b737bc39b4')\"\n",
              "            title=\"Convert this dataframe to an interactive table.\"\n",
              "            style=\"display:none;\">\n",
              "\n",
              "  <svg xmlns=\"http://www.w3.org/2000/svg\" height=\"24px\" viewBox=\"0 -960 960 960\">\n",
              "    <path d=\"M120-120v-720h720v720H120Zm60-500h600v-160H180v160Zm220 220h160v-160H400v160Zm0 220h160v-160H400v160ZM180-400h160v-160H180v160Zm440 0h160v-160H620v160ZM180-180h160v-160H180v160Zm440 0h160v-160H620v160Z\"/>\n",
              "  </svg>\n",
              "    </button>\n",
              "\n",
              "  <style>\n",
              "    .colab-df-container {\n",
              "      display:flex;\n",
              "      gap: 12px;\n",
              "    }\n",
              "\n",
              "    .colab-df-convert {\n",
              "      background-color: #E8F0FE;\n",
              "      border: none;\n",
              "      border-radius: 50%;\n",
              "      cursor: pointer;\n",
              "      display: none;\n",
              "      fill: #1967D2;\n",
              "      height: 32px;\n",
              "      padding: 0 0 0 0;\n",
              "      width: 32px;\n",
              "    }\n",
              "\n",
              "    .colab-df-convert:hover {\n",
              "      background-color: #E2EBFA;\n",
              "      box-shadow: 0px 1px 2px rgba(60, 64, 67, 0.3), 0px 1px 3px 1px rgba(60, 64, 67, 0.15);\n",
              "      fill: #174EA6;\n",
              "    }\n",
              "\n",
              "    .colab-df-buttons div {\n",
              "      margin-bottom: 4px;\n",
              "    }\n",
              "\n",
              "    [theme=dark] .colab-df-convert {\n",
              "      background-color: #3B4455;\n",
              "      fill: #D2E3FC;\n",
              "    }\n",
              "\n",
              "    [theme=dark] .colab-df-convert:hover {\n",
              "      background-color: #434B5C;\n",
              "      box-shadow: 0px 1px 3px 1px rgba(0, 0, 0, 0.15);\n",
              "      filter: drop-shadow(0px 1px 2px rgba(0, 0, 0, 0.3));\n",
              "      fill: #FFFFFF;\n",
              "    }\n",
              "  </style>\n",
              "\n",
              "    <script>\n",
              "      const buttonEl =\n",
              "        document.querySelector('#df-a865aa01-866e-4d31-9785-22b737bc39b4 button.colab-df-convert');\n",
              "      buttonEl.style.display =\n",
              "        google.colab.kernel.accessAllowed ? 'block' : 'none';\n",
              "\n",
              "      async function convertToInteractive(key) {\n",
              "        const element = document.querySelector('#df-a865aa01-866e-4d31-9785-22b737bc39b4');\n",
              "        const dataTable =\n",
              "          await google.colab.kernel.invokeFunction('convertToInteractive',\n",
              "                                                    [key], {});\n",
              "        if (!dataTable) return;\n",
              "\n",
              "        const docLinkHtml = 'Like what you see? Visit the ' +\n",
              "          '<a target=\"_blank\" href=https://colab.research.google.com/notebooks/data_table.ipynb>data table notebook</a>'\n",
              "          + ' to learn more about interactive tables.';\n",
              "        element.innerHTML = '';\n",
              "        dataTable['output_type'] = 'display_data';\n",
              "        await google.colab.output.renderOutput(dataTable, element);\n",
              "        const docLink = document.createElement('div');\n",
              "        docLink.innerHTML = docLinkHtml;\n",
              "        element.appendChild(docLink);\n",
              "      }\n",
              "    </script>\n",
              "  </div>\n",
              "\n",
              "\n",
              "<div id=\"df-c506f744-5ba5-4e7c-89b5-0c10cab13447\">\n",
              "  <button class=\"colab-df-quickchart\" onclick=\"quickchart('df-c506f744-5ba5-4e7c-89b5-0c10cab13447')\"\n",
              "            title=\"Suggest charts.\"\n",
              "            style=\"display:none;\">\n",
              "\n",
              "<svg xmlns=\"http://www.w3.org/2000/svg\" height=\"24px\"viewBox=\"0 0 24 24\"\n",
              "     width=\"24px\">\n",
              "    <g>\n",
              "        <path d=\"M19 3H5c-1.1 0-2 .9-2 2v14c0 1.1.9 2 2 2h14c1.1 0 2-.9 2-2V5c0-1.1-.9-2-2-2zM9 17H7v-7h2v7zm4 0h-2V7h2v10zm4 0h-2v-4h2v4z\"/>\n",
              "    </g>\n",
              "</svg>\n",
              "  </button>\n",
              "\n",
              "<style>\n",
              "  .colab-df-quickchart {\n",
              "      --bg-color: #E8F0FE;\n",
              "      --fill-color: #1967D2;\n",
              "      --hover-bg-color: #E2EBFA;\n",
              "      --hover-fill-color: #174EA6;\n",
              "      --disabled-fill-color: #AAA;\n",
              "      --disabled-bg-color: #DDD;\n",
              "  }\n",
              "\n",
              "  [theme=dark] .colab-df-quickchart {\n",
              "      --bg-color: #3B4455;\n",
              "      --fill-color: #D2E3FC;\n",
              "      --hover-bg-color: #434B5C;\n",
              "      --hover-fill-color: #FFFFFF;\n",
              "      --disabled-bg-color: #3B4455;\n",
              "      --disabled-fill-color: #666;\n",
              "  }\n",
              "\n",
              "  .colab-df-quickchart {\n",
              "    background-color: var(--bg-color);\n",
              "    border: none;\n",
              "    border-radius: 50%;\n",
              "    cursor: pointer;\n",
              "    display: none;\n",
              "    fill: var(--fill-color);\n",
              "    height: 32px;\n",
              "    padding: 0;\n",
              "    width: 32px;\n",
              "  }\n",
              "\n",
              "  .colab-df-quickchart:hover {\n",
              "    background-color: var(--hover-bg-color);\n",
              "    box-shadow: 0 1px 2px rgba(60, 64, 67, 0.3), 0 1px 3px 1px rgba(60, 64, 67, 0.15);\n",
              "    fill: var(--button-hover-fill-color);\n",
              "  }\n",
              "\n",
              "  .colab-df-quickchart-complete:disabled,\n",
              "  .colab-df-quickchart-complete:disabled:hover {\n",
              "    background-color: var(--disabled-bg-color);\n",
              "    fill: var(--disabled-fill-color);\n",
              "    box-shadow: none;\n",
              "  }\n",
              "\n",
              "  .colab-df-spinner {\n",
              "    border: 2px solid var(--fill-color);\n",
              "    border-color: transparent;\n",
              "    border-bottom-color: var(--fill-color);\n",
              "    animation:\n",
              "      spin 1s steps(1) infinite;\n",
              "  }\n",
              "\n",
              "  @keyframes spin {\n",
              "    0% {\n",
              "      border-color: transparent;\n",
              "      border-bottom-color: var(--fill-color);\n",
              "      border-left-color: var(--fill-color);\n",
              "    }\n",
              "    20% {\n",
              "      border-color: transparent;\n",
              "      border-left-color: var(--fill-color);\n",
              "      border-top-color: var(--fill-color);\n",
              "    }\n",
              "    30% {\n",
              "      border-color: transparent;\n",
              "      border-left-color: var(--fill-color);\n",
              "      border-top-color: var(--fill-color);\n",
              "      border-right-color: var(--fill-color);\n",
              "    }\n",
              "    40% {\n",
              "      border-color: transparent;\n",
              "      border-right-color: var(--fill-color);\n",
              "      border-top-color: var(--fill-color);\n",
              "    }\n",
              "    60% {\n",
              "      border-color: transparent;\n",
              "      border-right-color: var(--fill-color);\n",
              "    }\n",
              "    80% {\n",
              "      border-color: transparent;\n",
              "      border-right-color: var(--fill-color);\n",
              "      border-bottom-color: var(--fill-color);\n",
              "    }\n",
              "    90% {\n",
              "      border-color: transparent;\n",
              "      border-bottom-color: var(--fill-color);\n",
              "    }\n",
              "  }\n",
              "</style>\n",
              "\n",
              "  <script>\n",
              "    async function quickchart(key) {\n",
              "      const quickchartButtonEl =\n",
              "        document.querySelector('#' + key + ' button');\n",
              "      quickchartButtonEl.disabled = true;  // To prevent multiple clicks.\n",
              "      quickchartButtonEl.classList.add('colab-df-spinner');\n",
              "      try {\n",
              "        const charts = await google.colab.kernel.invokeFunction(\n",
              "            'suggestCharts', [key], {});\n",
              "      } catch (error) {\n",
              "        console.error('Error during call to suggestCharts:', error);\n",
              "      }\n",
              "      quickchartButtonEl.classList.remove('colab-df-spinner');\n",
              "      quickchartButtonEl.classList.add('colab-df-quickchart-complete');\n",
              "    }\n",
              "    (() => {\n",
              "      let quickchartButtonEl =\n",
              "        document.querySelector('#df-c506f744-5ba5-4e7c-89b5-0c10cab13447 button');\n",
              "      quickchartButtonEl.style.display =\n",
              "        google.colab.kernel.accessAllowed ? 'block' : 'none';\n",
              "    })();\n",
              "  </script>\n",
              "</div>\n",
              "    </div>\n",
              "  </div>\n"
            ]
          },
          "metadata": {},
          "execution_count": 6
        }
      ]
    },
    {
      "cell_type": "markdown",
      "source": [
        "- The code begins by displaying the first few rows of the dataset to get a quick overview.\n",
        "- It checks the class distribution to understand the balance between fraudulent and non-fraudulent transactions.\n",
        "- Histograms are created to visualize the distribution of various features in the dataset.\n",
        "- Summary statistics of the dataset are generated to provide insights into feature values.\n",
        "\n",
        "## Data Preprocessing\n"
      ],
      "metadata": {
        "id": "MqGgU41a_Phu"
      }
    },
    {
      "cell_type": "code",
      "source": [
        "from sklearn.preprocessing import RobustScaler\n",
        "new_df = df.copy()\n",
        "new_df['Amount'] = RobustScaler().fit_transform(new_df['Amount'].to_numpy().reshape(-1,1))\n",
        "time = new_df['Time']\n",
        "new_df['Time'] = (time - time.min()) / (time.max() - time.min())\n",
        "new_df"
      ],
      "metadata": {
        "colab": {
          "base_uri": "https://localhost:8080/",
          "height": 444
        },
        "id": "_nc1HmcJXY_p",
        "outputId": "1b941f58-f2fd-4a55-deb1-e4f189481142"
      },
      "execution_count": 7,
      "outputs": [
        {
          "output_type": "execute_result",
          "data": {
            "text/plain": [
              "            Time         V1         V2        V3        V4        V5  \\\n",
              "0       0.000000  -1.359807  -0.072781  2.536347  1.378155 -0.338321   \n",
              "1       0.000000   1.191857   0.266151  0.166480  0.448154  0.060018   \n",
              "2       0.000006  -1.358354  -1.340163  1.773209  0.379780 -0.503198   \n",
              "3       0.000006  -0.966272  -0.185226  1.792993 -0.863291 -0.010309   \n",
              "4       0.000012  -1.158233   0.877737  1.548718  0.403034 -0.407193   \n",
              "...          ...        ...        ...       ...       ...       ...   \n",
              "284802  0.999965 -11.881118  10.071785 -9.834783 -2.066656 -5.364473   \n",
              "284803  0.999971  -0.732789  -0.055080  2.035030 -0.738589  0.868229   \n",
              "284804  0.999977   1.919565  -0.301254 -3.249640 -0.557828  2.630515   \n",
              "284805  0.999977  -0.240440   0.530483  0.702510  0.689799 -0.377961   \n",
              "284806  1.000000  -0.533413  -0.189733  0.703337 -0.506271 -0.012546   \n",
              "\n",
              "              V6        V7        V8        V9  ...       V21       V22  \\\n",
              "0       0.462388  0.239599  0.098698  0.363787  ... -0.018307  0.277838   \n",
              "1      -0.082361 -0.078803  0.085102 -0.255425  ... -0.225775 -0.638672   \n",
              "2       1.800499  0.791461  0.247676 -1.514654  ...  0.247998  0.771679   \n",
              "3       1.247203  0.237609  0.377436 -1.387024  ... -0.108300  0.005274   \n",
              "4       0.095921  0.592941 -0.270533  0.817739  ... -0.009431  0.798278   \n",
              "...          ...       ...       ...       ...  ...       ...       ...   \n",
              "284802 -2.606837 -4.918215  7.305334  1.914428  ...  0.213454  0.111864   \n",
              "284803  1.058415  0.024330  0.294869  0.584800  ...  0.214205  0.924384   \n",
              "284804  3.031260 -0.296827  0.708417  0.432454  ...  0.232045  0.578229   \n",
              "284805  0.623708 -0.686180  0.679145  0.392087  ...  0.265245  0.800049   \n",
              "284806 -0.649617  1.577006 -0.414650  0.486180  ...  0.261057  0.643078   \n",
              "\n",
              "             V23       V24       V25       V26       V27       V28    Amount  \\\n",
              "0      -0.110474  0.066928  0.128539 -0.189115  0.133558 -0.021053  1.783274   \n",
              "1       0.101288 -0.339846  0.167170  0.125895 -0.008983  0.014724 -0.269825   \n",
              "2       0.909412 -0.689281 -0.327642 -0.139097 -0.055353 -0.059752  4.983721   \n",
              "3      -0.190321 -1.175575  0.647376 -0.221929  0.062723  0.061458  1.418291   \n",
              "4      -0.137458  0.141267 -0.206010  0.502292  0.219422  0.215153  0.670579   \n",
              "...          ...       ...       ...       ...       ...       ...       ...   \n",
              "284802  1.014480 -0.509348  1.436807  0.250034  0.943651  0.823731 -0.296653   \n",
              "284803  0.012463 -1.016226 -0.606624 -0.395255  0.068472 -0.053527  0.038986   \n",
              "284804 -0.037501  0.640134  0.265745 -0.087371  0.004455 -0.026561  0.641096   \n",
              "284805 -0.163298  0.123205 -0.569159  0.546668  0.108821  0.104533 -0.167680   \n",
              "284806  0.376777  0.008797 -0.473649 -0.818267 -0.002415  0.013649  2.724796   \n",
              "\n",
              "        Class  \n",
              "0           0  \n",
              "1           0  \n",
              "2           0  \n",
              "3           0  \n",
              "4           0  \n",
              "...       ...  \n",
              "284802      0  \n",
              "284803      0  \n",
              "284804      0  \n",
              "284805      0  \n",
              "284806      0  \n",
              "\n",
              "[284807 rows x 31 columns]"
            ],
            "text/html": [
              "\n",
              "  <div id=\"df-d404c405-84d6-40bf-b2a9-fd5027b6bc6b\" class=\"colab-df-container\">\n",
              "    <div>\n",
              "<style scoped>\n",
              "    .dataframe tbody tr th:only-of-type {\n",
              "        vertical-align: middle;\n",
              "    }\n",
              "\n",
              "    .dataframe tbody tr th {\n",
              "        vertical-align: top;\n",
              "    }\n",
              "\n",
              "    .dataframe thead th {\n",
              "        text-align: right;\n",
              "    }\n",
              "</style>\n",
              "<table border=\"1\" class=\"dataframe\">\n",
              "  <thead>\n",
              "    <tr style=\"text-align: right;\">\n",
              "      <th></th>\n",
              "      <th>Time</th>\n",
              "      <th>V1</th>\n",
              "      <th>V2</th>\n",
              "      <th>V3</th>\n",
              "      <th>V4</th>\n",
              "      <th>V5</th>\n",
              "      <th>V6</th>\n",
              "      <th>V7</th>\n",
              "      <th>V8</th>\n",
              "      <th>V9</th>\n",
              "      <th>...</th>\n",
              "      <th>V21</th>\n",
              "      <th>V22</th>\n",
              "      <th>V23</th>\n",
              "      <th>V24</th>\n",
              "      <th>V25</th>\n",
              "      <th>V26</th>\n",
              "      <th>V27</th>\n",
              "      <th>V28</th>\n",
              "      <th>Amount</th>\n",
              "      <th>Class</th>\n",
              "    </tr>\n",
              "  </thead>\n",
              "  <tbody>\n",
              "    <tr>\n",
              "      <th>0</th>\n",
              "      <td>0.000000</td>\n",
              "      <td>-1.359807</td>\n",
              "      <td>-0.072781</td>\n",
              "      <td>2.536347</td>\n",
              "      <td>1.378155</td>\n",
              "      <td>-0.338321</td>\n",
              "      <td>0.462388</td>\n",
              "      <td>0.239599</td>\n",
              "      <td>0.098698</td>\n",
              "      <td>0.363787</td>\n",
              "      <td>...</td>\n",
              "      <td>-0.018307</td>\n",
              "      <td>0.277838</td>\n",
              "      <td>-0.110474</td>\n",
              "      <td>0.066928</td>\n",
              "      <td>0.128539</td>\n",
              "      <td>-0.189115</td>\n",
              "      <td>0.133558</td>\n",
              "      <td>-0.021053</td>\n",
              "      <td>1.783274</td>\n",
              "      <td>0</td>\n",
              "    </tr>\n",
              "    <tr>\n",
              "      <th>1</th>\n",
              "      <td>0.000000</td>\n",
              "      <td>1.191857</td>\n",
              "      <td>0.266151</td>\n",
              "      <td>0.166480</td>\n",
              "      <td>0.448154</td>\n",
              "      <td>0.060018</td>\n",
              "      <td>-0.082361</td>\n",
              "      <td>-0.078803</td>\n",
              "      <td>0.085102</td>\n",
              "      <td>-0.255425</td>\n",
              "      <td>...</td>\n",
              "      <td>-0.225775</td>\n",
              "      <td>-0.638672</td>\n",
              "      <td>0.101288</td>\n",
              "      <td>-0.339846</td>\n",
              "      <td>0.167170</td>\n",
              "      <td>0.125895</td>\n",
              "      <td>-0.008983</td>\n",
              "      <td>0.014724</td>\n",
              "      <td>-0.269825</td>\n",
              "      <td>0</td>\n",
              "    </tr>\n",
              "    <tr>\n",
              "      <th>2</th>\n",
              "      <td>0.000006</td>\n",
              "      <td>-1.358354</td>\n",
              "      <td>-1.340163</td>\n",
              "      <td>1.773209</td>\n",
              "      <td>0.379780</td>\n",
              "      <td>-0.503198</td>\n",
              "      <td>1.800499</td>\n",
              "      <td>0.791461</td>\n",
              "      <td>0.247676</td>\n",
              "      <td>-1.514654</td>\n",
              "      <td>...</td>\n",
              "      <td>0.247998</td>\n",
              "      <td>0.771679</td>\n",
              "      <td>0.909412</td>\n",
              "      <td>-0.689281</td>\n",
              "      <td>-0.327642</td>\n",
              "      <td>-0.139097</td>\n",
              "      <td>-0.055353</td>\n",
              "      <td>-0.059752</td>\n",
              "      <td>4.983721</td>\n",
              "      <td>0</td>\n",
              "    </tr>\n",
              "    <tr>\n",
              "      <th>3</th>\n",
              "      <td>0.000006</td>\n",
              "      <td>-0.966272</td>\n",
              "      <td>-0.185226</td>\n",
              "      <td>1.792993</td>\n",
              "      <td>-0.863291</td>\n",
              "      <td>-0.010309</td>\n",
              "      <td>1.247203</td>\n",
              "      <td>0.237609</td>\n",
              "      <td>0.377436</td>\n",
              "      <td>-1.387024</td>\n",
              "      <td>...</td>\n",
              "      <td>-0.108300</td>\n",
              "      <td>0.005274</td>\n",
              "      <td>-0.190321</td>\n",
              "      <td>-1.175575</td>\n",
              "      <td>0.647376</td>\n",
              "      <td>-0.221929</td>\n",
              "      <td>0.062723</td>\n",
              "      <td>0.061458</td>\n",
              "      <td>1.418291</td>\n",
              "      <td>0</td>\n",
              "    </tr>\n",
              "    <tr>\n",
              "      <th>4</th>\n",
              "      <td>0.000012</td>\n",
              "      <td>-1.158233</td>\n",
              "      <td>0.877737</td>\n",
              "      <td>1.548718</td>\n",
              "      <td>0.403034</td>\n",
              "      <td>-0.407193</td>\n",
              "      <td>0.095921</td>\n",
              "      <td>0.592941</td>\n",
              "      <td>-0.270533</td>\n",
              "      <td>0.817739</td>\n",
              "      <td>...</td>\n",
              "      <td>-0.009431</td>\n",
              "      <td>0.798278</td>\n",
              "      <td>-0.137458</td>\n",
              "      <td>0.141267</td>\n",
              "      <td>-0.206010</td>\n",
              "      <td>0.502292</td>\n",
              "      <td>0.219422</td>\n",
              "      <td>0.215153</td>\n",
              "      <td>0.670579</td>\n",
              "      <td>0</td>\n",
              "    </tr>\n",
              "    <tr>\n",
              "      <th>...</th>\n",
              "      <td>...</td>\n",
              "      <td>...</td>\n",
              "      <td>...</td>\n",
              "      <td>...</td>\n",
              "      <td>...</td>\n",
              "      <td>...</td>\n",
              "      <td>...</td>\n",
              "      <td>...</td>\n",
              "      <td>...</td>\n",
              "      <td>...</td>\n",
              "      <td>...</td>\n",
              "      <td>...</td>\n",
              "      <td>...</td>\n",
              "      <td>...</td>\n",
              "      <td>...</td>\n",
              "      <td>...</td>\n",
              "      <td>...</td>\n",
              "      <td>...</td>\n",
              "      <td>...</td>\n",
              "      <td>...</td>\n",
              "      <td>...</td>\n",
              "    </tr>\n",
              "    <tr>\n",
              "      <th>284802</th>\n",
              "      <td>0.999965</td>\n",
              "      <td>-11.881118</td>\n",
              "      <td>10.071785</td>\n",
              "      <td>-9.834783</td>\n",
              "      <td>-2.066656</td>\n",
              "      <td>-5.364473</td>\n",
              "      <td>-2.606837</td>\n",
              "      <td>-4.918215</td>\n",
              "      <td>7.305334</td>\n",
              "      <td>1.914428</td>\n",
              "      <td>...</td>\n",
              "      <td>0.213454</td>\n",
              "      <td>0.111864</td>\n",
              "      <td>1.014480</td>\n",
              "      <td>-0.509348</td>\n",
              "      <td>1.436807</td>\n",
              "      <td>0.250034</td>\n",
              "      <td>0.943651</td>\n",
              "      <td>0.823731</td>\n",
              "      <td>-0.296653</td>\n",
              "      <td>0</td>\n",
              "    </tr>\n",
              "    <tr>\n",
              "      <th>284803</th>\n",
              "      <td>0.999971</td>\n",
              "      <td>-0.732789</td>\n",
              "      <td>-0.055080</td>\n",
              "      <td>2.035030</td>\n",
              "      <td>-0.738589</td>\n",
              "      <td>0.868229</td>\n",
              "      <td>1.058415</td>\n",
              "      <td>0.024330</td>\n",
              "      <td>0.294869</td>\n",
              "      <td>0.584800</td>\n",
              "      <td>...</td>\n",
              "      <td>0.214205</td>\n",
              "      <td>0.924384</td>\n",
              "      <td>0.012463</td>\n",
              "      <td>-1.016226</td>\n",
              "      <td>-0.606624</td>\n",
              "      <td>-0.395255</td>\n",
              "      <td>0.068472</td>\n",
              "      <td>-0.053527</td>\n",
              "      <td>0.038986</td>\n",
              "      <td>0</td>\n",
              "    </tr>\n",
              "    <tr>\n",
              "      <th>284804</th>\n",
              "      <td>0.999977</td>\n",
              "      <td>1.919565</td>\n",
              "      <td>-0.301254</td>\n",
              "      <td>-3.249640</td>\n",
              "      <td>-0.557828</td>\n",
              "      <td>2.630515</td>\n",
              "      <td>3.031260</td>\n",
              "      <td>-0.296827</td>\n",
              "      <td>0.708417</td>\n",
              "      <td>0.432454</td>\n",
              "      <td>...</td>\n",
              "      <td>0.232045</td>\n",
              "      <td>0.578229</td>\n",
              "      <td>-0.037501</td>\n",
              "      <td>0.640134</td>\n",
              "      <td>0.265745</td>\n",
              "      <td>-0.087371</td>\n",
              "      <td>0.004455</td>\n",
              "      <td>-0.026561</td>\n",
              "      <td>0.641096</td>\n",
              "      <td>0</td>\n",
              "    </tr>\n",
              "    <tr>\n",
              "      <th>284805</th>\n",
              "      <td>0.999977</td>\n",
              "      <td>-0.240440</td>\n",
              "      <td>0.530483</td>\n",
              "      <td>0.702510</td>\n",
              "      <td>0.689799</td>\n",
              "      <td>-0.377961</td>\n",
              "      <td>0.623708</td>\n",
              "      <td>-0.686180</td>\n",
              "      <td>0.679145</td>\n",
              "      <td>0.392087</td>\n",
              "      <td>...</td>\n",
              "      <td>0.265245</td>\n",
              "      <td>0.800049</td>\n",
              "      <td>-0.163298</td>\n",
              "      <td>0.123205</td>\n",
              "      <td>-0.569159</td>\n",
              "      <td>0.546668</td>\n",
              "      <td>0.108821</td>\n",
              "      <td>0.104533</td>\n",
              "      <td>-0.167680</td>\n",
              "      <td>0</td>\n",
              "    </tr>\n",
              "    <tr>\n",
              "      <th>284806</th>\n",
              "      <td>1.000000</td>\n",
              "      <td>-0.533413</td>\n",
              "      <td>-0.189733</td>\n",
              "      <td>0.703337</td>\n",
              "      <td>-0.506271</td>\n",
              "      <td>-0.012546</td>\n",
              "      <td>-0.649617</td>\n",
              "      <td>1.577006</td>\n",
              "      <td>-0.414650</td>\n",
              "      <td>0.486180</td>\n",
              "      <td>...</td>\n",
              "      <td>0.261057</td>\n",
              "      <td>0.643078</td>\n",
              "      <td>0.376777</td>\n",
              "      <td>0.008797</td>\n",
              "      <td>-0.473649</td>\n",
              "      <td>-0.818267</td>\n",
              "      <td>-0.002415</td>\n",
              "      <td>0.013649</td>\n",
              "      <td>2.724796</td>\n",
              "      <td>0</td>\n",
              "    </tr>\n",
              "  </tbody>\n",
              "</table>\n",
              "<p>284807 rows × 31 columns</p>\n",
              "</div>\n",
              "    <div class=\"colab-df-buttons\">\n",
              "\n",
              "  <div class=\"colab-df-container\">\n",
              "    <button class=\"colab-df-convert\" onclick=\"convertToInteractive('df-d404c405-84d6-40bf-b2a9-fd5027b6bc6b')\"\n",
              "            title=\"Convert this dataframe to an interactive table.\"\n",
              "            style=\"display:none;\">\n",
              "\n",
              "  <svg xmlns=\"http://www.w3.org/2000/svg\" height=\"24px\" viewBox=\"0 -960 960 960\">\n",
              "    <path d=\"M120-120v-720h720v720H120Zm60-500h600v-160H180v160Zm220 220h160v-160H400v160Zm0 220h160v-160H400v160ZM180-400h160v-160H180v160Zm440 0h160v-160H620v160ZM180-180h160v-160H180v160Zm440 0h160v-160H620v160Z\"/>\n",
              "  </svg>\n",
              "    </button>\n",
              "\n",
              "  <style>\n",
              "    .colab-df-container {\n",
              "      display:flex;\n",
              "      gap: 12px;\n",
              "    }\n",
              "\n",
              "    .colab-df-convert {\n",
              "      background-color: #E8F0FE;\n",
              "      border: none;\n",
              "      border-radius: 50%;\n",
              "      cursor: pointer;\n",
              "      display: none;\n",
              "      fill: #1967D2;\n",
              "      height: 32px;\n",
              "      padding: 0 0 0 0;\n",
              "      width: 32px;\n",
              "    }\n",
              "\n",
              "    .colab-df-convert:hover {\n",
              "      background-color: #E2EBFA;\n",
              "      box-shadow: 0px 1px 2px rgba(60, 64, 67, 0.3), 0px 1px 3px 1px rgba(60, 64, 67, 0.15);\n",
              "      fill: #174EA6;\n",
              "    }\n",
              "\n",
              "    .colab-df-buttons div {\n",
              "      margin-bottom: 4px;\n",
              "    }\n",
              "\n",
              "    [theme=dark] .colab-df-convert {\n",
              "      background-color: #3B4455;\n",
              "      fill: #D2E3FC;\n",
              "    }\n",
              "\n",
              "    [theme=dark] .colab-df-convert:hover {\n",
              "      background-color: #434B5C;\n",
              "      box-shadow: 0px 1px 3px 1px rgba(0, 0, 0, 0.15);\n",
              "      filter: drop-shadow(0px 1px 2px rgba(0, 0, 0, 0.3));\n",
              "      fill: #FFFFFF;\n",
              "    }\n",
              "  </style>\n",
              "\n",
              "    <script>\n",
              "      const buttonEl =\n",
              "        document.querySelector('#df-d404c405-84d6-40bf-b2a9-fd5027b6bc6b button.colab-df-convert');\n",
              "      buttonEl.style.display =\n",
              "        google.colab.kernel.accessAllowed ? 'block' : 'none';\n",
              "\n",
              "      async function convertToInteractive(key) {\n",
              "        const element = document.querySelector('#df-d404c405-84d6-40bf-b2a9-fd5027b6bc6b');\n",
              "        const dataTable =\n",
              "          await google.colab.kernel.invokeFunction('convertToInteractive',\n",
              "                                                    [key], {});\n",
              "        if (!dataTable) return;\n",
              "\n",
              "        const docLinkHtml = 'Like what you see? Visit the ' +\n",
              "          '<a target=\"_blank\" href=https://colab.research.google.com/notebooks/data_table.ipynb>data table notebook</a>'\n",
              "          + ' to learn more about interactive tables.';\n",
              "        element.innerHTML = '';\n",
              "        dataTable['output_type'] = 'display_data';\n",
              "        await google.colab.output.renderOutput(dataTable, element);\n",
              "        const docLink = document.createElement('div');\n",
              "        docLink.innerHTML = docLinkHtml;\n",
              "        element.appendChild(docLink);\n",
              "      }\n",
              "    </script>\n",
              "  </div>\n",
              "\n",
              "\n",
              "<div id=\"df-2eab0984-1e62-4a7b-a3dc-e3ec2443917f\">\n",
              "  <button class=\"colab-df-quickchart\" onclick=\"quickchart('df-2eab0984-1e62-4a7b-a3dc-e3ec2443917f')\"\n",
              "            title=\"Suggest charts.\"\n",
              "            style=\"display:none;\">\n",
              "\n",
              "<svg xmlns=\"http://www.w3.org/2000/svg\" height=\"24px\"viewBox=\"0 0 24 24\"\n",
              "     width=\"24px\">\n",
              "    <g>\n",
              "        <path d=\"M19 3H5c-1.1 0-2 .9-2 2v14c0 1.1.9 2 2 2h14c1.1 0 2-.9 2-2V5c0-1.1-.9-2-2-2zM9 17H7v-7h2v7zm4 0h-2V7h2v10zm4 0h-2v-4h2v4z\"/>\n",
              "    </g>\n",
              "</svg>\n",
              "  </button>\n",
              "\n",
              "<style>\n",
              "  .colab-df-quickchart {\n",
              "      --bg-color: #E8F0FE;\n",
              "      --fill-color: #1967D2;\n",
              "      --hover-bg-color: #E2EBFA;\n",
              "      --hover-fill-color: #174EA6;\n",
              "      --disabled-fill-color: #AAA;\n",
              "      --disabled-bg-color: #DDD;\n",
              "  }\n",
              "\n",
              "  [theme=dark] .colab-df-quickchart {\n",
              "      --bg-color: #3B4455;\n",
              "      --fill-color: #D2E3FC;\n",
              "      --hover-bg-color: #434B5C;\n",
              "      --hover-fill-color: #FFFFFF;\n",
              "      --disabled-bg-color: #3B4455;\n",
              "      --disabled-fill-color: #666;\n",
              "  }\n",
              "\n",
              "  .colab-df-quickchart {\n",
              "    background-color: var(--bg-color);\n",
              "    border: none;\n",
              "    border-radius: 50%;\n",
              "    cursor: pointer;\n",
              "    display: none;\n",
              "    fill: var(--fill-color);\n",
              "    height: 32px;\n",
              "    padding: 0;\n",
              "    width: 32px;\n",
              "  }\n",
              "\n",
              "  .colab-df-quickchart:hover {\n",
              "    background-color: var(--hover-bg-color);\n",
              "    box-shadow: 0 1px 2px rgba(60, 64, 67, 0.3), 0 1px 3px 1px rgba(60, 64, 67, 0.15);\n",
              "    fill: var(--button-hover-fill-color);\n",
              "  }\n",
              "\n",
              "  .colab-df-quickchart-complete:disabled,\n",
              "  .colab-df-quickchart-complete:disabled:hover {\n",
              "    background-color: var(--disabled-bg-color);\n",
              "    fill: var(--disabled-fill-color);\n",
              "    box-shadow: none;\n",
              "  }\n",
              "\n",
              "  .colab-df-spinner {\n",
              "    border: 2px solid var(--fill-color);\n",
              "    border-color: transparent;\n",
              "    border-bottom-color: var(--fill-color);\n",
              "    animation:\n",
              "      spin 1s steps(1) infinite;\n",
              "  }\n",
              "\n",
              "  @keyframes spin {\n",
              "    0% {\n",
              "      border-color: transparent;\n",
              "      border-bottom-color: var(--fill-color);\n",
              "      border-left-color: var(--fill-color);\n",
              "    }\n",
              "    20% {\n",
              "      border-color: transparent;\n",
              "      border-left-color: var(--fill-color);\n",
              "      border-top-color: var(--fill-color);\n",
              "    }\n",
              "    30% {\n",
              "      border-color: transparent;\n",
              "      border-left-color: var(--fill-color);\n",
              "      border-top-color: var(--fill-color);\n",
              "      border-right-color: var(--fill-color);\n",
              "    }\n",
              "    40% {\n",
              "      border-color: transparent;\n",
              "      border-right-color: var(--fill-color);\n",
              "      border-top-color: var(--fill-color);\n",
              "    }\n",
              "    60% {\n",
              "      border-color: transparent;\n",
              "      border-right-color: var(--fill-color);\n",
              "    }\n",
              "    80% {\n",
              "      border-color: transparent;\n",
              "      border-right-color: var(--fill-color);\n",
              "      border-bottom-color: var(--fill-color);\n",
              "    }\n",
              "    90% {\n",
              "      border-color: transparent;\n",
              "      border-bottom-color: var(--fill-color);\n",
              "    }\n",
              "  }\n",
              "</style>\n",
              "\n",
              "  <script>\n",
              "    async function quickchart(key) {\n",
              "      const quickchartButtonEl =\n",
              "        document.querySelector('#' + key + ' button');\n",
              "      quickchartButtonEl.disabled = true;  // To prevent multiple clicks.\n",
              "      quickchartButtonEl.classList.add('colab-df-spinner');\n",
              "      try {\n",
              "        const charts = await google.colab.kernel.invokeFunction(\n",
              "            'suggestCharts', [key], {});\n",
              "      } catch (error) {\n",
              "        console.error('Error during call to suggestCharts:', error);\n",
              "      }\n",
              "      quickchartButtonEl.classList.remove('colab-df-spinner');\n",
              "      quickchartButtonEl.classList.add('colab-df-quickchart-complete');\n",
              "    }\n",
              "    (() => {\n",
              "      let quickchartButtonEl =\n",
              "        document.querySelector('#df-2eab0984-1e62-4a7b-a3dc-e3ec2443917f button');\n",
              "      quickchartButtonEl.style.display =\n",
              "        google.colab.kernel.accessAllowed ? 'block' : 'none';\n",
              "    })();\n",
              "  </script>\n",
              "</div>\n",
              "    </div>\n",
              "  </div>\n"
            ]
          },
          "metadata": {},
          "execution_count": 7
        }
      ]
    },
    {
      "cell_type": "code",
      "source": [
        "new_df['Amount'].describe()"
      ],
      "metadata": {
        "colab": {
          "base_uri": "https://localhost:8080/",
          "height": 0
        },
        "id": "YFgv-CD2Yql8",
        "outputId": "2a2c52a1-8769-4b5d-eae2-c7318585e466"
      },
      "execution_count": 8,
      "outputs": [
        {
          "output_type": "execute_result",
          "data": {
            "text/plain": [
              "count    284807.000000\n",
              "mean          0.927124\n",
              "std           3.495006\n",
              "min          -0.307413\n",
              "25%          -0.229162\n",
              "50%           0.000000\n",
              "75%           0.770838\n",
              "max         358.683155\n",
              "Name: Amount, dtype: float64"
            ]
          },
          "metadata": {},
          "execution_count": 8
        }
      ]
    },
    {
      "cell_type": "code",
      "source": [
        "new_df = new_df.sample(frac = 1, random_state = 10)\n",
        "new_df"
      ],
      "metadata": {
        "colab": {
          "base_uri": "https://localhost:8080/",
          "height": 444
        },
        "id": "eP-yD6gbZEss",
        "outputId": "d82204fd-6003-4d21-b96b-4ed92f564945"
      },
      "execution_count": 74,
      "outputs": [
        {
          "output_type": "execute_result",
          "data": {
            "text/plain": [
              "            Time        V1        V2        V3        V4        V5        V6  \\\n",
              "85148   0.350879  0.855339 -0.185819  0.120842  1.526485 -0.285417 -0.518320   \n",
              "149762  0.531680 -0.505885  0.818266 -0.675985  0.314804 -1.357524  0.073789   \n",
              "209661  0.796640  2.085179  0.438030 -2.362942  1.108901  1.107774 -1.144720   \n",
              "222405  0.827330 -1.350580 -1.029833 -3.957191 -1.783271 -5.745423  1.814180   \n",
              "83376   0.346173 -0.869154  1.063008  0.531097 -0.434466  2.297790  3.836094   \n",
              "...          ...       ...       ...       ...       ...       ...       ...   \n",
              "147221  0.510753 -2.183964  2.872384 -1.537211 -1.327755  0.917332 -0.512355   \n",
              "51744   0.261007 -0.955900  0.960074  1.301019 -0.204221  1.736682 -0.742394   \n",
              "51830   0.261262  1.212271  0.272509  0.349253  1.099325 -0.057433 -0.177223   \n",
              "123263  0.444847  1.257227  0.408096  0.319266  0.685011 -0.302937 -1.052552   \n",
              "48541   0.252842 -0.678707  1.669535 -2.104628  0.972058  1.632863 -0.799076   \n",
              "\n",
              "              V7        V8        V9  ...       V21       V22       V23  \\\n",
              "85148   0.479948 -0.175846 -0.026699  ...  0.116620  0.168393 -0.225554   \n",
              "149762  0.489827  0.551774  1.612137  ... -0.185152 -0.318125  0.896097   \n",
              "209661  1.045061 -0.516641 -0.603865  ...  0.338745  1.181157 -0.280667   \n",
              "222405  5.859076 -0.717178 -3.611308  ...  0.344089  1.460073  0.939968   \n",
              "83376   0.036158  0.900121 -0.515299  ... -0.218735 -0.682241 -0.208660   \n",
              "...          ...       ...       ...  ...       ...       ...       ...   \n",
              "147221  1.213096 -0.350104  2.028610  ... -0.047185  1.059022 -0.104211   \n",
              "51744   1.647719 -0.793022 -0.658262  ... -0.059512  0.109230 -0.650302   \n",
              "51830  -0.030707  0.015333  0.091770  ... -0.076109 -0.179511 -0.006329   \n",
              "123263  0.136991 -0.245655 -0.079491  ... -0.279430 -0.770134  0.119789   \n",
              "48541   2.396927 -1.540584  1.773944  ... -0.760394 -0.146269 -0.014711   \n",
              "\n",
              "             V24       V25       V26       V27       V28     Amount  Class  \n",
              "85148   0.430973  0.670046 -0.269494 -0.003453  0.042840   2.044295      0  \n",
              "149762  0.997562 -2.464863 -0.914180  0.119750  0.180951   2.974219      0  \n",
              "209661 -0.270470  0.912059 -0.196488 -0.054088 -0.091348  -0.293440      0  \n",
              "222405  1.188477 -0.238870  0.132926  0.366899 -0.218311  18.693915      0  \n",
              "83376   0.958966  0.234383 -0.553697 -0.617679 -0.437372  -0.167819      0  \n",
              "...          ...       ...       ...       ...       ...        ...    ...  \n",
              "147221  0.067335 -0.076049 -0.193235  1.501895  0.784850  -0.243415      0  \n",
              "51744  -0.413200  0.944704 -0.405218 -0.607829 -0.301245  -0.293440      0  \n",
              "51830  -0.308991  0.464313 -0.395154  0.036796  0.018748  -0.279466      0  \n",
              "123263  0.360130  0.241921  0.092261 -0.018228  0.032361  -0.282540      0  \n",
              "48541  -0.875905 -0.282768 -0.593085 -1.117225 -1.180308   0.950045      0  \n",
              "\n",
              "[284807 rows x 31 columns]"
            ],
            "text/html": [
              "\n",
              "  <div id=\"df-94566f94-ad00-4113-b074-7af2103d8e3a\" class=\"colab-df-container\">\n",
              "    <div>\n",
              "<style scoped>\n",
              "    .dataframe tbody tr th:only-of-type {\n",
              "        vertical-align: middle;\n",
              "    }\n",
              "\n",
              "    .dataframe tbody tr th {\n",
              "        vertical-align: top;\n",
              "    }\n",
              "\n",
              "    .dataframe thead th {\n",
              "        text-align: right;\n",
              "    }\n",
              "</style>\n",
              "<table border=\"1\" class=\"dataframe\">\n",
              "  <thead>\n",
              "    <tr style=\"text-align: right;\">\n",
              "      <th></th>\n",
              "      <th>Time</th>\n",
              "      <th>V1</th>\n",
              "      <th>V2</th>\n",
              "      <th>V3</th>\n",
              "      <th>V4</th>\n",
              "      <th>V5</th>\n",
              "      <th>V6</th>\n",
              "      <th>V7</th>\n",
              "      <th>V8</th>\n",
              "      <th>V9</th>\n",
              "      <th>...</th>\n",
              "      <th>V21</th>\n",
              "      <th>V22</th>\n",
              "      <th>V23</th>\n",
              "      <th>V24</th>\n",
              "      <th>V25</th>\n",
              "      <th>V26</th>\n",
              "      <th>V27</th>\n",
              "      <th>V28</th>\n",
              "      <th>Amount</th>\n",
              "      <th>Class</th>\n",
              "    </tr>\n",
              "  </thead>\n",
              "  <tbody>\n",
              "    <tr>\n",
              "      <th>85148</th>\n",
              "      <td>0.350879</td>\n",
              "      <td>0.855339</td>\n",
              "      <td>-0.185819</td>\n",
              "      <td>0.120842</td>\n",
              "      <td>1.526485</td>\n",
              "      <td>-0.285417</td>\n",
              "      <td>-0.518320</td>\n",
              "      <td>0.479948</td>\n",
              "      <td>-0.175846</td>\n",
              "      <td>-0.026699</td>\n",
              "      <td>...</td>\n",
              "      <td>0.116620</td>\n",
              "      <td>0.168393</td>\n",
              "      <td>-0.225554</td>\n",
              "      <td>0.430973</td>\n",
              "      <td>0.670046</td>\n",
              "      <td>-0.269494</td>\n",
              "      <td>-0.003453</td>\n",
              "      <td>0.042840</td>\n",
              "      <td>2.044295</td>\n",
              "      <td>0</td>\n",
              "    </tr>\n",
              "    <tr>\n",
              "      <th>149762</th>\n",
              "      <td>0.531680</td>\n",
              "      <td>-0.505885</td>\n",
              "      <td>0.818266</td>\n",
              "      <td>-0.675985</td>\n",
              "      <td>0.314804</td>\n",
              "      <td>-1.357524</td>\n",
              "      <td>0.073789</td>\n",
              "      <td>0.489827</td>\n",
              "      <td>0.551774</td>\n",
              "      <td>1.612137</td>\n",
              "      <td>...</td>\n",
              "      <td>-0.185152</td>\n",
              "      <td>-0.318125</td>\n",
              "      <td>0.896097</td>\n",
              "      <td>0.997562</td>\n",
              "      <td>-2.464863</td>\n",
              "      <td>-0.914180</td>\n",
              "      <td>0.119750</td>\n",
              "      <td>0.180951</td>\n",
              "      <td>2.974219</td>\n",
              "      <td>0</td>\n",
              "    </tr>\n",
              "    <tr>\n",
              "      <th>209661</th>\n",
              "      <td>0.796640</td>\n",
              "      <td>2.085179</td>\n",
              "      <td>0.438030</td>\n",
              "      <td>-2.362942</td>\n",
              "      <td>1.108901</td>\n",
              "      <td>1.107774</td>\n",
              "      <td>-1.144720</td>\n",
              "      <td>1.045061</td>\n",
              "      <td>-0.516641</td>\n",
              "      <td>-0.603865</td>\n",
              "      <td>...</td>\n",
              "      <td>0.338745</td>\n",
              "      <td>1.181157</td>\n",
              "      <td>-0.280667</td>\n",
              "      <td>-0.270470</td>\n",
              "      <td>0.912059</td>\n",
              "      <td>-0.196488</td>\n",
              "      <td>-0.054088</td>\n",
              "      <td>-0.091348</td>\n",
              "      <td>-0.293440</td>\n",
              "      <td>0</td>\n",
              "    </tr>\n",
              "    <tr>\n",
              "      <th>222405</th>\n",
              "      <td>0.827330</td>\n",
              "      <td>-1.350580</td>\n",
              "      <td>-1.029833</td>\n",
              "      <td>-3.957191</td>\n",
              "      <td>-1.783271</td>\n",
              "      <td>-5.745423</td>\n",
              "      <td>1.814180</td>\n",
              "      <td>5.859076</td>\n",
              "      <td>-0.717178</td>\n",
              "      <td>-3.611308</td>\n",
              "      <td>...</td>\n",
              "      <td>0.344089</td>\n",
              "      <td>1.460073</td>\n",
              "      <td>0.939968</td>\n",
              "      <td>1.188477</td>\n",
              "      <td>-0.238870</td>\n",
              "      <td>0.132926</td>\n",
              "      <td>0.366899</td>\n",
              "      <td>-0.218311</td>\n",
              "      <td>18.693915</td>\n",
              "      <td>0</td>\n",
              "    </tr>\n",
              "    <tr>\n",
              "      <th>83376</th>\n",
              "      <td>0.346173</td>\n",
              "      <td>-0.869154</td>\n",
              "      <td>1.063008</td>\n",
              "      <td>0.531097</td>\n",
              "      <td>-0.434466</td>\n",
              "      <td>2.297790</td>\n",
              "      <td>3.836094</td>\n",
              "      <td>0.036158</td>\n",
              "      <td>0.900121</td>\n",
              "      <td>-0.515299</td>\n",
              "      <td>...</td>\n",
              "      <td>-0.218735</td>\n",
              "      <td>-0.682241</td>\n",
              "      <td>-0.208660</td>\n",
              "      <td>0.958966</td>\n",
              "      <td>0.234383</td>\n",
              "      <td>-0.553697</td>\n",
              "      <td>-0.617679</td>\n",
              "      <td>-0.437372</td>\n",
              "      <td>-0.167819</td>\n",
              "      <td>0</td>\n",
              "    </tr>\n",
              "    <tr>\n",
              "      <th>...</th>\n",
              "      <td>...</td>\n",
              "      <td>...</td>\n",
              "      <td>...</td>\n",
              "      <td>...</td>\n",
              "      <td>...</td>\n",
              "      <td>...</td>\n",
              "      <td>...</td>\n",
              "      <td>...</td>\n",
              "      <td>...</td>\n",
              "      <td>...</td>\n",
              "      <td>...</td>\n",
              "      <td>...</td>\n",
              "      <td>...</td>\n",
              "      <td>...</td>\n",
              "      <td>...</td>\n",
              "      <td>...</td>\n",
              "      <td>...</td>\n",
              "      <td>...</td>\n",
              "      <td>...</td>\n",
              "      <td>...</td>\n",
              "      <td>...</td>\n",
              "    </tr>\n",
              "    <tr>\n",
              "      <th>147221</th>\n",
              "      <td>0.510753</td>\n",
              "      <td>-2.183964</td>\n",
              "      <td>2.872384</td>\n",
              "      <td>-1.537211</td>\n",
              "      <td>-1.327755</td>\n",
              "      <td>0.917332</td>\n",
              "      <td>-0.512355</td>\n",
              "      <td>1.213096</td>\n",
              "      <td>-0.350104</td>\n",
              "      <td>2.028610</td>\n",
              "      <td>...</td>\n",
              "      <td>-0.047185</td>\n",
              "      <td>1.059022</td>\n",
              "      <td>-0.104211</td>\n",
              "      <td>0.067335</td>\n",
              "      <td>-0.076049</td>\n",
              "      <td>-0.193235</td>\n",
              "      <td>1.501895</td>\n",
              "      <td>0.784850</td>\n",
              "      <td>-0.243415</td>\n",
              "      <td>0</td>\n",
              "    </tr>\n",
              "    <tr>\n",
              "      <th>51744</th>\n",
              "      <td>0.261007</td>\n",
              "      <td>-0.955900</td>\n",
              "      <td>0.960074</td>\n",
              "      <td>1.301019</td>\n",
              "      <td>-0.204221</td>\n",
              "      <td>1.736682</td>\n",
              "      <td>-0.742394</td>\n",
              "      <td>1.647719</td>\n",
              "      <td>-0.793022</td>\n",
              "      <td>-0.658262</td>\n",
              "      <td>...</td>\n",
              "      <td>-0.059512</td>\n",
              "      <td>0.109230</td>\n",
              "      <td>-0.650302</td>\n",
              "      <td>-0.413200</td>\n",
              "      <td>0.944704</td>\n",
              "      <td>-0.405218</td>\n",
              "      <td>-0.607829</td>\n",
              "      <td>-0.301245</td>\n",
              "      <td>-0.293440</td>\n",
              "      <td>0</td>\n",
              "    </tr>\n",
              "    <tr>\n",
              "      <th>51830</th>\n",
              "      <td>0.261262</td>\n",
              "      <td>1.212271</td>\n",
              "      <td>0.272509</td>\n",
              "      <td>0.349253</td>\n",
              "      <td>1.099325</td>\n",
              "      <td>-0.057433</td>\n",
              "      <td>-0.177223</td>\n",
              "      <td>-0.030707</td>\n",
              "      <td>0.015333</td>\n",
              "      <td>0.091770</td>\n",
              "      <td>...</td>\n",
              "      <td>-0.076109</td>\n",
              "      <td>-0.179511</td>\n",
              "      <td>-0.006329</td>\n",
              "      <td>-0.308991</td>\n",
              "      <td>0.464313</td>\n",
              "      <td>-0.395154</td>\n",
              "      <td>0.036796</td>\n",
              "      <td>0.018748</td>\n",
              "      <td>-0.279466</td>\n",
              "      <td>0</td>\n",
              "    </tr>\n",
              "    <tr>\n",
              "      <th>123263</th>\n",
              "      <td>0.444847</td>\n",
              "      <td>1.257227</td>\n",
              "      <td>0.408096</td>\n",
              "      <td>0.319266</td>\n",
              "      <td>0.685011</td>\n",
              "      <td>-0.302937</td>\n",
              "      <td>-1.052552</td>\n",
              "      <td>0.136991</td>\n",
              "      <td>-0.245655</td>\n",
              "      <td>-0.079491</td>\n",
              "      <td>...</td>\n",
              "      <td>-0.279430</td>\n",
              "      <td>-0.770134</td>\n",
              "      <td>0.119789</td>\n",
              "      <td>0.360130</td>\n",
              "      <td>0.241921</td>\n",
              "      <td>0.092261</td>\n",
              "      <td>-0.018228</td>\n",
              "      <td>0.032361</td>\n",
              "      <td>-0.282540</td>\n",
              "      <td>0</td>\n",
              "    </tr>\n",
              "    <tr>\n",
              "      <th>48541</th>\n",
              "      <td>0.252842</td>\n",
              "      <td>-0.678707</td>\n",
              "      <td>1.669535</td>\n",
              "      <td>-2.104628</td>\n",
              "      <td>0.972058</td>\n",
              "      <td>1.632863</td>\n",
              "      <td>-0.799076</td>\n",
              "      <td>2.396927</td>\n",
              "      <td>-1.540584</td>\n",
              "      <td>1.773944</td>\n",
              "      <td>...</td>\n",
              "      <td>-0.760394</td>\n",
              "      <td>-0.146269</td>\n",
              "      <td>-0.014711</td>\n",
              "      <td>-0.875905</td>\n",
              "      <td>-0.282768</td>\n",
              "      <td>-0.593085</td>\n",
              "      <td>-1.117225</td>\n",
              "      <td>-1.180308</td>\n",
              "      <td>0.950045</td>\n",
              "      <td>0</td>\n",
              "    </tr>\n",
              "  </tbody>\n",
              "</table>\n",
              "<p>284807 rows × 31 columns</p>\n",
              "</div>\n",
              "    <div class=\"colab-df-buttons\">\n",
              "\n",
              "  <div class=\"colab-df-container\">\n",
              "    <button class=\"colab-df-convert\" onclick=\"convertToInteractive('df-94566f94-ad00-4113-b074-7af2103d8e3a')\"\n",
              "            title=\"Convert this dataframe to an interactive table.\"\n",
              "            style=\"display:none;\">\n",
              "\n",
              "  <svg xmlns=\"http://www.w3.org/2000/svg\" height=\"24px\" viewBox=\"0 -960 960 960\">\n",
              "    <path d=\"M120-120v-720h720v720H120Zm60-500h600v-160H180v160Zm220 220h160v-160H400v160Zm0 220h160v-160H400v160ZM180-400h160v-160H180v160Zm440 0h160v-160H620v160ZM180-180h160v-160H180v160Zm440 0h160v-160H620v160Z\"/>\n",
              "  </svg>\n",
              "    </button>\n",
              "\n",
              "  <style>\n",
              "    .colab-df-container {\n",
              "      display:flex;\n",
              "      gap: 12px;\n",
              "    }\n",
              "\n",
              "    .colab-df-convert {\n",
              "      background-color: #E8F0FE;\n",
              "      border: none;\n",
              "      border-radius: 50%;\n",
              "      cursor: pointer;\n",
              "      display: none;\n",
              "      fill: #1967D2;\n",
              "      height: 32px;\n",
              "      padding: 0 0 0 0;\n",
              "      width: 32px;\n",
              "    }\n",
              "\n",
              "    .colab-df-convert:hover {\n",
              "      background-color: #E2EBFA;\n",
              "      box-shadow: 0px 1px 2px rgba(60, 64, 67, 0.3), 0px 1px 3px 1px rgba(60, 64, 67, 0.15);\n",
              "      fill: #174EA6;\n",
              "    }\n",
              "\n",
              "    .colab-df-buttons div {\n",
              "      margin-bottom: 4px;\n",
              "    }\n",
              "\n",
              "    [theme=dark] .colab-df-convert {\n",
              "      background-color: #3B4455;\n",
              "      fill: #D2E3FC;\n",
              "    }\n",
              "\n",
              "    [theme=dark] .colab-df-convert:hover {\n",
              "      background-color: #434B5C;\n",
              "      box-shadow: 0px 1px 3px 1px rgba(0, 0, 0, 0.15);\n",
              "      filter: drop-shadow(0px 1px 2px rgba(0, 0, 0, 0.3));\n",
              "      fill: #FFFFFF;\n",
              "    }\n",
              "  </style>\n",
              "\n",
              "    <script>\n",
              "      const buttonEl =\n",
              "        document.querySelector('#df-94566f94-ad00-4113-b074-7af2103d8e3a button.colab-df-convert');\n",
              "      buttonEl.style.display =\n",
              "        google.colab.kernel.accessAllowed ? 'block' : 'none';\n",
              "\n",
              "      async function convertToInteractive(key) {\n",
              "        const element = document.querySelector('#df-94566f94-ad00-4113-b074-7af2103d8e3a');\n",
              "        const dataTable =\n",
              "          await google.colab.kernel.invokeFunction('convertToInteractive',\n",
              "                                                    [key], {});\n",
              "        if (!dataTable) return;\n",
              "\n",
              "        const docLinkHtml = 'Like what you see? Visit the ' +\n",
              "          '<a target=\"_blank\" href=https://colab.research.google.com/notebooks/data_table.ipynb>data table notebook</a>'\n",
              "          + ' to learn more about interactive tables.';\n",
              "        element.innerHTML = '';\n",
              "        dataTable['output_type'] = 'display_data';\n",
              "        await google.colab.output.renderOutput(dataTable, element);\n",
              "        const docLink = document.createElement('div');\n",
              "        docLink.innerHTML = docLinkHtml;\n",
              "        element.appendChild(docLink);\n",
              "      }\n",
              "    </script>\n",
              "  </div>\n",
              "\n",
              "\n",
              "<div id=\"df-28a198f9-e99a-4d37-b9a8-b277f7fd6fe2\">\n",
              "  <button class=\"colab-df-quickchart\" onclick=\"quickchart('df-28a198f9-e99a-4d37-b9a8-b277f7fd6fe2')\"\n",
              "            title=\"Suggest charts.\"\n",
              "            style=\"display:none;\">\n",
              "\n",
              "<svg xmlns=\"http://www.w3.org/2000/svg\" height=\"24px\"viewBox=\"0 0 24 24\"\n",
              "     width=\"24px\">\n",
              "    <g>\n",
              "        <path d=\"M19 3H5c-1.1 0-2 .9-2 2v14c0 1.1.9 2 2 2h14c1.1 0 2-.9 2-2V5c0-1.1-.9-2-2-2zM9 17H7v-7h2v7zm4 0h-2V7h2v10zm4 0h-2v-4h2v4z\"/>\n",
              "    </g>\n",
              "</svg>\n",
              "  </button>\n",
              "\n",
              "<style>\n",
              "  .colab-df-quickchart {\n",
              "      --bg-color: #E8F0FE;\n",
              "      --fill-color: #1967D2;\n",
              "      --hover-bg-color: #E2EBFA;\n",
              "      --hover-fill-color: #174EA6;\n",
              "      --disabled-fill-color: #AAA;\n",
              "      --disabled-bg-color: #DDD;\n",
              "  }\n",
              "\n",
              "  [theme=dark] .colab-df-quickchart {\n",
              "      --bg-color: #3B4455;\n",
              "      --fill-color: #D2E3FC;\n",
              "      --hover-bg-color: #434B5C;\n",
              "      --hover-fill-color: #FFFFFF;\n",
              "      --disabled-bg-color: #3B4455;\n",
              "      --disabled-fill-color: #666;\n",
              "  }\n",
              "\n",
              "  .colab-df-quickchart {\n",
              "    background-color: var(--bg-color);\n",
              "    border: none;\n",
              "    border-radius: 50%;\n",
              "    cursor: pointer;\n",
              "    display: none;\n",
              "    fill: var(--fill-color);\n",
              "    height: 32px;\n",
              "    padding: 0;\n",
              "    width: 32px;\n",
              "  }\n",
              "\n",
              "  .colab-df-quickchart:hover {\n",
              "    background-color: var(--hover-bg-color);\n",
              "    box-shadow: 0 1px 2px rgba(60, 64, 67, 0.3), 0 1px 3px 1px rgba(60, 64, 67, 0.15);\n",
              "    fill: var(--button-hover-fill-color);\n",
              "  }\n",
              "\n",
              "  .colab-df-quickchart-complete:disabled,\n",
              "  .colab-df-quickchart-complete:disabled:hover {\n",
              "    background-color: var(--disabled-bg-color);\n",
              "    fill: var(--disabled-fill-color);\n",
              "    box-shadow: none;\n",
              "  }\n",
              "\n",
              "  .colab-df-spinner {\n",
              "    border: 2px solid var(--fill-color);\n",
              "    border-color: transparent;\n",
              "    border-bottom-color: var(--fill-color);\n",
              "    animation:\n",
              "      spin 1s steps(1) infinite;\n",
              "  }\n",
              "\n",
              "  @keyframes spin {\n",
              "    0% {\n",
              "      border-color: transparent;\n",
              "      border-bottom-color: var(--fill-color);\n",
              "      border-left-color: var(--fill-color);\n",
              "    }\n",
              "    20% {\n",
              "      border-color: transparent;\n",
              "      border-left-color: var(--fill-color);\n",
              "      border-top-color: var(--fill-color);\n",
              "    }\n",
              "    30% {\n",
              "      border-color: transparent;\n",
              "      border-left-color: var(--fill-color);\n",
              "      border-top-color: var(--fill-color);\n",
              "      border-right-color: var(--fill-color);\n",
              "    }\n",
              "    40% {\n",
              "      border-color: transparent;\n",
              "      border-right-color: var(--fill-color);\n",
              "      border-top-color: var(--fill-color);\n",
              "    }\n",
              "    60% {\n",
              "      border-color: transparent;\n",
              "      border-right-color: var(--fill-color);\n",
              "    }\n",
              "    80% {\n",
              "      border-color: transparent;\n",
              "      border-right-color: var(--fill-color);\n",
              "      border-bottom-color: var(--fill-color);\n",
              "    }\n",
              "    90% {\n",
              "      border-color: transparent;\n",
              "      border-bottom-color: var(--fill-color);\n",
              "    }\n",
              "  }\n",
              "</style>\n",
              "\n",
              "  <script>\n",
              "    async function quickchart(key) {\n",
              "      const quickchartButtonEl =\n",
              "        document.querySelector('#' + key + ' button');\n",
              "      quickchartButtonEl.disabled = true;  // To prevent multiple clicks.\n",
              "      quickchartButtonEl.classList.add('colab-df-spinner');\n",
              "      try {\n",
              "        const charts = await google.colab.kernel.invokeFunction(\n",
              "            'suggestCharts', [key], {});\n",
              "      } catch (error) {\n",
              "        console.error('Error during call to suggestCharts:', error);\n",
              "      }\n",
              "      quickchartButtonEl.classList.remove('colab-df-spinner');\n",
              "      quickchartButtonEl.classList.add('colab-df-quickchart-complete');\n",
              "    }\n",
              "    (() => {\n",
              "      let quickchartButtonEl =\n",
              "        document.querySelector('#df-28a198f9-e99a-4d37-b9a8-b277f7fd6fe2 button');\n",
              "      quickchartButtonEl.style.display =\n",
              "        google.colab.kernel.accessAllowed ? 'block' : 'none';\n",
              "    })();\n",
              "  </script>\n",
              "</div>\n",
              "    </div>\n",
              "  </div>\n"
            ]
          },
          "metadata": {},
          "execution_count": 74
        }
      ]
    },
    {
      "cell_type": "code",
      "source": [
        "train, test, val = new_df[:240000],new_df[240000:262000], new_df[262000:]\n",
        "train['Class'].value_counts(), test['Class'].value_counts(), val['Class'].value_counts()\n"
      ],
      "metadata": {
        "colab": {
          "base_uri": "https://localhost:8080/",
          "height": 0
        },
        "id": "b5ms9xTya7cB",
        "outputId": "71c2f657-da96-4daf-e3ca-1139c6e14c6e"
      },
      "execution_count": 75,
      "outputs": [
        {
          "output_type": "execute_result",
          "data": {
            "text/plain": [
              "(0    239581\n",
              " 1       419\n",
              " Name: Class, dtype: int64,\n",
              " 0    21963\n",
              " 1       37\n",
              " Name: Class, dtype: int64,\n",
              " 0    22771\n",
              " 1       36\n",
              " Name: Class, dtype: int64)"
            ]
          },
          "metadata": {},
          "execution_count": 75
        }
      ]
    },
    {
      "cell_type": "code",
      "source": [
        "train_np, test_np, val_np = train.to_numpy(), test.to_numpy(), val.to_numpy()\n",
        "train.shape, test.shape, val.shape"
      ],
      "metadata": {
        "colab": {
          "base_uri": "https://localhost:8080/",
          "height": 0
        },
        "id": "6Y8axwP0unAS",
        "outputId": "09e5afae-f0f3-4d96-f94e-e22ce8fba02f"
      },
      "execution_count": 76,
      "outputs": [
        {
          "output_type": "execute_result",
          "data": {
            "text/plain": [
              "((240000, 31), (22000, 31), (22807, 31))"
            ]
          },
          "metadata": {},
          "execution_count": 76
        }
      ]
    },
    {
      "cell_type": "code",
      "source": [
        "x_train, y_train = train_np[:, :-1],train_np[:, -1]\n",
        "x_test, y_test = train_np[:, :-1],train_np[:, -1]\n",
        "x_val, y_val = train_np[:, :-1],train_np[:, -1]\n",
        "x_train.shape, y_train.shape, x_test.shape, y_test.shape, x_val.shape, y_val.shape"
      ],
      "metadata": {
        "colab": {
          "base_uri": "https://localhost:8080/",
          "height": 0
        },
        "id": "oETDC-7wu9zp",
        "outputId": "5750f7f3-9026-4abd-cdc4-a00ae4dbead1"
      },
      "execution_count": 77,
      "outputs": [
        {
          "output_type": "execute_result",
          "data": {
            "text/plain": [
              "((240000, 30), (240000,), (240000, 30), (240000,), (240000, 30), (240000,))"
            ]
          },
          "metadata": {},
          "execution_count": 77
        }
      ]
    },
    {
      "cell_type": "markdown",
      "source": [
        "- The code preprocesses the 'Amount' and 'Time' features using the RobustScaler and min-max scaling, respectively.\n",
        "- It shuffles the dataset to ensure random ordering of samples.\n",
        "- The dataset is split into training, testing, and validation sets, with their respective class distributions displayed.\n",
        "\n",
        "## Model Building and Evaluation\n",
        "\n",
        "### Logistic Regression\n"
      ],
      "metadata": {
        "id": "gTw8kmmc_Wus"
      }
    },
    {
      "cell_type": "code",
      "source": [
        "# predict model\n",
        "from sklearn.linear_model import LogisticRegression\n",
        "\n",
        "# Create a Logistic Regression model\n",
        "logistic_model = LogisticRegression()\n",
        "\n",
        "# Train the model on the training data\n",
        "logistic_model.fit(x_train, y_train)\n",
        "\n",
        "# Calculate the model's accuracy on the training data and convert it to a percentage\n",
        "training_accuracy = logistic_model.score(x_train, y_train) * 100\n",
        "\n",
        "# Print the training accuracy as a percentage\n",
        "print(f\"Training Accuracy: {training_accuracy:.2f}%\")"
      ],
      "metadata": {
        "colab": {
          "base_uri": "https://localhost:8080/",
          "height": 0
        },
        "id": "q2i-s3T8vxnu",
        "outputId": "a1b84582-9f4a-41b0-ed73-8d5b2a26373c"
      },
      "execution_count": 78,
      "outputs": [
        {
          "output_type": "stream",
          "name": "stdout",
          "text": [
            "Training Accuracy: 99.92%\n"
          ]
        },
        {
          "output_type": "stream",
          "name": "stderr",
          "text": [
            "/usr/local/lib/python3.10/dist-packages/sklearn/linear_model/_logistic.py:458: ConvergenceWarning: lbfgs failed to converge (status=1):\n",
            "STOP: TOTAL NO. of ITERATIONS REACHED LIMIT.\n",
            "\n",
            "Increase the number of iterations (max_iter) or scale the data as shown in:\n",
            "    https://scikit-learn.org/stable/modules/preprocessing.html\n",
            "Please also refer to the documentation for alternative solver options:\n",
            "    https://scikit-learn.org/stable/modules/linear_model.html#logistic-regression\n",
            "  n_iter_i = _check_optimize_result(\n"
          ]
        }
      ]
    },
    {
      "cell_type": "code",
      "source": [
        "from sklearn.metrics import classification_report\n",
        "print(classification_report(y_val, logistic_model.predict(x_val), target_names = ['Not Fraud', 'Fraud']))"
      ],
      "metadata": {
        "colab": {
          "base_uri": "https://localhost:8080/",
          "height": 0
        },
        "id": "uZWwOO0DwwkH",
        "outputId": "b21933f8-7fb6-441b-afb7-450060da1bda"
      },
      "execution_count": 79,
      "outputs": [
        {
          "output_type": "stream",
          "name": "stdout",
          "text": [
            "              precision    recall  f1-score   support\n",
            "\n",
            "   Not Fraud       1.00      1.00      1.00    239581\n",
            "       Fraud       0.89      0.63      0.74       419\n",
            "\n",
            "    accuracy                           1.00    240000\n",
            "   macro avg       0.94      0.81      0.87    240000\n",
            "weighted avg       1.00      1.00      1.00    240000\n",
            "\n"
          ]
        }
      ]
    },
    {
      "cell_type": "markdown",
      "source": [
        "- A logistic regression model is trained on the training data, and its accuracy on the training set is calculated.\n",
        "- The classification report is generated to evaluate the logistic regression model's performance on the validation set.\n",
        "\n",
        "### Shallow Neural Network"
      ],
      "metadata": {
        "id": "6t3WPLgy_eWf"
      }
    },
    {
      "cell_type": "code",
      "source": [
        "from tensorflow.keras.models import Sequential\n",
        "from tensorflow.keras.layers import InputLayer, Dense, BatchNormalization\n",
        "from tensorflow.keras.callbacks import ModelCheckpoint\n",
        "\n",
        "shallow_nn = Sequential()\n",
        "shallow_nn.add(InputLayer((x_train.shape[1],)))\n",
        "shallow_nn.add(Dense(1, 'relu'))\n",
        "shallow_nn.add(BatchNormalization())\n",
        "shallow_nn.add(Dense(1,'sigmoid'))\n",
        "\n",
        "checkpoint = ModelCheckpoint('shallow_nn', save_best_only=True)\n",
        "shallow_nn.compile(optimizer = 'adam', loss='binary_crossentropy',metrics=['accuracy'])"
      ],
      "metadata": {
        "id": "c-PbG0kyxOBq"
      },
      "execution_count": 80,
      "outputs": []
    },
    {
      "cell_type": "code",
      "source": [
        "shallow_nn.summary()"
      ],
      "metadata": {
        "colab": {
          "base_uri": "https://localhost:8080/",
          "height": 0
        },
        "id": "UXX9XKuA2WFL",
        "outputId": "b8c7136f-70c6-488d-f549-ef673ede2ee6"
      },
      "execution_count": 81,
      "outputs": [
        {
          "output_type": "stream",
          "name": "stdout",
          "text": [
            "Model: \"sequential_7\"\n",
            "_________________________________________________________________\n",
            " Layer (type)                Output Shape              Param #   \n",
            "=================================================================\n",
            " dense_14 (Dense)            (None, 1)                 31        \n",
            "                                                                 \n",
            " batch_normalization_7 (Batc  (None, 1)                4         \n",
            " hNormalization)                                                 \n",
            "                                                                 \n",
            " dense_15 (Dense)            (None, 1)                 2         \n",
            "                                                                 \n",
            "=================================================================\n",
            "Total params: 37\n",
            "Trainable params: 35\n",
            "Non-trainable params: 2\n",
            "_________________________________________________________________\n"
          ]
        }
      ]
    },
    {
      "cell_type": "code",
      "source": [
        "shallow_nn.fit(x_train, y_train, validation_data = (x_val, y_val), epochs=5, callbacks = checkpoint)"
      ],
      "metadata": {
        "colab": {
          "base_uri": "https://localhost:8080/",
          "height": 0
        },
        "id": "z-PqOKhF2q83",
        "outputId": "b99c2aa1-3c66-44f0-90c4-aecf08c5f1fd"
      },
      "execution_count": 82,
      "outputs": [
        {
          "output_type": "stream",
          "name": "stdout",
          "text": [
            "Epoch 1/5\n",
            "7496/7500 [============================>.] - ETA: 0s - loss: 0.0635 - accuracy: 0.9897"
          ]
        },
        {
          "output_type": "stream",
          "name": "stderr",
          "text": [
            "WARNING:absl:Found untraced functions such as _update_step_xla while saving (showing 1 of 1). These functions will not be directly callable after loading.\n"
          ]
        },
        {
          "output_type": "stream",
          "name": "stdout",
          "text": [
            "\b\b\b\b\b\b\b\b\b\b\b\b\b\b\b\b\b\b\b\b\b\b\b\b\b\b\b\b\b\b\b\b\b\b\b\b\b\b\b\b\b\b\b\b\b\b\b\b\b\b\b\b\b\b\b\b\b\b\b\b\b\b\b\b\b\b\b\b\b\b\b\b\b\b\b\b\b\b\b\b\b\b\b\b\b\b\r7500/7500 [==============================] - 30s 4ms/step - loss: 0.0634 - accuracy: 0.9897 - val_loss: 0.0074 - val_accuracy: 0.9994\n",
            "Epoch 2/5\n",
            "7493/7500 [============================>.] - ETA: 0s - loss: 0.0035 - accuracy: 0.9993"
          ]
        },
        {
          "output_type": "stream",
          "name": "stderr",
          "text": [
            "WARNING:absl:Found untraced functions such as _update_step_xla while saving (showing 1 of 1). These functions will not be directly callable after loading.\n"
          ]
        },
        {
          "output_type": "stream",
          "name": "stdout",
          "text": [
            "\b\b\b\b\b\b\b\b\b\b\b\b\b\b\b\b\b\b\b\b\b\b\b\b\b\b\b\b\b\b\b\b\b\b\b\b\b\b\b\b\b\b\b\b\b\b\b\b\b\b\b\b\b\b\b\b\b\b\b\b\b\b\b\b\b\b\b\b\b\b\b\b\b\b\b\b\b\b\b\b\b\b\b\b\b\b\r7500/7500 [==============================] - 27s 4ms/step - loss: 0.0035 - accuracy: 0.9993 - val_loss: 0.0067 - val_accuracy: 0.9994\n",
            "Epoch 3/5\n",
            "7500/7500 [==============================] - 28s 4ms/step - loss: 0.0034 - accuracy: 0.9993 - val_loss: 0.0075 - val_accuracy: 0.9994\n",
            "Epoch 4/5\n",
            "7500/7500 [==============================] - 26s 3ms/step - loss: 0.0033 - accuracy: 0.9994 - val_loss: 0.0082 - val_accuracy: 0.9993\n",
            "Epoch 5/5\n",
            "7500/7500 [==============================] - 26s 3ms/step - loss: 0.0033 - accuracy: 0.9993 - val_loss: 0.0086 - val_accuracy: 0.9994\n"
          ]
        },
        {
          "output_type": "execute_result",
          "data": {
            "text/plain": [
              "<keras.callbacks.History at 0x7fe77ddf2dd0>"
            ]
          },
          "metadata": {},
          "execution_count": 82
        }
      ]
    },
    {
      "cell_type": "code",
      "source": [
        "def neural_net_prediction(model, x):\n",
        "  return (shallow_nn.predict(x).flatten() > 0.5).astype(int)\n",
        "neural_net_prediction(shallow_nn,x_val)"
      ],
      "metadata": {
        "colab": {
          "base_uri": "https://localhost:8080/",
          "height": 0
        },
        "id": "z4S-wt7g3JwH",
        "outputId": "0017c93b-34c3-4971-d287-e69fd4c3af03"
      },
      "execution_count": 83,
      "outputs": [
        {
          "output_type": "stream",
          "name": "stdout",
          "text": [
            "7500/7500 [==============================] - 17s 2ms/step\n"
          ]
        },
        {
          "output_type": "execute_result",
          "data": {
            "text/plain": [
              "array([0, 0, 0, ..., 0, 0, 0])"
            ]
          },
          "metadata": {},
          "execution_count": 83
        }
      ]
    },
    {
      "cell_type": "code",
      "source": [
        "print(classification_report(y_val, neural_net_prediction(shallow_nn,x_val), target_names=['NotFraud', 'Fraud']))"
      ],
      "metadata": {
        "colab": {
          "base_uri": "https://localhost:8080/",
          "height": 0
        },
        "id": "TgZKW3D95W8y",
        "outputId": "4bb81e16-1010-4ace-de54-d4ee488760e4"
      },
      "execution_count": 84,
      "outputs": [
        {
          "output_type": "stream",
          "name": "stdout",
          "text": [
            "7500/7500 [==============================] - 11s 1ms/step\n",
            "              precision    recall  f1-score   support\n",
            "\n",
            "    NotFraud       1.00      1.00      1.00    239581\n",
            "       Fraud       0.83      0.80      0.81       419\n",
            "\n",
            "    accuracy                           1.00    240000\n",
            "   macro avg       0.91      0.90      0.91    240000\n",
            "weighted avg       1.00      1.00      1.00    240000\n",
            "\n"
          ]
        }
      ]
    },
    {
      "cell_type": "markdown",
      "source": [
        "- A shallow neural network is defined and trained on the training data using the Keras library.\n",
        "- The model's architecture is displayed, and it is trained for a specified number of epochs.\n",
        "- A custom function `neural_net_prediction` is defined to make predictions using the neural network.\n",
        "- The classification report is generated to evaluate the neural network model's performance on the validation set.\n",
        "\n",
        "### Random Forest, Gradient Boosting, and Linear SVM"
      ],
      "metadata": {
        "id": "BUiOu0ri_nLi"
      }
    },
    {
      "cell_type": "code",
      "source": [
        "from sklearn.ensemble import RandomForestClassifier\n",
        "rf = RandomForestClassifier(max_depth = 2, n_jobs = -1)\n",
        "rf.fit(x_train, y_train)\n",
        "print(classification_report(y_val, rf.predict(x_val),target_names = ['Not Fraud', 'Fraud']))"
      ],
      "metadata": {
        "colab": {
          "base_uri": "https://localhost:8080/",
          "height": 0
        },
        "id": "-jI4l7uG7uOC",
        "outputId": "c4c4f564-435e-4145-dab4-5b085015cd18"
      },
      "execution_count": 69,
      "outputs": [
        {
          "output_type": "stream",
          "name": "stdout",
          "text": [
            "              precision    recall  f1-score   support\n",
            "\n",
            "   Not Fraud       1.00      1.00      1.00    239584\n",
            "       Fraud       0.86      0.56      0.68       416\n",
            "\n",
            "    accuracy                           1.00    240000\n",
            "   macro avg       0.93      0.78      0.84    240000\n",
            "weighted avg       1.00      1.00      1.00    240000\n",
            "\n"
          ]
        }
      ]
    },
    {
      "cell_type": "code",
      "source": [
        "from sklearn.ensemble import GradientBoostingClassifier\n",
        "gbc = GradientBoostingClassifier(n_estimators=50, learning_rate = 1.0, max_depth = 1, random_state = 0)\n",
        "gbc.fit(x_train, y_train)\n",
        "print(classification_report(y_val, gbc.predict(x_val),target_names = ['Not Fraud', 'Fraud']))"
      ],
      "metadata": {
        "colab": {
          "base_uri": "https://localhost:8080/",
          "height": 0
        },
        "id": "bGg4H6ms_GP6",
        "outputId": "e0151186-0ce0-48cd-d753-9e9056e98dee"
      },
      "execution_count": 70,
      "outputs": [
        {
          "output_type": "stream",
          "name": "stdout",
          "text": [
            "              precision    recall  f1-score   support\n",
            "\n",
            "   Not Fraud       1.00      1.00      1.00    239584\n",
            "       Fraud       0.75      0.70      0.72       416\n",
            "\n",
            "    accuracy                           1.00    240000\n",
            "   macro avg       0.88      0.85      0.86    240000\n",
            "weighted avg       1.00      1.00      1.00    240000\n",
            "\n"
          ]
        }
      ]
    },
    {
      "cell_type": "code",
      "source": [
        "from sklearn.svm import LinearSVC\n",
        "svc = LinearSVC(class_weight = 'balanced')\n",
        "svc.fit(x_train,y_train)\n",
        "print(classification_report(y_val, svc.predict(x_val),target_names = ['Not Fraud', 'Fraud']))"
      ],
      "metadata": {
        "colab": {
          "base_uri": "https://localhost:8080/",
          "height": 0
        },
        "id": "x45S6JEABRX-",
        "outputId": "f8224a82-7012-4f31-b9f8-4e3f8229c18d"
      },
      "execution_count": 71,
      "outputs": [
        {
          "output_type": "stream",
          "name": "stderr",
          "text": [
            "/usr/local/lib/python3.10/dist-packages/sklearn/svm/_base.py:1244: ConvergenceWarning: Liblinear failed to converge, increase the number of iterations.\n",
            "  warnings.warn(\n"
          ]
        },
        {
          "output_type": "stream",
          "name": "stdout",
          "text": [
            "              precision    recall  f1-score   support\n",
            "\n",
            "   Not Fraud       1.00      1.00      1.00    239584\n",
            "       Fraud       0.83      0.80      0.81       416\n",
            "\n",
            "    accuracy                           1.00    240000\n",
            "   macro avg       0.92      0.90      0.91    240000\n",
            "weighted avg       1.00      1.00      1.00    240000\n",
            "\n"
          ]
        }
      ]
    },
    {
      "cell_type": "code",
      "source": [
        "not_frauds = new_df.query('Class == 0')\n",
        "frauds = new_df.query('Class == 1')\n",
        "not_frauds ['Class'].value_counts(),  frauds['Class'].value_counts()"
      ],
      "metadata": {
        "colab": {
          "base_uri": "https://localhost:8080/",
          "height": 0
        },
        "id": "rv4DoQHkILoY",
        "outputId": "43268077-9fea-4fe9-f02b-63a5953e33f7"
      },
      "execution_count": 23,
      "outputs": [
        {
          "output_type": "execute_result",
          "data": {
            "text/plain": [
              "(0    284315\n",
              " Name: Class, dtype: int64,\n",
              " 1    492\n",
              " Name: Class, dtype: int64)"
            ]
          },
          "metadata": {},
          "execution_count": 23
        }
      ]
    },
    {
      "cell_type": "markdown",
      "source": [
        "- Random Forest, Gradient Boosting, and Linear SVM classifiers are trained and evaluated on the validation set.\n",
        "- Classification reports are generated for each model to assess their performance.\n",
        "\n",
        "## Data Balancing"
      ],
      "metadata": {
        "id": "HA_tffwfzl8y"
      }
    },
    {
      "cell_type": "code",
      "source": [
        "balanced_df = pd. concat([frauds, not_frauds.sample(len(frauds), random_state=1)])\n",
        "balanced_df['Class'].value_counts()"
      ],
      "metadata": {
        "colab": {
          "base_uri": "https://localhost:8080/",
          "height": 0
        },
        "id": "dj_tj89QKhYI",
        "outputId": "142aa043-9ced-43cc-9080-d51ee3e52d48"
      },
      "execution_count": 24,
      "outputs": [
        {
          "output_type": "execute_result",
          "data": {
            "text/plain": [
              "1    492\n",
              "0    492\n",
              "Name: Class, dtype: int64"
            ]
          },
          "metadata": {},
          "execution_count": 24
        }
      ]
    },
    {
      "cell_type": "markdown",
      "source": [
        "- The code balances the dataset by oversampling the minority class (frauds) to address class imbalance.\n",
        "\n",
        "### Model Evaluation on Balanced Data"
      ],
      "metadata": {
        "id": "QOrmJjUoBLP4"
      }
    },
    {
      "cell_type": "code",
      "source": [
        "balanced_df = balanced_df.sample(frac=1, random_state=1)\n",
        "balanced_df"
      ],
      "metadata": {
        "colab": {
          "base_uri": "https://localhost:8080/",
          "height": 444
        },
        "id": "72NkTYN5KuPO",
        "outputId": "19a36910-60d5-4f4a-f08a-94995af84a3b"
      },
      "execution_count": 25,
      "outputs": [
        {
          "output_type": "execute_result",
          "data": {
            "text/plain": [
              "            Time        V1        V2        V3        V4        V5        V6  \\\n",
              "30383   0.207758 -0.736098  0.423303  0.933547 -1.500910  0.668052  0.576660   \n",
              "6820    0.049852 -2.169929  3.639654 -4.508498  2.730668 -2.122693 -2.341017   \n",
              "243393  0.879184 -5.488032  3.329561 -5.996296  3.601720 -2.023926 -1.737393   \n",
              "69929   0.310431 -1.985910 -2.611287  2.376770 -1.605756  0.609377 -0.967514   \n",
              "281404  0.984762  1.911598 -0.397526 -1.683219  0.286647  0.399064 -0.451795   \n",
              "...          ...       ...       ...       ...       ...       ...       ...   \n",
              "242613  0.877170 -2.289141  1.016941 -0.926531 -0.121786  0.730164 -1.175610   \n",
              "6717    0.048660 -1.813280  4.917851 -5.926130  5.701500  1.204393 -3.035138   \n",
              "113042  0.421923 -0.343369  1.092825  1.278107  0.066744 -0.024180 -0.985415   \n",
              "154676  0.593442 -1.456876  3.740306 -7.404518  7.440964 -1.549878 -1.661697   \n",
              "191359  0.747847  1.177824  2.487103 -5.330608  5.324547  1.150243 -1.281843   \n",
              "\n",
              "              V7        V8        V9  ...       V21       V22       V23  \\\n",
              "30383   0.980383  0.172038 -0.632030  ...  0.144032  0.195496 -0.207360   \n",
              "6820   -4.235253  1.703538 -1.305279  ...  0.645103 -0.503529 -0.000523   \n",
              "243393 -4.396859  0.228394 -1.675884  ...  1.719631  0.343209  0.133584   \n",
              "69929  -1.635492  0.299546 -1.663646  ... -0.015521 -0.023986  0.187251   \n",
              "281404  0.388839 -0.329302  0.507502  ... -0.234857 -0.699689  0.052040   \n",
              "...          ...       ...       ...  ...       ...       ...       ...   \n",
              "242613 -0.016360  0.732250 -0.295701  ... -0.237672 -0.711097 -0.466713   \n",
              "6717   -1.713402  0.561257 -3.796354  ...  0.615642 -0.406427 -0.737018   \n",
              "113042  0.692278 -0.046993 -0.323509  ... -0.268206 -0.729425 -0.003556   \n",
              "154676 -5.757213  1.615011 -2.194881  ...  0.957897  0.145339 -0.044704   \n",
              "191359 -1.171994  0.413778 -2.659840  ...  0.262325 -0.431790 -0.092088   \n",
              "\n",
              "             V24       V25       V26       V27       V28    Amount  Class  \n",
              "30383  -1.211172  0.216169  1.001238 -0.054223  0.055914  1.078320      0  \n",
              "6820    0.071696  0.092007  0.308498  0.552591  0.298954 -0.293440      1  \n",
              "243393  0.833340 -0.839776  0.502010 -1.937473  1.521218 -0.307273      1  \n",
              "69929   0.098769  0.596965 -0.143208  0.015346  0.101835  0.565500      0  \n",
              "281404 -1.018716 -0.080524  0.329485 -0.086798 -0.053118  1.294348      0  \n",
              "...          ...       ...       ...       ...       ...       ...    ...  \n",
              "242613 -0.431962 -0.150417 -0.530831  0.121851  0.034676 -0.167819      0  \n",
              "6717   -0.279642  1.106766  0.323885  0.894767  0.569519 -0.293440      1  \n",
              "113042  0.315217 -0.175157  0.073711  0.241619  0.097346 -0.221477      0  \n",
              "154676 -0.544962 -0.757757 -0.005352  0.318152 -0.323554 -0.275554      1  \n",
              "191359  0.145216  0.457788  0.167739  0.451243  0.268421 -0.239363      1  \n",
              "\n",
              "[984 rows x 31 columns]"
            ],
            "text/html": [
              "\n",
              "  <div id=\"df-db00193f-c5d9-495d-a688-3fd94eb84009\" class=\"colab-df-container\">\n",
              "    <div>\n",
              "<style scoped>\n",
              "    .dataframe tbody tr th:only-of-type {\n",
              "        vertical-align: middle;\n",
              "    }\n",
              "\n",
              "    .dataframe tbody tr th {\n",
              "        vertical-align: top;\n",
              "    }\n",
              "\n",
              "    .dataframe thead th {\n",
              "        text-align: right;\n",
              "    }\n",
              "</style>\n",
              "<table border=\"1\" class=\"dataframe\">\n",
              "  <thead>\n",
              "    <tr style=\"text-align: right;\">\n",
              "      <th></th>\n",
              "      <th>Time</th>\n",
              "      <th>V1</th>\n",
              "      <th>V2</th>\n",
              "      <th>V3</th>\n",
              "      <th>V4</th>\n",
              "      <th>V5</th>\n",
              "      <th>V6</th>\n",
              "      <th>V7</th>\n",
              "      <th>V8</th>\n",
              "      <th>V9</th>\n",
              "      <th>...</th>\n",
              "      <th>V21</th>\n",
              "      <th>V22</th>\n",
              "      <th>V23</th>\n",
              "      <th>V24</th>\n",
              "      <th>V25</th>\n",
              "      <th>V26</th>\n",
              "      <th>V27</th>\n",
              "      <th>V28</th>\n",
              "      <th>Amount</th>\n",
              "      <th>Class</th>\n",
              "    </tr>\n",
              "  </thead>\n",
              "  <tbody>\n",
              "    <tr>\n",
              "      <th>30383</th>\n",
              "      <td>0.207758</td>\n",
              "      <td>-0.736098</td>\n",
              "      <td>0.423303</td>\n",
              "      <td>0.933547</td>\n",
              "      <td>-1.500910</td>\n",
              "      <td>0.668052</td>\n",
              "      <td>0.576660</td>\n",
              "      <td>0.980383</td>\n",
              "      <td>0.172038</td>\n",
              "      <td>-0.632030</td>\n",
              "      <td>...</td>\n",
              "      <td>0.144032</td>\n",
              "      <td>0.195496</td>\n",
              "      <td>-0.207360</td>\n",
              "      <td>-1.211172</td>\n",
              "      <td>0.216169</td>\n",
              "      <td>1.001238</td>\n",
              "      <td>-0.054223</td>\n",
              "      <td>0.055914</td>\n",
              "      <td>1.078320</td>\n",
              "      <td>0</td>\n",
              "    </tr>\n",
              "    <tr>\n",
              "      <th>6820</th>\n",
              "      <td>0.049852</td>\n",
              "      <td>-2.169929</td>\n",
              "      <td>3.639654</td>\n",
              "      <td>-4.508498</td>\n",
              "      <td>2.730668</td>\n",
              "      <td>-2.122693</td>\n",
              "      <td>-2.341017</td>\n",
              "      <td>-4.235253</td>\n",
              "      <td>1.703538</td>\n",
              "      <td>-1.305279</td>\n",
              "      <td>...</td>\n",
              "      <td>0.645103</td>\n",
              "      <td>-0.503529</td>\n",
              "      <td>-0.000523</td>\n",
              "      <td>0.071696</td>\n",
              "      <td>0.092007</td>\n",
              "      <td>0.308498</td>\n",
              "      <td>0.552591</td>\n",
              "      <td>0.298954</td>\n",
              "      <td>-0.293440</td>\n",
              "      <td>1</td>\n",
              "    </tr>\n",
              "    <tr>\n",
              "      <th>243393</th>\n",
              "      <td>0.879184</td>\n",
              "      <td>-5.488032</td>\n",
              "      <td>3.329561</td>\n",
              "      <td>-5.996296</td>\n",
              "      <td>3.601720</td>\n",
              "      <td>-2.023926</td>\n",
              "      <td>-1.737393</td>\n",
              "      <td>-4.396859</td>\n",
              "      <td>0.228394</td>\n",
              "      <td>-1.675884</td>\n",
              "      <td>...</td>\n",
              "      <td>1.719631</td>\n",
              "      <td>0.343209</td>\n",
              "      <td>0.133584</td>\n",
              "      <td>0.833340</td>\n",
              "      <td>-0.839776</td>\n",
              "      <td>0.502010</td>\n",
              "      <td>-1.937473</td>\n",
              "      <td>1.521218</td>\n",
              "      <td>-0.307273</td>\n",
              "      <td>1</td>\n",
              "    </tr>\n",
              "    <tr>\n",
              "      <th>69929</th>\n",
              "      <td>0.310431</td>\n",
              "      <td>-1.985910</td>\n",
              "      <td>-2.611287</td>\n",
              "      <td>2.376770</td>\n",
              "      <td>-1.605756</td>\n",
              "      <td>0.609377</td>\n",
              "      <td>-0.967514</td>\n",
              "      <td>-1.635492</td>\n",
              "      <td>0.299546</td>\n",
              "      <td>-1.663646</td>\n",
              "      <td>...</td>\n",
              "      <td>-0.015521</td>\n",
              "      <td>-0.023986</td>\n",
              "      <td>0.187251</td>\n",
              "      <td>0.098769</td>\n",
              "      <td>0.596965</td>\n",
              "      <td>-0.143208</td>\n",
              "      <td>0.015346</td>\n",
              "      <td>0.101835</td>\n",
              "      <td>0.565500</td>\n",
              "      <td>0</td>\n",
              "    </tr>\n",
              "    <tr>\n",
              "      <th>281404</th>\n",
              "      <td>0.984762</td>\n",
              "      <td>1.911598</td>\n",
              "      <td>-0.397526</td>\n",
              "      <td>-1.683219</td>\n",
              "      <td>0.286647</td>\n",
              "      <td>0.399064</td>\n",
              "      <td>-0.451795</td>\n",
              "      <td>0.388839</td>\n",
              "      <td>-0.329302</td>\n",
              "      <td>0.507502</td>\n",
              "      <td>...</td>\n",
              "      <td>-0.234857</td>\n",
              "      <td>-0.699689</td>\n",
              "      <td>0.052040</td>\n",
              "      <td>-1.018716</td>\n",
              "      <td>-0.080524</td>\n",
              "      <td>0.329485</td>\n",
              "      <td>-0.086798</td>\n",
              "      <td>-0.053118</td>\n",
              "      <td>1.294348</td>\n",
              "      <td>0</td>\n",
              "    </tr>\n",
              "    <tr>\n",
              "      <th>...</th>\n",
              "      <td>...</td>\n",
              "      <td>...</td>\n",
              "      <td>...</td>\n",
              "      <td>...</td>\n",
              "      <td>...</td>\n",
              "      <td>...</td>\n",
              "      <td>...</td>\n",
              "      <td>...</td>\n",
              "      <td>...</td>\n",
              "      <td>...</td>\n",
              "      <td>...</td>\n",
              "      <td>...</td>\n",
              "      <td>...</td>\n",
              "      <td>...</td>\n",
              "      <td>...</td>\n",
              "      <td>...</td>\n",
              "      <td>...</td>\n",
              "      <td>...</td>\n",
              "      <td>...</td>\n",
              "      <td>...</td>\n",
              "      <td>...</td>\n",
              "    </tr>\n",
              "    <tr>\n",
              "      <th>242613</th>\n",
              "      <td>0.877170</td>\n",
              "      <td>-2.289141</td>\n",
              "      <td>1.016941</td>\n",
              "      <td>-0.926531</td>\n",
              "      <td>-0.121786</td>\n",
              "      <td>0.730164</td>\n",
              "      <td>-1.175610</td>\n",
              "      <td>-0.016360</td>\n",
              "      <td>0.732250</td>\n",
              "      <td>-0.295701</td>\n",
              "      <td>...</td>\n",
              "      <td>-0.237672</td>\n",
              "      <td>-0.711097</td>\n",
              "      <td>-0.466713</td>\n",
              "      <td>-0.431962</td>\n",
              "      <td>-0.150417</td>\n",
              "      <td>-0.530831</td>\n",
              "      <td>0.121851</td>\n",
              "      <td>0.034676</td>\n",
              "      <td>-0.167819</td>\n",
              "      <td>0</td>\n",
              "    </tr>\n",
              "    <tr>\n",
              "      <th>6717</th>\n",
              "      <td>0.048660</td>\n",
              "      <td>-1.813280</td>\n",
              "      <td>4.917851</td>\n",
              "      <td>-5.926130</td>\n",
              "      <td>5.701500</td>\n",
              "      <td>1.204393</td>\n",
              "      <td>-3.035138</td>\n",
              "      <td>-1.713402</td>\n",
              "      <td>0.561257</td>\n",
              "      <td>-3.796354</td>\n",
              "      <td>...</td>\n",
              "      <td>0.615642</td>\n",
              "      <td>-0.406427</td>\n",
              "      <td>-0.737018</td>\n",
              "      <td>-0.279642</td>\n",
              "      <td>1.106766</td>\n",
              "      <td>0.323885</td>\n",
              "      <td>0.894767</td>\n",
              "      <td>0.569519</td>\n",
              "      <td>-0.293440</td>\n",
              "      <td>1</td>\n",
              "    </tr>\n",
              "    <tr>\n",
              "      <th>113042</th>\n",
              "      <td>0.421923</td>\n",
              "      <td>-0.343369</td>\n",
              "      <td>1.092825</td>\n",
              "      <td>1.278107</td>\n",
              "      <td>0.066744</td>\n",
              "      <td>-0.024180</td>\n",
              "      <td>-0.985415</td>\n",
              "      <td>0.692278</td>\n",
              "      <td>-0.046993</td>\n",
              "      <td>-0.323509</td>\n",
              "      <td>...</td>\n",
              "      <td>-0.268206</td>\n",
              "      <td>-0.729425</td>\n",
              "      <td>-0.003556</td>\n",
              "      <td>0.315217</td>\n",
              "      <td>-0.175157</td>\n",
              "      <td>0.073711</td>\n",
              "      <td>0.241619</td>\n",
              "      <td>0.097346</td>\n",
              "      <td>-0.221477</td>\n",
              "      <td>0</td>\n",
              "    </tr>\n",
              "    <tr>\n",
              "      <th>154676</th>\n",
              "      <td>0.593442</td>\n",
              "      <td>-1.456876</td>\n",
              "      <td>3.740306</td>\n",
              "      <td>-7.404518</td>\n",
              "      <td>7.440964</td>\n",
              "      <td>-1.549878</td>\n",
              "      <td>-1.661697</td>\n",
              "      <td>-5.757213</td>\n",
              "      <td>1.615011</td>\n",
              "      <td>-2.194881</td>\n",
              "      <td>...</td>\n",
              "      <td>0.957897</td>\n",
              "      <td>0.145339</td>\n",
              "      <td>-0.044704</td>\n",
              "      <td>-0.544962</td>\n",
              "      <td>-0.757757</td>\n",
              "      <td>-0.005352</td>\n",
              "      <td>0.318152</td>\n",
              "      <td>-0.323554</td>\n",
              "      <td>-0.275554</td>\n",
              "      <td>1</td>\n",
              "    </tr>\n",
              "    <tr>\n",
              "      <th>191359</th>\n",
              "      <td>0.747847</td>\n",
              "      <td>1.177824</td>\n",
              "      <td>2.487103</td>\n",
              "      <td>-5.330608</td>\n",
              "      <td>5.324547</td>\n",
              "      <td>1.150243</td>\n",
              "      <td>-1.281843</td>\n",
              "      <td>-1.171994</td>\n",
              "      <td>0.413778</td>\n",
              "      <td>-2.659840</td>\n",
              "      <td>...</td>\n",
              "      <td>0.262325</td>\n",
              "      <td>-0.431790</td>\n",
              "      <td>-0.092088</td>\n",
              "      <td>0.145216</td>\n",
              "      <td>0.457788</td>\n",
              "      <td>0.167739</td>\n",
              "      <td>0.451243</td>\n",
              "      <td>0.268421</td>\n",
              "      <td>-0.239363</td>\n",
              "      <td>1</td>\n",
              "    </tr>\n",
              "  </tbody>\n",
              "</table>\n",
              "<p>984 rows × 31 columns</p>\n",
              "</div>\n",
              "    <div class=\"colab-df-buttons\">\n",
              "\n",
              "  <div class=\"colab-df-container\">\n",
              "    <button class=\"colab-df-convert\" onclick=\"convertToInteractive('df-db00193f-c5d9-495d-a688-3fd94eb84009')\"\n",
              "            title=\"Convert this dataframe to an interactive table.\"\n",
              "            style=\"display:none;\">\n",
              "\n",
              "  <svg xmlns=\"http://www.w3.org/2000/svg\" height=\"24px\" viewBox=\"0 -960 960 960\">\n",
              "    <path d=\"M120-120v-720h720v720H120Zm60-500h600v-160H180v160Zm220 220h160v-160H400v160Zm0 220h160v-160H400v160ZM180-400h160v-160H180v160Zm440 0h160v-160H620v160ZM180-180h160v-160H180v160Zm440 0h160v-160H620v160Z\"/>\n",
              "  </svg>\n",
              "    </button>\n",
              "\n",
              "  <style>\n",
              "    .colab-df-container {\n",
              "      display:flex;\n",
              "      gap: 12px;\n",
              "    }\n",
              "\n",
              "    .colab-df-convert {\n",
              "      background-color: #E8F0FE;\n",
              "      border: none;\n",
              "      border-radius: 50%;\n",
              "      cursor: pointer;\n",
              "      display: none;\n",
              "      fill: #1967D2;\n",
              "      height: 32px;\n",
              "      padding: 0 0 0 0;\n",
              "      width: 32px;\n",
              "    }\n",
              "\n",
              "    .colab-df-convert:hover {\n",
              "      background-color: #E2EBFA;\n",
              "      box-shadow: 0px 1px 2px rgba(60, 64, 67, 0.3), 0px 1px 3px 1px rgba(60, 64, 67, 0.15);\n",
              "      fill: #174EA6;\n",
              "    }\n",
              "\n",
              "    .colab-df-buttons div {\n",
              "      margin-bottom: 4px;\n",
              "    }\n",
              "\n",
              "    [theme=dark] .colab-df-convert {\n",
              "      background-color: #3B4455;\n",
              "      fill: #D2E3FC;\n",
              "    }\n",
              "\n",
              "    [theme=dark] .colab-df-convert:hover {\n",
              "      background-color: #434B5C;\n",
              "      box-shadow: 0px 1px 3px 1px rgba(0, 0, 0, 0.15);\n",
              "      filter: drop-shadow(0px 1px 2px rgba(0, 0, 0, 0.3));\n",
              "      fill: #FFFFFF;\n",
              "    }\n",
              "  </style>\n",
              "\n",
              "    <script>\n",
              "      const buttonEl =\n",
              "        document.querySelector('#df-db00193f-c5d9-495d-a688-3fd94eb84009 button.colab-df-convert');\n",
              "      buttonEl.style.display =\n",
              "        google.colab.kernel.accessAllowed ? 'block' : 'none';\n",
              "\n",
              "      async function convertToInteractive(key) {\n",
              "        const element = document.querySelector('#df-db00193f-c5d9-495d-a688-3fd94eb84009');\n",
              "        const dataTable =\n",
              "          await google.colab.kernel.invokeFunction('convertToInteractive',\n",
              "                                                    [key], {});\n",
              "        if (!dataTable) return;\n",
              "\n",
              "        const docLinkHtml = 'Like what you see? Visit the ' +\n",
              "          '<a target=\"_blank\" href=https://colab.research.google.com/notebooks/data_table.ipynb>data table notebook</a>'\n",
              "          + ' to learn more about interactive tables.';\n",
              "        element.innerHTML = '';\n",
              "        dataTable['output_type'] = 'display_data';\n",
              "        await google.colab.output.renderOutput(dataTable, element);\n",
              "        const docLink = document.createElement('div');\n",
              "        docLink.innerHTML = docLinkHtml;\n",
              "        element.appendChild(docLink);\n",
              "      }\n",
              "    </script>\n",
              "  </div>\n",
              "\n",
              "\n",
              "<div id=\"df-cf024fff-bebb-466a-8784-058beb2e451c\">\n",
              "  <button class=\"colab-df-quickchart\" onclick=\"quickchart('df-cf024fff-bebb-466a-8784-058beb2e451c')\"\n",
              "            title=\"Suggest charts.\"\n",
              "            style=\"display:none;\">\n",
              "\n",
              "<svg xmlns=\"http://www.w3.org/2000/svg\" height=\"24px\"viewBox=\"0 0 24 24\"\n",
              "     width=\"24px\">\n",
              "    <g>\n",
              "        <path d=\"M19 3H5c-1.1 0-2 .9-2 2v14c0 1.1.9 2 2 2h14c1.1 0 2-.9 2-2V5c0-1.1-.9-2-2-2zM9 17H7v-7h2v7zm4 0h-2V7h2v10zm4 0h-2v-4h2v4z\"/>\n",
              "    </g>\n",
              "</svg>\n",
              "  </button>\n",
              "\n",
              "<style>\n",
              "  .colab-df-quickchart {\n",
              "      --bg-color: #E8F0FE;\n",
              "      --fill-color: #1967D2;\n",
              "      --hover-bg-color: #E2EBFA;\n",
              "      --hover-fill-color: #174EA6;\n",
              "      --disabled-fill-color: #AAA;\n",
              "      --disabled-bg-color: #DDD;\n",
              "  }\n",
              "\n",
              "  [theme=dark] .colab-df-quickchart {\n",
              "      --bg-color: #3B4455;\n",
              "      --fill-color: #D2E3FC;\n",
              "      --hover-bg-color: #434B5C;\n",
              "      --hover-fill-color: #FFFFFF;\n",
              "      --disabled-bg-color: #3B4455;\n",
              "      --disabled-fill-color: #666;\n",
              "  }\n",
              "\n",
              "  .colab-df-quickchart {\n",
              "    background-color: var(--bg-color);\n",
              "    border: none;\n",
              "    border-radius: 50%;\n",
              "    cursor: pointer;\n",
              "    display: none;\n",
              "    fill: var(--fill-color);\n",
              "    height: 32px;\n",
              "    padding: 0;\n",
              "    width: 32px;\n",
              "  }\n",
              "\n",
              "  .colab-df-quickchart:hover {\n",
              "    background-color: var(--hover-bg-color);\n",
              "    box-shadow: 0 1px 2px rgba(60, 64, 67, 0.3), 0 1px 3px 1px rgba(60, 64, 67, 0.15);\n",
              "    fill: var(--button-hover-fill-color);\n",
              "  }\n",
              "\n",
              "  .colab-df-quickchart-complete:disabled,\n",
              "  .colab-df-quickchart-complete:disabled:hover {\n",
              "    background-color: var(--disabled-bg-color);\n",
              "    fill: var(--disabled-fill-color);\n",
              "    box-shadow: none;\n",
              "  }\n",
              "\n",
              "  .colab-df-spinner {\n",
              "    border: 2px solid var(--fill-color);\n",
              "    border-color: transparent;\n",
              "    border-bottom-color: var(--fill-color);\n",
              "    animation:\n",
              "      spin 1s steps(1) infinite;\n",
              "  }\n",
              "\n",
              "  @keyframes spin {\n",
              "    0% {\n",
              "      border-color: transparent;\n",
              "      border-bottom-color: var(--fill-color);\n",
              "      border-left-color: var(--fill-color);\n",
              "    }\n",
              "    20% {\n",
              "      border-color: transparent;\n",
              "      border-left-color: var(--fill-color);\n",
              "      border-top-color: var(--fill-color);\n",
              "    }\n",
              "    30% {\n",
              "      border-color: transparent;\n",
              "      border-left-color: var(--fill-color);\n",
              "      border-top-color: var(--fill-color);\n",
              "      border-right-color: var(--fill-color);\n",
              "    }\n",
              "    40% {\n",
              "      border-color: transparent;\n",
              "      border-right-color: var(--fill-color);\n",
              "      border-top-color: var(--fill-color);\n",
              "    }\n",
              "    60% {\n",
              "      border-color: transparent;\n",
              "      border-right-color: var(--fill-color);\n",
              "    }\n",
              "    80% {\n",
              "      border-color: transparent;\n",
              "      border-right-color: var(--fill-color);\n",
              "      border-bottom-color: var(--fill-color);\n",
              "    }\n",
              "    90% {\n",
              "      border-color: transparent;\n",
              "      border-bottom-color: var(--fill-color);\n",
              "    }\n",
              "  }\n",
              "</style>\n",
              "\n",
              "  <script>\n",
              "    async function quickchart(key) {\n",
              "      const quickchartButtonEl =\n",
              "        document.querySelector('#' + key + ' button');\n",
              "      quickchartButtonEl.disabled = true;  // To prevent multiple clicks.\n",
              "      quickchartButtonEl.classList.add('colab-df-spinner');\n",
              "      try {\n",
              "        const charts = await google.colab.kernel.invokeFunction(\n",
              "            'suggestCharts', [key], {});\n",
              "      } catch (error) {\n",
              "        console.error('Error during call to suggestCharts:', error);\n",
              "      }\n",
              "      quickchartButtonEl.classList.remove('colab-df-spinner');\n",
              "      quickchartButtonEl.classList.add('colab-df-quickchart-complete');\n",
              "    }\n",
              "    (() => {\n",
              "      let quickchartButtonEl =\n",
              "        document.querySelector('#df-cf024fff-bebb-466a-8784-058beb2e451c button');\n",
              "      quickchartButtonEl.style.display =\n",
              "        google.colab.kernel.accessAllowed ? 'block' : 'none';\n",
              "    })();\n",
              "  </script>\n",
              "</div>\n",
              "    </div>\n",
              "  </div>\n"
            ]
          },
          "metadata": {},
          "execution_count": 25
        }
      ]
    },
    {
      "cell_type": "code",
      "source": [
        "balanced_df_np = balanced_df.to_numpy ()\n",
        "x_train_b, y_train_b = balanced_df_np[:700, :-1], balanced_df_np[:700, -1].astype(int)\n",
        "x_test_b, y_test_b = balanced_df_np[700:842, :-1], balanced_df_np[700:842, -1].astype(int)\n",
        "x_val_b, y_val_b = balanced_df_np[842:, :-1], balanced_df_np[842:, -1].astype(int)\n",
        "x_train_b.shape, y_train_b.shape, x_test_b.shape, y_test_b.shape, x_val_b.shape, y_val_b.shape"
      ],
      "metadata": {
        "colab": {
          "base_uri": "https://localhost:8080/",
          "height": 0
        },
        "id": "BgdjKHyZK5uE",
        "outputId": "8786d653-ebdb-420b-f87f-13ba9739144b"
      },
      "execution_count": 27,
      "outputs": [
        {
          "output_type": "execute_result",
          "data": {
            "text/plain": [
              "((700, 30), (700,), (142, 30), (142,), (142, 30), (142,))"
            ]
          },
          "metadata": {},
          "execution_count": 27
        }
      ]
    },
    {
      "cell_type": "code",
      "source": [],
      "metadata": {
        "id": "7QHbGNIoawHa"
      },
      "execution_count": null,
      "outputs": []
    },
    {
      "cell_type": "code",
      "source": [
        "pd.Series(y_train).value_counts()"
      ],
      "metadata": {
        "colab": {
          "base_uri": "https://localhost:8080/",
          "height": 0
        },
        "id": "vWipz5SJLLee",
        "outputId": "dbe433be-74ac-404f-c6e1-b7b046a5646b"
      },
      "execution_count": 28,
      "outputs": [
        {
          "output_type": "execute_result",
          "data": {
            "text/plain": [
              "0.0    239586\n",
              "1.0       414\n",
              "dtype: int64"
            ]
          },
          "metadata": {},
          "execution_count": 28
        }
      ]
    },
    {
      "cell_type": "code",
      "source": [
        "pd.Series(y_train_b).value_counts(), pd.Series(y_test_b).value_counts(), pd.Series(y_val_b).value_counts()"
      ],
      "metadata": {
        "colab": {
          "base_uri": "https://localhost:8080/",
          "height": 0
        },
        "id": "oaDTTDPXL453",
        "outputId": "5b4bbda4-64e2-4d06-a2d7-75cd3988adb7"
      },
      "execution_count": 29,
      "outputs": [
        {
          "output_type": "execute_result",
          "data": {
            "text/plain": [
              "(1    353\n",
              " 0    347\n",
              " dtype: int64,\n",
              " 0    73\n",
              " 1    69\n",
              " dtype: int64,\n",
              " 0    72\n",
              " 1    70\n",
              " dtype: int64)"
            ]
          },
          "metadata": {},
          "execution_count": 29
        }
      ]
    },
    {
      "cell_type": "markdown",
      "source": [
        "Logistic regression on sample"
      ],
      "metadata": {
        "id": "IO62mKTKMlyu"
      }
    },
    {
      "cell_type": "code",
      "source": [
        "logistic_model_b = LogisticRegression()\n",
        "logistic_model_b.fit(x_train_b, y_train_b)\n",
        "print(classification_report(y_val_b, logistic_model_b.predict(x_val_b), target_names=['Not Fraud', 'Fraud']))"
      ],
      "metadata": {
        "colab": {
          "base_uri": "https://localhost:8080/",
          "height": 0
        },
        "id": "hFGfjcazL9Ts",
        "outputId": "c52db15d-a3af-467f-9b08-09639a4c6277"
      },
      "execution_count": 30,
      "outputs": [
        {
          "output_type": "stream",
          "name": "stdout",
          "text": [
            "              precision    recall  f1-score   support\n",
            "\n",
            "   Not Fraud       0.90      0.97      0.93        72\n",
            "       Fraud       0.97      0.89      0.93        70\n",
            "\n",
            "    accuracy                           0.93       142\n",
            "   macro avg       0.93      0.93      0.93       142\n",
            "weighted avg       0.93      0.93      0.93       142\n",
            "\n"
          ]
        }
      ]
    },
    {
      "cell_type": "code",
      "source": [
        "shallow_nn_b = Sequential()\n",
        "shallow_nn_b.add(InputLayer((x_train.shape [1],)))\n",
        "shallow_nn_b.add(Dense (2, 'relu'))\n",
        "shallow_nn_b.add(BatchNormalization())\n",
        "shallow_nn_b.add(Dense (1,'sigmoid'))\n",
        "checkpoint = ModelCheckpoint ('shallow_n_b', save_best_only=True)\n",
        "shallow_nn_b.compile(optimizer='adam', loss='binary_crossentropy', metrics=['accuracy'])\n",
        "shallow_nn_b.fit(x_train_b, y_train_b, validation_data=(x_val_b, y_val_b), epochs=20, callbacks=checkpoint)"
      ],
      "metadata": {
        "colab": {
          "base_uri": "https://localhost:8080/",
          "height": 0
        },
        "id": "PxUP8SBiM6up",
        "outputId": "443f5809-4ade-4a18-b544-d6d5304afa9c"
      },
      "execution_count": 32,
      "outputs": [
        {
          "output_type": "stream",
          "name": "stdout",
          "text": [
            "Epoch 1/20\n",
            "20/22 [==========================>...] - ETA: 0s - loss: 0.7960 - accuracy: 0.4484"
          ]
        },
        {
          "output_type": "stream",
          "name": "stderr",
          "text": [
            "WARNING:absl:Found untraced functions such as _update_step_xla while saving (showing 1 of 1). These functions will not be directly callable after loading.\n"
          ]
        },
        {
          "output_type": "stream",
          "name": "stdout",
          "text": [
            "\b\b\b\b\b\b\b\b\b\b\b\b\b\b\b\b\b\b\b\b\b\b\b\b\b\b\b\b\b\b\b\b\b\b\b\b\b\b\b\b\b\b\b\b\b\b\b\b\b\b\b\b\b\b\b\b\b\b\b\b\b\b\b\b\b\b\b\b\b\b\b\b\b\b\b\b\b\b\b\b\b\b\r22/22 [==============================] - 5s 106ms/step - loss: 0.7934 - accuracy: 0.4571 - val_loss: 0.6698 - val_accuracy: 0.5775\n",
            "Epoch 2/20\n",
            "14/22 [==================>...........] - ETA: 0s - loss: 0.6927 - accuracy: 0.5714"
          ]
        },
        {
          "output_type": "stream",
          "name": "stderr",
          "text": [
            "WARNING:absl:Found untraced functions such as _update_step_xla while saving (showing 1 of 1). These functions will not be directly callable after loading.\n"
          ]
        },
        {
          "output_type": "stream",
          "name": "stdout",
          "text": [
            "\b\b\b\b\b\b\b\b\b\b\b\b\b\b\b\b\b\b\b\b\b\b\b\b\b\b\b\b\b\b\b\b\b\b\b\b\b\b\b\b\b\b\b\b\b\b\b\b\b\b\b\b\b\b\b\b\b\b\b\b\b\b\b\b\b\b\b\b\b\b\b\b\b\b\b\b\b\b\b\b\b\b\r22/22 [==============================] - 4s 175ms/step - loss: 0.6702 - accuracy: 0.6100 - val_loss: 0.6274 - val_accuracy: 0.6901\n",
            "Epoch 3/20\n",
            " 1/22 [>.............................] - ETA: 0s - loss: 0.6169 - accuracy: 0.7188"
          ]
        },
        {
          "output_type": "stream",
          "name": "stderr",
          "text": [
            "WARNING:absl:Found untraced functions such as _update_step_xla while saving (showing 1 of 1). These functions will not be directly callable after loading.\n"
          ]
        },
        {
          "output_type": "stream",
          "name": "stdout",
          "text": [
            "\b\b\b\b\b\b\b\b\b\b\b\b\b\b\b\b\b\b\b\b\b\b\b\b\b\b\b\b\b\b\b\b\b\b\b\b\b\b\b\b\b\b\b\b\b\b\b\b\b\b\b\b\b\b\b\b\b\b\b\b\b\b\b\b\b\b\b\b\b\b\b\b\b\b\b\b\b\b\b\b\b\b\r22/22 [==============================] - 1s 45ms/step - loss: 0.6359 - accuracy: 0.6514 - val_loss: 0.5994 - val_accuracy: 0.7254\n",
            "Epoch 4/20\n",
            " 1/22 [>.............................] - ETA: 0s - loss: 0.6716 - accuracy: 0.5938"
          ]
        },
        {
          "output_type": "stream",
          "name": "stderr",
          "text": [
            "WARNING:absl:Found untraced functions such as _update_step_xla while saving (showing 1 of 1). These functions will not be directly callable after loading.\n"
          ]
        },
        {
          "output_type": "stream",
          "name": "stdout",
          "text": [
            "\b\b\b\b\b\b\b\b\b\b\b\b\b\b\b\b\b\b\b\b\b\b\b\b\b\b\b\b\b\b\b\b\b\b\b\b\b\b\b\b\b\b\b\b\b\b\b\b\b\b\b\b\b\b\b\b\b\b\b\b\b\b\b\b\b\b\b\b\b\b\b\b\b\b\b\b\b\b\b\b\b\b\r22/22 [==============================] - 1s 45ms/step - loss: 0.6021 - accuracy: 0.6757 - val_loss: 0.5730 - val_accuracy: 0.7465\n",
            "Epoch 5/20\n",
            " 1/22 [>.............................] - ETA: 0s - loss: 0.5726 - accuracy: 0.7500"
          ]
        },
        {
          "output_type": "stream",
          "name": "stderr",
          "text": [
            "WARNING:absl:Found untraced functions such as _update_step_xla while saving (showing 1 of 1). These functions will not be directly callable after loading.\n"
          ]
        },
        {
          "output_type": "stream",
          "name": "stdout",
          "text": [
            "\b\b\b\b\b\b\b\b\b\b\b\b\b\b\b\b\b\b\b\b\b\b\b\b\b\b\b\b\b\b\b\b\b\b\b\b\b\b\b\b\b\b\b\b\b\b\b\b\b\b\b\b\b\b\b\b\b\b\b\b\b\b\b\b\b\b\b\b\b\b\b\b\b\b\b\b\b\b\b\b\b\b\r22/22 [==============================] - 1s 44ms/step - loss: 0.5876 - accuracy: 0.7014 - val_loss: 0.5497 - val_accuracy: 0.7676\n",
            "Epoch 6/20\n",
            " 1/22 [>.............................] - ETA: 0s - loss: 0.6141 - accuracy: 0.6875"
          ]
        },
        {
          "output_type": "stream",
          "name": "stderr",
          "text": [
            "WARNING:absl:Found untraced functions such as _update_step_xla while saving (showing 1 of 1). These functions will not be directly callable after loading.\n"
          ]
        },
        {
          "output_type": "stream",
          "name": "stdout",
          "text": [
            "\b\b\b\b\b\b\b\b\b\b\b\b\b\b\b\b\b\b\b\b\b\b\b\b\b\b\b\b\b\b\b\b\b\b\b\b\b\b\b\b\b\b\b\b\b\b\b\b\b\b\b\b\b\b\b\b\b\b\b\b\b\b\b\b\b\b\b\b\b\b\b\b\b\b\b\b\b\b\b\b\b\b\r22/22 [==============================] - 1s 45ms/step - loss: 0.5638 - accuracy: 0.7200 - val_loss: 0.5295 - val_accuracy: 0.7676\n",
            "Epoch 7/20\n",
            " 1/22 [>.............................] - ETA: 0s - loss: 0.5455 - accuracy: 0.7188"
          ]
        },
        {
          "output_type": "stream",
          "name": "stderr",
          "text": [
            "WARNING:absl:Found untraced functions such as _update_step_xla while saving (showing 1 of 1). These functions will not be directly callable after loading.\n"
          ]
        },
        {
          "output_type": "stream",
          "name": "stdout",
          "text": [
            "\b\b\b\b\b\b\b\b\b\b\b\b\b\b\b\b\b\b\b\b\b\b\b\b\b\b\b\b\b\b\b\b\b\b\b\b\b\b\b\b\b\b\b\b\b\b\b\b\b\b\b\b\b\b\b\b\b\b\b\b\b\b\b\b\b\b\b\b\b\b\b\b\b\b\b\b\b\b\b\b\b\b\r22/22 [==============================] - 1s 65ms/step - loss: 0.5516 - accuracy: 0.7286 - val_loss: 0.5118 - val_accuracy: 0.7676\n",
            "Epoch 8/20\n",
            " 1/22 [>.............................] - ETA: 0s - loss: 0.5174 - accuracy: 0.8438"
          ]
        },
        {
          "output_type": "stream",
          "name": "stderr",
          "text": [
            "WARNING:absl:Found untraced functions such as _update_step_xla while saving (showing 1 of 1). These functions will not be directly callable after loading.\n"
          ]
        },
        {
          "output_type": "stream",
          "name": "stdout",
          "text": [
            "\b\b\b\b\b\b\b\b\b\b\b\b\b\b\b\b\b\b\b\b\b\b\b\b\b\b\b\b\b\b\b\b\b\b\b\b\b\b\b\b\b\b\b\b\b\b\b\b\b\b\b\b\b\b\b\b\b\b\b\b\b\b\b\b\b\b\b\b\b\b\b\b\b\b\b\b\b\b\b\b\b\b\r22/22 [==============================] - 1s 46ms/step - loss: 0.5336 - accuracy: 0.7386 - val_loss: 0.4954 - val_accuracy: 0.7746\n",
            "Epoch 9/20\n",
            " 1/22 [>.............................] - ETA: 0s - loss: 0.5061 - accuracy: 0.7188"
          ]
        },
        {
          "output_type": "stream",
          "name": "stderr",
          "text": [
            "WARNING:absl:Found untraced functions such as _update_step_xla while saving (showing 1 of 1). These functions will not be directly callable after loading.\n"
          ]
        },
        {
          "output_type": "stream",
          "name": "stdout",
          "text": [
            "\b\b\b\b\b\b\b\b\b\b\b\b\b\b\b\b\b\b\b\b\b\b\b\b\b\b\b\b\b\b\b\b\b\b\b\b\b\b\b\b\b\b\b\b\b\b\b\b\b\b\b\b\b\b\b\b\b\b\b\b\b\b\b\b\b\b\b\b\b\b\b\b\b\b\b\b\b\b\b\b\b\b\r22/22 [==============================] - 1s 46ms/step - loss: 0.5184 - accuracy: 0.7543 - val_loss: 0.4802 - val_accuracy: 0.7746\n",
            "Epoch 10/20\n",
            " 1/22 [>.............................] - ETA: 0s - loss: 0.4723 - accuracy: 0.8438"
          ]
        },
        {
          "output_type": "stream",
          "name": "stderr",
          "text": [
            "WARNING:absl:Found untraced functions such as _update_step_xla while saving (showing 1 of 1). These functions will not be directly callable after loading.\n"
          ]
        },
        {
          "output_type": "stream",
          "name": "stdout",
          "text": [
            "\b\b\b\b\b\b\b\b\b\b\b\b\b\b\b\b\b\b\b\b\b\b\b\b\b\b\b\b\b\b\b\b\b\b\b\b\b\b\b\b\b\b\b\b\b\b\b\b\b\b\b\b\b\b\b\b\b\b\b\b\b\b\b\b\b\b\b\b\b\b\b\b\b\b\b\b\b\b\b\b\b\b\r22/22 [==============================] - 1s 45ms/step - loss: 0.4994 - accuracy: 0.7614 - val_loss: 0.4656 - val_accuracy: 0.7746\n",
            "Epoch 11/20\n",
            " 1/22 [>.............................] - ETA: 0s - loss: 0.5043 - accuracy: 0.7188"
          ]
        },
        {
          "output_type": "stream",
          "name": "stderr",
          "text": [
            "WARNING:absl:Found untraced functions such as _update_step_xla while saving (showing 1 of 1). These functions will not be directly callable after loading.\n"
          ]
        },
        {
          "output_type": "stream",
          "name": "stdout",
          "text": [
            "\b\b\b\b\b\b\b\b\b\b\b\b\b\b\b\b\b\b\b\b\b\b\b\b\b\b\b\b\b\b\b\b\b\b\b\b\b\b\b\b\b\b\b\b\b\b\b\b\b\b\b\b\b\b\b\b\b\b\b\b\b\b\b\b\b\b\b\b\b\b\b\b\b\b\b\b\b\b\b\b\b\b\r22/22 [==============================] - 1s 44ms/step - loss: 0.4884 - accuracy: 0.7914 - val_loss: 0.4523 - val_accuracy: 0.7817\n",
            "Epoch 12/20\n",
            " 1/22 [>.............................] - ETA: 0s - loss: 0.4646 - accuracy: 0.8125"
          ]
        },
        {
          "output_type": "stream",
          "name": "stderr",
          "text": [
            "WARNING:absl:Found untraced functions such as _update_step_xla while saving (showing 1 of 1). These functions will not be directly callable after loading.\n"
          ]
        },
        {
          "output_type": "stream",
          "name": "stdout",
          "text": [
            "\b\b\b\b\b\b\b\b\b\b\b\b\b\b\b\b\b\b\b\b\b\b\b\b\b\b\b\b\b\b\b\b\b\b\b\b\b\b\b\b\b\b\b\b\b\b\b\b\b\b\b\b\b\b\b\b\b\b\b\b\b\b\b\b\b\b\b\b\b\b\b\b\b\b\b\b\b\b\b\b\b\b\r22/22 [==============================] - 1s 63ms/step - loss: 0.4768 - accuracy: 0.8157 - val_loss: 0.4388 - val_accuracy: 0.7817\n",
            "Epoch 13/20\n",
            "18/22 [=======================>......] - ETA: 0s - loss: 0.4508 - accuracy: 0.8385"
          ]
        },
        {
          "output_type": "stream",
          "name": "stderr",
          "text": [
            "WARNING:absl:Found untraced functions such as _update_step_xla while saving (showing 1 of 1). These functions will not be directly callable after loading.\n"
          ]
        },
        {
          "output_type": "stream",
          "name": "stdout",
          "text": [
            "\b\b\b\b\b\b\b\b\b\b\b\b\b\b\b\b\b\b\b\b\b\b\b\b\b\b\b\b\b\b\b\b\b\b\b\b\b\b\b\b\b\b\b\b\b\b\b\b\b\b\b\b\b\b\b\b\b\b\b\b\b\b\b\b\b\b\b\b\b\b\b\b\b\b\b\b\b\b\b\b\b\b\r22/22 [==============================] - 1s 68ms/step - loss: 0.4541 - accuracy: 0.8243 - val_loss: 0.4252 - val_accuracy: 0.7958\n",
            "Epoch 14/20\n",
            "22/22 [==============================] - ETA: 0s - loss: 0.4390 - accuracy: 0.8343"
          ]
        },
        {
          "output_type": "stream",
          "name": "stderr",
          "text": [
            "WARNING:absl:Found untraced functions such as _update_step_xla while saving (showing 1 of 1). These functions will not be directly callable after loading.\n"
          ]
        },
        {
          "output_type": "stream",
          "name": "stdout",
          "text": [
            "\b\b\b\b\b\b\b\b\b\b\b\b\b\b\b\b\b\b\b\b\b\b\b\b\b\b\b\b\b\b\b\b\b\b\b\b\b\b\b\b\b\b\b\b\b\b\b\b\b\b\b\b\b\b\b\b\b\b\b\b\b\b\b\b\b\b\b\b\b\b\b\b\b\b\b\b\b\b\b\b\b\b\r22/22 [==============================] - 1s 48ms/step - loss: 0.4390 - accuracy: 0.8343 - val_loss: 0.4122 - val_accuracy: 0.8944\n",
            "Epoch 15/20\n",
            " 1/22 [>.............................] - ETA: 0s - loss: 0.4108 - accuracy: 0.7812"
          ]
        },
        {
          "output_type": "stream",
          "name": "stderr",
          "text": [
            "WARNING:absl:Found untraced functions such as _update_step_xla while saving (showing 1 of 1). These functions will not be directly callable after loading.\n"
          ]
        },
        {
          "output_type": "stream",
          "name": "stdout",
          "text": [
            "\b\b\b\b\b\b\b\b\b\b\b\b\b\b\b\b\b\b\b\b\b\b\b\b\b\b\b\b\b\b\b\b\b\b\b\b\b\b\b\b\b\b\b\b\b\b\b\b\b\b\b\b\b\b\b\b\b\b\b\b\b\b\b\b\b\b\b\b\b\b\b\b\b\b\b\b\b\b\b\b\b\b\r22/22 [==============================] - 1s 46ms/step - loss: 0.4293 - accuracy: 0.8471 - val_loss: 0.3982 - val_accuracy: 0.9225\n",
            "Epoch 16/20\n",
            " 1/22 [>.............................] - ETA: 0s - loss: 0.4353 - accuracy: 0.8750"
          ]
        },
        {
          "output_type": "stream",
          "name": "stderr",
          "text": [
            "WARNING:absl:Found untraced functions such as _update_step_xla while saving (showing 1 of 1). These functions will not be directly callable after loading.\n"
          ]
        },
        {
          "output_type": "stream",
          "name": "stdout",
          "text": [
            "\b\b\b\b\b\b\b\b\b\b\b\b\b\b\b\b\b\b\b\b\b\b\b\b\b\b\b\b\b\b\b\b\b\b\b\b\b\b\b\b\b\b\b\b\b\b\b\b\b\b\b\b\b\b\b\b\b\b\b\b\b\b\b\b\b\b\b\b\b\b\b\b\b\b\b\b\b\b\b\b\b\b\r22/22 [==============================] - 1s 67ms/step - loss: 0.4002 - accuracy: 0.8814 - val_loss: 0.3873 - val_accuracy: 0.9225\n",
            "Epoch 17/20\n",
            " 1/22 [>.............................] - ETA: 0s - loss: 0.3792 - accuracy: 0.8750"
          ]
        },
        {
          "output_type": "stream",
          "name": "stderr",
          "text": [
            "WARNING:absl:Found untraced functions such as _update_step_xla while saving (showing 1 of 1). These functions will not be directly callable after loading.\n"
          ]
        },
        {
          "output_type": "stream",
          "name": "stdout",
          "text": [
            "\b\b\b\b\b\b\b\b\b\b\b\b\b\b\b\b\b\b\b\b\b\b\b\b\b\b\b\b\b\b\b\b\b\b\b\b\b\b\b\b\b\b\b\b\b\b\b\b\b\b\b\b\b\b\b\b\b\b\b\b\b\b\b\b\b\b\b\b\b\b\b\b\b\b\b\b\b\b\b\b\b\b\r22/22 [==============================] - 1s 48ms/step - loss: 0.3947 - accuracy: 0.8757 - val_loss: 0.3773 - val_accuracy: 0.9225\n",
            "Epoch 18/20\n",
            " 1/22 [>.............................] - ETA: 0s - loss: 0.3559 - accuracy: 0.8438"
          ]
        },
        {
          "output_type": "stream",
          "name": "stderr",
          "text": [
            "WARNING:absl:Found untraced functions such as _update_step_xla while saving (showing 1 of 1). These functions will not be directly callable after loading.\n"
          ]
        },
        {
          "output_type": "stream",
          "name": "stdout",
          "text": [
            "\b\b\b\b\b\b\b\b\b\b\b\b\b\b\b\b\b\b\b\b\b\b\b\b\b\b\b\b\b\b\b\b\b\b\b\b\b\b\b\b\b\b\b\b\b\b\b\b\b\b\b\b\b\b\b\b\b\b\b\b\b\b\b\b\b\b\b\b\b\b\b\b\b\b\b\b\b\b\b\b\b\b\r22/22 [==============================] - 1s 45ms/step - loss: 0.3761 - accuracy: 0.8743 - val_loss: 0.3654 - val_accuracy: 0.9155\n",
            "Epoch 19/20\n",
            " 1/22 [>.............................] - ETA: 0s - loss: 0.3507 - accuracy: 0.9688"
          ]
        },
        {
          "output_type": "stream",
          "name": "stderr",
          "text": [
            "WARNING:absl:Found untraced functions such as _update_step_xla while saving (showing 1 of 1). These functions will not be directly callable after loading.\n"
          ]
        },
        {
          "output_type": "stream",
          "name": "stdout",
          "text": [
            "\b\b\b\b\b\b\b\b\b\b\b\b\b\b\b\b\b\b\b\b\b\b\b\b\b\b\b\b\b\b\b\b\b\b\b\b\b\b\b\b\b\b\b\b\b\b\b\b\b\b\b\b\b\b\b\b\b\b\b\b\b\b\b\b\b\b\b\b\b\b\b\b\b\b\b\b\b\b\b\b\b\b\r22/22 [==============================] - 1s 47ms/step - loss: 0.3604 - accuracy: 0.9071 - val_loss: 0.3543 - val_accuracy: 0.9225\n",
            "Epoch 20/20\n",
            " 1/22 [>.............................] - ETA: 0s - loss: 0.3875 - accuracy: 0.7812"
          ]
        },
        {
          "output_type": "stream",
          "name": "stderr",
          "text": [
            "WARNING:absl:Found untraced functions such as _update_step_xla while saving (showing 1 of 1). These functions will not be directly callable after loading.\n"
          ]
        },
        {
          "output_type": "stream",
          "name": "stdout",
          "text": [
            "\b\b\b\b\b\b\b\b\b\b\b\b\b\b\b\b\b\b\b\b\b\b\b\b\b\b\b\b\b\b\b\b\b\b\b\b\b\b\b\b\b\b\b\b\b\b\b\b\b\b\b\b\b\b\b\b\b\b\b\b\b\b\b\b\b\b\b\b\b\b\b\b\b\b\b\b\b\b\b\b\b\b\r22/22 [==============================] - 1s 46ms/step - loss: 0.3449 - accuracy: 0.8957 - val_loss: 0.3411 - val_accuracy: 0.9225\n"
          ]
        },
        {
          "output_type": "execute_result",
          "data": {
            "text/plain": [
              "<keras.callbacks.History at 0x7fe77c40b700>"
            ]
          },
          "metadata": {},
          "execution_count": 32
        }
      ]
    },
    {
      "cell_type": "code",
      "source": [
        "shallow_nn_b.fit(x_train_b,y_train_b,validation_data=(x_val_b,y_val_b), epochs = 20, callbacks=checkpoint)"
      ],
      "metadata": {
        "colab": {
          "base_uri": "https://localhost:8080/",
          "height": 0
        },
        "id": "AJvWlVOvvUi9",
        "outputId": "bbe7ee1e-59f6-41d2-af15-41d0d8a02bd9"
      },
      "execution_count": 34,
      "outputs": [
        {
          "output_type": "stream",
          "name": "stdout",
          "text": [
            "Epoch 1/20\n",
            "15/22 [===================>..........] - ETA: 0s - loss: 0.2776 - accuracy: 0.9271"
          ]
        },
        {
          "output_type": "stream",
          "name": "stderr",
          "text": [
            "WARNING:absl:Found untraced functions such as _update_step_xla while saving (showing 1 of 1). These functions will not be directly callable after loading.\n"
          ]
        },
        {
          "output_type": "stream",
          "name": "stdout",
          "text": [
            "\b\b\b\b\b\b\b\b\b\b\b\b\b\b\b\b\b\b\b\b\b\b\b\b\b\b\b\b\b\b\b\b\b\b\b\b\b\b\b\b\b\b\b\b\b\b\b\b\b\b\b\b\b\b\b\b\b\b\b\b\b\b\b\b\b\b\b\b\b\b\b\b\b\b\b\b\b\b\b\b\b\b\r22/22 [==============================] - 2s 86ms/step - loss: 0.2703 - accuracy: 0.9357 - val_loss: 0.2761 - val_accuracy: 0.9155\n",
            "Epoch 2/20\n",
            " 9/22 [===========>..................] - ETA: 0s - loss: 0.3003 - accuracy: 0.9167"
          ]
        },
        {
          "output_type": "stream",
          "name": "stderr",
          "text": [
            "WARNING:absl:Found untraced functions such as _update_step_xla while saving (showing 1 of 1). These functions will not be directly callable after loading.\n"
          ]
        },
        {
          "output_type": "stream",
          "name": "stdout",
          "text": [
            "\b\b\b\b\b\b\b\b\b\b\b\b\b\b\b\b\b\b\b\b\b\b\b\b\b\b\b\b\b\b\b\b\b\b\b\b\b\b\b\b\b\b\b\b\b\b\b\b\b\b\b\b\b\b\b\b\b\b\b\b\b\b\b\b\b\b\b\b\b\b\b\b\b\b\b\b\b\b\b\b\b\b\r22/22 [==============================] - 2s 89ms/step - loss: 0.2630 - accuracy: 0.9257 - val_loss: 0.2727 - val_accuracy: 0.9155\n",
            "Epoch 3/20\n",
            " 1/22 [>.............................] - ETA: 0s - loss: 0.2860 - accuracy: 0.9062"
          ]
        },
        {
          "output_type": "stream",
          "name": "stderr",
          "text": [
            "WARNING:absl:Found untraced functions such as _update_step_xla while saving (showing 1 of 1). These functions will not be directly callable after loading.\n"
          ]
        },
        {
          "output_type": "stream",
          "name": "stdout",
          "text": [
            "\b\b\b\b\b\b\b\b\b\b\b\b\b\b\b\b\b\b\b\b\b\b\b\b\b\b\b\b\b\b\b\b\b\b\b\b\b\b\b\b\b\b\b\b\b\b\b\b\b\b\b\b\b\b\b\b\b\b\b\b\b\b\b\b\b\b\b\b\b\b\b\b\b\b\b\b\b\b\b\b\b\b\r22/22 [==============================] - 1s 59ms/step - loss: 0.2549 - accuracy: 0.9300 - val_loss: 0.2692 - val_accuracy: 0.9155\n",
            "Epoch 4/20\n",
            "15/22 [===================>..........] - ETA: 0s - loss: 0.2599 - accuracy: 0.9375"
          ]
        },
        {
          "output_type": "stream",
          "name": "stderr",
          "text": [
            "WARNING:absl:Found untraced functions such as _update_step_xla while saving (showing 1 of 1). These functions will not be directly callable after loading.\n"
          ]
        },
        {
          "output_type": "stream",
          "name": "stdout",
          "text": [
            "\b\b\b\b\b\b\b\b\b\b\b\b\b\b\b\b\b\b\b\b\b\b\b\b\b\b\b\b\b\b\b\b\b\b\b\b\b\b\b\b\b\b\b\b\b\b\b\b\b\b\b\b\b\b\b\b\b\b\b\b\b\b\b\b\b\b\b\b\b\b\b\b\b\b\b\b\b\b\b\b\b\b\r22/22 [==============================] - 1s 70ms/step - loss: 0.2511 - accuracy: 0.9343 - val_loss: 0.2664 - val_accuracy: 0.9085\n",
            "Epoch 5/20\n",
            "18/22 [=======================>......] - ETA: 0s - loss: 0.2524 - accuracy: 0.9375"
          ]
        },
        {
          "output_type": "stream",
          "name": "stderr",
          "text": [
            "WARNING:absl:Found untraced functions such as _update_step_xla while saving (showing 1 of 1). These functions will not be directly callable after loading.\n"
          ]
        },
        {
          "output_type": "stream",
          "name": "stdout",
          "text": [
            "\b\b\b\b\b\b\b\b\b\b\b\b\b\b\b\b\b\b\b\b\b\b\b\b\b\b\b\b\b\b\b\b\b\b\b\b\b\b\b\b\b\b\b\b\b\b\b\b\b\b\b\b\b\b\b\b\b\b\b\b\b\b\b\b\b\b\b\b\b\b\b\b\b\b\b\b\b\b\b\b\b\b\r22/22 [==============================] - 1s 50ms/step - loss: 0.2553 - accuracy: 0.9329 - val_loss: 0.2632 - val_accuracy: 0.9085\n",
            "Epoch 6/20\n",
            " 1/22 [>.............................] - ETA: 0s - loss: 0.2120 - accuracy: 0.9688"
          ]
        },
        {
          "output_type": "stream",
          "name": "stderr",
          "text": [
            "WARNING:absl:Found untraced functions such as _update_step_xla while saving (showing 1 of 1). These functions will not be directly callable after loading.\n"
          ]
        },
        {
          "output_type": "stream",
          "name": "stdout",
          "text": [
            "\b\b\b\b\b\b\b\b\b\b\b\b\b\b\b\b\b\b\b\b\b\b\b\b\b\b\b\b\b\b\b\b\b\b\b\b\b\b\b\b\b\b\b\b\b\b\b\b\b\b\b\b\b\b\b\b\b\b\b\b\b\b\b\b\b\b\b\b\b\b\b\b\b\b\b\b\b\b\b\b\b\b\r22/22 [==============================] - 1s 46ms/step - loss: 0.2386 - accuracy: 0.9414 - val_loss: 0.2623 - val_accuracy: 0.9085\n",
            "Epoch 7/20\n",
            " 1/22 [>.............................] - ETA: 0s - loss: 0.3381 - accuracy: 0.9375"
          ]
        },
        {
          "output_type": "stream",
          "name": "stderr",
          "text": [
            "WARNING:absl:Found untraced functions such as _update_step_xla while saving (showing 1 of 1). These functions will not be directly callable after loading.\n"
          ]
        },
        {
          "output_type": "stream",
          "name": "stdout",
          "text": [
            "\b\b\b\b\b\b\b\b\b\b\b\b\b\b\b\b\b\b\b\b\b\b\b\b\b\b\b\b\b\b\b\b\b\b\b\b\b\b\b\b\b\b\b\b\b\b\b\b\b\b\b\b\b\b\b\b\b\b\b\b\b\b\b\b\b\b\b\b\b\b\b\b\b\b\b\b\b\b\b\b\b\b\r22/22 [==============================] - 1s 45ms/step - loss: 0.2436 - accuracy: 0.9286 - val_loss: 0.2595 - val_accuracy: 0.9085\n",
            "Epoch 8/20\n",
            " 1/22 [>.............................] - ETA: 0s - loss: 0.2567 - accuracy: 0.9375"
          ]
        },
        {
          "output_type": "stream",
          "name": "stderr",
          "text": [
            "WARNING:absl:Found untraced functions such as _update_step_xla while saving (showing 1 of 1). These functions will not be directly callable after loading.\n"
          ]
        },
        {
          "output_type": "stream",
          "name": "stdout",
          "text": [
            "\b\b\b\b\b\b\b\b\b\b\b\b\b\b\b\b\b\b\b\b\b\b\b\b\b\b\b\b\b\b\b\b\b\b\b\b\b\b\b\b\b\b\b\b\b\b\b\b\b\b\b\b\b\b\b\b\b\b\b\b\b\b\b\b\b\b\b\b\b\b\b\b\b\b\b\b\b\b\b\b\b\b\r22/22 [==============================] - 1s 70ms/step - loss: 0.2328 - accuracy: 0.9414 - val_loss: 0.2580 - val_accuracy: 0.9085\n",
            "Epoch 9/20\n",
            " 1/22 [>.............................] - ETA: 0s - loss: 0.1926 - accuracy: 1.0000"
          ]
        },
        {
          "output_type": "stream",
          "name": "stderr",
          "text": [
            "WARNING:absl:Found untraced functions such as _update_step_xla while saving (showing 1 of 1). These functions will not be directly callable after loading.\n"
          ]
        },
        {
          "output_type": "stream",
          "name": "stdout",
          "text": [
            "\b\b\b\b\b\b\b\b\b\b\b\b\b\b\b\b\b\b\b\b\b\b\b\b\b\b\b\b\b\b\b\b\b\b\b\b\b\b\b\b\b\b\b\b\b\b\b\b\b\b\b\b\b\b\b\b\b\b\b\b\b\b\b\b\b\b\b\b\b\b\b\b\b\b\b\b\b\b\b\b\b\b\r22/22 [==============================] - 1s 49ms/step - loss: 0.2241 - accuracy: 0.9286 - val_loss: 0.2566 - val_accuracy: 0.9085\n",
            "Epoch 10/20\n",
            " 1/22 [>.............................] - ETA: 0s - loss: 0.1915 - accuracy: 0.9688"
          ]
        },
        {
          "output_type": "stream",
          "name": "stderr",
          "text": [
            "WARNING:absl:Found untraced functions such as _update_step_xla while saving (showing 1 of 1). These functions will not be directly callable after loading.\n"
          ]
        },
        {
          "output_type": "stream",
          "name": "stdout",
          "text": [
            "\b\b\b\b\b\b\b\b\b\b\b\b\b\b\b\b\b\b\b\b\b\b\b\b\b\b\b\b\b\b\b\b\b\b\b\b\b\b\b\b\b\b\b\b\b\b\b\b\b\b\b\b\b\b\b\b\b\b\b\b\b\b\b\b\b\b\b\b\b\b\b\b\b\b\b\b\b\b\b\b\b\b\r22/22 [==============================] - 1s 47ms/step - loss: 0.2263 - accuracy: 0.9229 - val_loss: 0.2534 - val_accuracy: 0.9085\n",
            "Epoch 11/20\n",
            "22/22 [==============================] - ETA: 0s - loss: 0.2246 - accuracy: 0.9400"
          ]
        },
        {
          "output_type": "stream",
          "name": "stderr",
          "text": [
            "WARNING:absl:Found untraced functions such as _update_step_xla while saving (showing 1 of 1). These functions will not be directly callable after loading.\n"
          ]
        },
        {
          "output_type": "stream",
          "name": "stdout",
          "text": [
            "\b\b\b\b\b\b\b\b\b\b\b\b\b\b\b\b\b\b\b\b\b\b\b\b\b\b\b\b\b\b\b\b\b\b\b\b\b\b\b\b\b\b\b\b\b\b\b\b\b\b\b\b\b\b\b\b\b\b\b\b\b\b\b\b\b\b\b\b\b\b\b\b\b\b\b\b\b\b\b\b\b\b\r22/22 [==============================] - 1s 49ms/step - loss: 0.2246 - accuracy: 0.9400 - val_loss: 0.2520 - val_accuracy: 0.9085\n",
            "Epoch 12/20\n",
            " 1/22 [>.............................] - ETA: 0s - loss: 0.3313 - accuracy: 0.9375"
          ]
        },
        {
          "output_type": "stream",
          "name": "stderr",
          "text": [
            "WARNING:absl:Found untraced functions such as _update_step_xla while saving (showing 1 of 1). These functions will not be directly callable after loading.\n"
          ]
        },
        {
          "output_type": "stream",
          "name": "stdout",
          "text": [
            "\b\b\b\b\b\b\b\b\b\b\b\b\b\b\b\b\b\b\b\b\b\b\b\b\b\b\b\b\b\b\b\b\b\b\b\b\b\b\b\b\b\b\b\b\b\b\b\b\b\b\b\b\b\b\b\b\b\b\b\b\b\b\b\b\b\b\b\b\b\b\b\b\b\b\b\b\b\b\b\b\b\b\r22/22 [==============================] - 1s 46ms/step - loss: 0.2257 - accuracy: 0.9371 - val_loss: 0.2509 - val_accuracy: 0.9085\n",
            "Epoch 13/20\n",
            " 1/22 [>.............................] - ETA: 0s - loss: 0.2103 - accuracy: 0.9688"
          ]
        },
        {
          "output_type": "stream",
          "name": "stderr",
          "text": [
            "WARNING:absl:Found untraced functions such as _update_step_xla while saving (showing 1 of 1). These functions will not be directly callable after loading.\n"
          ]
        },
        {
          "output_type": "stream",
          "name": "stdout",
          "text": [
            "\b\b\b\b\b\b\b\b\b\b\b\b\b\b\b\b\b\b\b\b\b\b\b\b\b\b\b\b\b\b\b\b\b\b\b\b\b\b\b\b\b\b\b\b\b\b\b\b\b\b\b\b\b\b\b\b\b\b\b\b\b\b\b\b\b\b\b\b\b\b\b\b\b\b\b\b\b\b\b\b\b\b\r22/22 [==============================] - 1s 55ms/step - loss: 0.2140 - accuracy: 0.9371 - val_loss: 0.2495 - val_accuracy: 0.9085\n",
            "Epoch 14/20\n",
            "16/22 [====================>.........] - ETA: 0s - loss: 0.2208 - accuracy: 0.9512"
          ]
        },
        {
          "output_type": "stream",
          "name": "stderr",
          "text": [
            "WARNING:absl:Found untraced functions such as _update_step_xla while saving (showing 1 of 1). These functions will not be directly callable after loading.\n"
          ]
        },
        {
          "output_type": "stream",
          "name": "stdout",
          "text": [
            "\b\b\b\b\b\b\b\b\b\b\b\b\b\b\b\b\b\b\b\b\b\b\b\b\b\b\b\b\b\b\b\b\b\b\b\b\b\b\b\b\b\b\b\b\b\b\b\b\b\b\b\b\b\b\b\b\b\b\b\b\b\b\b\b\b\b\b\b\b\b\b\b\b\b\b\b\b\b\b\b\b\b\r22/22 [==============================] - 2s 71ms/step - loss: 0.2111 - accuracy: 0.9486 - val_loss: 0.2486 - val_accuracy: 0.9085\n",
            "Epoch 15/20\n",
            "15/22 [===================>..........] - ETA: 0s - loss: 0.2103 - accuracy: 0.9438"
          ]
        },
        {
          "output_type": "stream",
          "name": "stderr",
          "text": [
            "WARNING:absl:Found untraced functions such as _update_step_xla while saving (showing 1 of 1). These functions will not be directly callable after loading.\n"
          ]
        },
        {
          "output_type": "stream",
          "name": "stdout",
          "text": [
            "\b\b\b\b\b\b\b\b\b\b\b\b\b\b\b\b\b\b\b\b\b\b\b\b\b\b\b\b\b\b\b\b\b\b\b\b\b\b\b\b\b\b\b\b\b\b\b\b\b\b\b\b\b\b\b\b\b\b\b\b\b\b\b\b\b\b\b\b\b\b\b\b\b\b\b\b\b\b\b\b\b\b\r22/22 [==============================] - 2s 72ms/step - loss: 0.2202 - accuracy: 0.9243 - val_loss: 0.2474 - val_accuracy: 0.9155\n",
            "Epoch 16/20\n",
            "22/22 [==============================] - 0s 7ms/step - loss: 0.2094 - accuracy: 0.9429 - val_loss: 0.2486 - val_accuracy: 0.9155\n",
            "Epoch 17/20\n",
            "16/22 [====================>.........] - ETA: 0s - loss: 0.1987 - accuracy: 0.9492"
          ]
        },
        {
          "output_type": "stream",
          "name": "stderr",
          "text": [
            "WARNING:absl:Found untraced functions such as _update_step_xla while saving (showing 1 of 1). These functions will not be directly callable after loading.\n"
          ]
        },
        {
          "output_type": "stream",
          "name": "stdout",
          "text": [
            "\b\b\b\b\b\b\b\b\b\b\b\b\b\b\b\b\b\b\b\b\b\b\b\b\b\b\b\b\b\b\b\b\b\b\b\b\b\b\b\b\b\b\b\b\b\b\b\b\b\b\b\b\b\b\b\b\b\b\b\b\b\b\b\b\b\b\b\b\b\b\b\b\b\b\b\b\b\b\b\b\b\b\r22/22 [==============================] - 1s 69ms/step - loss: 0.2079 - accuracy: 0.9500 - val_loss: 0.2449 - val_accuracy: 0.9155\n",
            "Epoch 18/20\n",
            "22/22 [==============================] - 0s 4ms/step - loss: 0.2023 - accuracy: 0.9500 - val_loss: 0.2455 - val_accuracy: 0.9155\n",
            "Epoch 19/20\n",
            " 1/22 [>.............................] - ETA: 0s - loss: 0.2000 - accuracy: 0.9375"
          ]
        },
        {
          "output_type": "stream",
          "name": "stderr",
          "text": [
            "WARNING:absl:Found untraced functions such as _update_step_xla while saving (showing 1 of 1). These functions will not be directly callable after loading.\n"
          ]
        },
        {
          "output_type": "stream",
          "name": "stdout",
          "text": [
            "\b\b\b\b\b\b\b\b\b\b\b\b\b\b\b\b\b\b\b\b\b\b\b\b\b\b\b\b\b\b\b\b\b\b\b\b\b\b\b\b\b\b\b\b\b\b\b\b\b\b\b\b\b\b\b\b\b\b\b\b\b\b\b\b\b\b\b\b\b\b\b\b\b\b\b\b\b\b\b\b\b\b\r22/22 [==============================] - 1s 47ms/step - loss: 0.1998 - accuracy: 0.9429 - val_loss: 0.2436 - val_accuracy: 0.9155\n",
            "Epoch 20/20\n",
            " 1/22 [>.............................] - ETA: 0s - loss: 0.1664 - accuracy: 0.9375"
          ]
        },
        {
          "output_type": "stream",
          "name": "stderr",
          "text": [
            "WARNING:absl:Found untraced functions such as _update_step_xla while saving (showing 1 of 1). These functions will not be directly callable after loading.\n"
          ]
        },
        {
          "output_type": "stream",
          "name": "stdout",
          "text": [
            "\b\b\b\b\b\b\b\b\b\b\b\b\b\b\b\b\b\b\b\b\b\b\b\b\b\b\b\b\b\b\b\b\b\b\b\b\b\b\b\b\b\b\b\b\b\b\b\b\b\b\b\b\b\b\b\b\b\b\b\b\b\b\b\b\b\b\b\b\b\b\b\b\b\b\b\b\b\b\b\b\b\b\r22/22 [==============================] - 1s 70ms/step - loss: 0.1988 - accuracy: 0.9429 - val_loss: 0.2428 - val_accuracy: 0.9155\n"
          ]
        },
        {
          "output_type": "execute_result",
          "data": {
            "text/plain": [
              "<keras.callbacks.History at 0x7fe777be4550>"
            ]
          },
          "metadata": {},
          "execution_count": 34
        }
      ]
    },
    {
      "cell_type": "code",
      "source": [
        "print(classification_report(y_val_b, neural_net_prediction(shallow_nn_b, x_val_b), target_names=['Not Fraud', 'Fraud']))"
      ],
      "metadata": {
        "colab": {
          "base_uri": "https://localhost:8080/",
          "height": 0
        },
        "id": "TAQjpRP3OFTe",
        "outputId": "66b49e47-e6b0-4407-a2f3-4ea44969a512"
      },
      "execution_count": 35,
      "outputs": [
        {
          "output_type": "stream",
          "name": "stdout",
          "text": [
            "5/5 [==============================] - 0s 3ms/step\n",
            "              precision    recall  f1-score   support\n",
            "\n",
            "   Not Fraud       0.86      1.00      0.92        72\n",
            "       Fraud       1.00      0.83      0.91        70\n",
            "\n",
            "    accuracy                           0.92       142\n",
            "   macro avg       0.93      0.91      0.91       142\n",
            "weighted avg       0.93      0.92      0.91       142\n",
            "\n"
          ]
        }
      ]
    },
    {
      "cell_type": "code",
      "source": [
        "shallow_nn_b1 = Sequential()\n",
        "shallow_nn_b1.add(InputLayer((x_train.shape [1],)))\n",
        "shallow_nn_b1.add(Dense (1, 'relu'))\n",
        "shallow_nn_b1.add(BatchNormalization())\n",
        "shallow_nn_b1.add(Dense (1,'sigmoid'))\n",
        "checkpoint = ModelCheckpoint ('shallow_n_b', save_best_only=True)\n",
        "shallow_nn_b1.compile(optimizer='adam', loss='binary_crossentropy', metrics=['accuracy'])\n",
        "shallow_nn_b1.fit(x_train_b, y_train_b, validation_data=(x_val_b, y_val_b), epochs=10, callbacks=checkpoint)"
      ],
      "metadata": {
        "id": "5AgDQ5vPPMoT",
        "colab": {
          "base_uri": "https://localhost:8080/",
          "height": 0
        },
        "outputId": "c461e4af-5802-4d09-ce83-c0c70876eca3"
      },
      "execution_count": 36,
      "outputs": [
        {
          "output_type": "stream",
          "name": "stdout",
          "text": [
            "Epoch 1/10\n",
            " 1/22 [>.............................] - ETA: 21s - loss: 0.7238 - accuracy: 0.5625"
          ]
        },
        {
          "output_type": "stream",
          "name": "stderr",
          "text": [
            "WARNING:absl:Found untraced functions such as _update_step_xla while saving (showing 1 of 1). These functions will not be directly callable after loading.\n"
          ]
        },
        {
          "output_type": "stream",
          "name": "stdout",
          "text": [
            "\b\b\b\b\b\b\b\b\b\b\b\b\b\b\b\b\b\b\b\b\b\b\b\b\b\b\b\b\b\b\b\b\b\b\b\b\b\b\b\b\b\b\b\b\b\b\b\b\b\b\b\b\b\b\b\b\b\b\b\b\b\b\b\b\b\b\b\b\b\b\b\b\b\b\b\b\b\b\b\b\b\b\b\r22/22 [==============================] - 2s 54ms/step - loss: 0.6060 - accuracy: 0.6743 - val_loss: 0.5811 - val_accuracy: 0.6761\n",
            "Epoch 2/10\n",
            " 1/22 [>.............................] - ETA: 0s - loss: 0.5690 - accuracy: 0.7188"
          ]
        },
        {
          "output_type": "stream",
          "name": "stderr",
          "text": [
            "WARNING:absl:Found untraced functions such as _update_step_xla while saving (showing 1 of 1). These functions will not be directly callable after loading.\n"
          ]
        },
        {
          "output_type": "stream",
          "name": "stdout",
          "text": [
            "\b\b\b\b\b\b\b\b\b\b\b\b\b\b\b\b\b\b\b\b\b\b\b\b\b\b\b\b\b\b\b\b\b\b\b\b\b\b\b\b\b\b\b\b\b\b\b\b\b\b\b\b\b\b\b\b\b\b\b\b\b\b\b\b\b\b\b\b\b\b\b\b\b\b\b\b\b\b\b\b\b\b\r22/22 [==============================] - 1s 46ms/step - loss: 0.5682 - accuracy: 0.7100 - val_loss: 0.5244 - val_accuracy: 0.7324\n",
            "Epoch 3/10\n",
            " 1/22 [>.............................] - ETA: 0s - loss: 0.5737 - accuracy: 0.7500"
          ]
        },
        {
          "output_type": "stream",
          "name": "stderr",
          "text": [
            "WARNING:absl:Found untraced functions such as _update_step_xla while saving (showing 1 of 1). These functions will not be directly callable after loading.\n"
          ]
        },
        {
          "output_type": "stream",
          "name": "stdout",
          "text": [
            "\b\b\b\b\b\b\b\b\b\b\b\b\b\b\b\b\b\b\b\b\b\b\b\b\b\b\b\b\b\b\b\b\b\b\b\b\b\b\b\b\b\b\b\b\b\b\b\b\b\b\b\b\b\b\b\b\b\b\b\b\b\b\b\b\b\b\b\b\b\b\b\b\b\b\b\b\b\b\b\b\b\b\r22/22 [==============================] - 1s 66ms/step - loss: 0.5454 - accuracy: 0.7457 - val_loss: 0.4912 - val_accuracy: 0.7606\n",
            "Epoch 4/10\n",
            "19/22 [========================>.....] - ETA: 0s - loss: 0.5357 - accuracy: 0.7714"
          ]
        },
        {
          "output_type": "stream",
          "name": "stderr",
          "text": [
            "WARNING:absl:Found untraced functions such as _update_step_xla while saving (showing 1 of 1). These functions will not be directly callable after loading.\n"
          ]
        },
        {
          "output_type": "stream",
          "name": "stdout",
          "text": [
            "\b\b\b\b\b\b\b\b\b\b\b\b\b\b\b\b\b\b\b\b\b\b\b\b\b\b\b\b\b\b\b\b\b\b\b\b\b\b\b\b\b\b\b\b\b\b\b\b\b\b\b\b\b\b\b\b\b\b\b\b\b\b\b\b\b\b\b\b\b\b\b\b\b\b\b\b\b\b\b\b\b\b\r22/22 [==============================] - 1s 64ms/step - loss: 0.5313 - accuracy: 0.7786 - val_loss: 0.4719 - val_accuracy: 0.7958\n",
            "Epoch 5/10\n",
            " 1/22 [>.............................] - ETA: 0s - loss: 0.5626 - accuracy: 0.7188"
          ]
        },
        {
          "output_type": "stream",
          "name": "stderr",
          "text": [
            "WARNING:absl:Found untraced functions such as _update_step_xla while saving (showing 1 of 1). These functions will not be directly callable after loading.\n"
          ]
        },
        {
          "output_type": "stream",
          "name": "stdout",
          "text": [
            "\b\b\b\b\b\b\b\b\b\b\b\b\b\b\b\b\b\b\b\b\b\b\b\b\b\b\b\b\b\b\b\b\b\b\b\b\b\b\b\b\b\b\b\b\b\b\b\b\b\b\b\b\b\b\b\b\b\b\b\b\b\b\b\b\b\b\b\b\b\b\b\b\b\b\b\b\b\b\b\b\b\b\r22/22 [==============================] - 1s 46ms/step - loss: 0.5145 - accuracy: 0.7886 - val_loss: 0.4554 - val_accuracy: 0.8028\n",
            "Epoch 6/10\n",
            " 1/22 [>.............................] - ETA: 0s - loss: 0.4707 - accuracy: 0.8438"
          ]
        },
        {
          "output_type": "stream",
          "name": "stderr",
          "text": [
            "WARNING:absl:Found untraced functions such as _update_step_xla while saving (showing 1 of 1). These functions will not be directly callable after loading.\n"
          ]
        },
        {
          "output_type": "stream",
          "name": "stdout",
          "text": [
            "\b\b\b\b\b\b\b\b\b\b\b\b\b\b\b\b\b\b\b\b\b\b\b\b\b\b\b\b\b\b\b\b\b\b\b\b\b\b\b\b\b\b\b\b\b\b\b\b\b\b\b\b\b\b\b\b\b\b\b\b\b\b\b\b\b\b\b\b\b\b\b\b\b\b\b\b\b\b\b\b\b\b\r22/22 [==============================] - 1s 46ms/step - loss: 0.4968 - accuracy: 0.8086 - val_loss: 0.4402 - val_accuracy: 0.8239\n",
            "Epoch 7/10\n",
            " 1/22 [>.............................] - ETA: 0s - loss: 0.5021 - accuracy: 0.8750"
          ]
        },
        {
          "output_type": "stream",
          "name": "stderr",
          "text": [
            "WARNING:absl:Found untraced functions such as _update_step_xla while saving (showing 1 of 1). These functions will not be directly callable after loading.\n"
          ]
        },
        {
          "output_type": "stream",
          "name": "stdout",
          "text": [
            "\b\b\b\b\b\b\b\b\b\b\b\b\b\b\b\b\b\b\b\b\b\b\b\b\b\b\b\b\b\b\b\b\b\b\b\b\b\b\b\b\b\b\b\b\b\b\b\b\b\b\b\b\b\b\b\b\b\b\b\b\b\b\b\b\b\b\b\b\b\b\b\b\b\b\b\b\b\b\b\b\b\b\r22/22 [==============================] - 1s 46ms/step - loss: 0.4849 - accuracy: 0.8200 - val_loss: 0.4263 - val_accuracy: 0.8310\n",
            "Epoch 8/10\n",
            " 1/22 [>.............................] - ETA: 0s - loss: 0.4828 - accuracy: 0.8125"
          ]
        },
        {
          "output_type": "stream",
          "name": "stderr",
          "text": [
            "WARNING:absl:Found untraced functions such as _update_step_xla while saving (showing 1 of 1). These functions will not be directly callable after loading.\n"
          ]
        },
        {
          "output_type": "stream",
          "name": "stdout",
          "text": [
            "\b\b\b\b\b\b\b\b\b\b\b\b\b\b\b\b\b\b\b\b\b\b\b\b\b\b\b\b\b\b\b\b\b\b\b\b\b\b\b\b\b\b\b\b\b\b\b\b\b\b\b\b\b\b\b\b\b\b\b\b\b\b\b\b\b\b\b\b\b\b\b\b\b\b\b\b\b\b\b\b\b\b\r22/22 [==============================] - 1s 45ms/step - loss: 0.4689 - accuracy: 0.8343 - val_loss: 0.4140 - val_accuracy: 0.8521\n",
            "Epoch 9/10\n",
            " 1/22 [>.............................] - ETA: 0s - loss: 0.4673 - accuracy: 0.8438"
          ]
        },
        {
          "output_type": "stream",
          "name": "stderr",
          "text": [
            "WARNING:absl:Found untraced functions such as _update_step_xla while saving (showing 1 of 1). These functions will not be directly callable after loading.\n"
          ]
        },
        {
          "output_type": "stream",
          "name": "stdout",
          "text": [
            "\b\b\b\b\b\b\b\b\b\b\b\b\b\b\b\b\b\b\b\b\b\b\b\b\b\b\b\b\b\b\b\b\b\b\b\b\b\b\b\b\b\b\b\b\b\b\b\b\b\b\b\b\b\b\b\b\b\b\b\b\b\b\b\b\b\b\b\b\b\b\b\b\b\b\b\b\b\b\b\b\b\b\r22/22 [==============================] - 1s 66ms/step - loss: 0.4500 - accuracy: 0.8414 - val_loss: 0.4046 - val_accuracy: 0.8592\n",
            "Epoch 10/10\n",
            " 1/22 [>.............................] - ETA: 0s - loss: 0.3678 - accuracy: 0.9688"
          ]
        },
        {
          "output_type": "stream",
          "name": "stderr",
          "text": [
            "WARNING:absl:Found untraced functions such as _update_step_xla while saving (showing 1 of 1). These functions will not be directly callable after loading.\n"
          ]
        },
        {
          "output_type": "stream",
          "name": "stdout",
          "text": [
            "\b\b\b\b\b\b\b\b\b\b\b\b\b\b\b\b\b\b\b\b\b\b\b\b\b\b\b\b\b\b\b\b\b\b\b\b\b\b\b\b\b\b\b\b\b\b\b\b\b\b\b\b\b\b\b\b\b\b\b\b\b\b\b\b\b\b\b\b\b\b\b\b\b\b\b\b\b\b\b\b\b\b\r22/22 [==============================] - 1s 46ms/step - loss: 0.4460 - accuracy: 0.8486 - val_loss: 0.3968 - val_accuracy: 0.8732\n"
          ]
        },
        {
          "output_type": "execute_result",
          "data": {
            "text/plain": [
              "<keras.callbacks.History at 0x7fe77c3d8d90>"
            ]
          },
          "metadata": {},
          "execution_count": 36
        }
      ]
    },
    {
      "cell_type": "code",
      "source": [
        "print(classification_report(y_val_b, neural_net_prediction(shallow_nn_b1, x_val_b), target_names=['Not Fraud', 'Fraud']))"
      ],
      "metadata": {
        "colab": {
          "base_uri": "https://localhost:8080/",
          "height": 0
        },
        "id": "yMi6NhTywkxW",
        "outputId": "06338620-f0c8-406d-de9c-9bf1a67cd59f"
      },
      "execution_count": 37,
      "outputs": [
        {
          "output_type": "stream",
          "name": "stdout",
          "text": [
            "5/5 [==============================] - 0s 3ms/step\n",
            "              precision    recall  f1-score   support\n",
            "\n",
            "   Not Fraud       0.86      1.00      0.92        72\n",
            "       Fraud       1.00      0.83      0.91        70\n",
            "\n",
            "    accuracy                           0.92       142\n",
            "   macro avg       0.93      0.91      0.91       142\n",
            "weighted avg       0.93      0.92      0.91       142\n",
            "\n"
          ]
        }
      ]
    },
    {
      "cell_type": "code",
      "source": [
        "rf = RandomForestClassifier(max_depth = 2, n_jobs = -1)\n",
        "rf.fit(x_train_b, y_train_b)\n",
        "print(classification_report(y_val_b, rf.predict(x_val_b),target_names = ['Not Fraud', 'Fraud']))"
      ],
      "metadata": {
        "colab": {
          "base_uri": "https://localhost:8080/",
          "height": 0
        },
        "id": "Mt9dQprUwzrR",
        "outputId": "3102331d-5f3d-4f86-8c7f-93e59c9b8359"
      },
      "execution_count": 38,
      "outputs": [
        {
          "output_type": "stream",
          "name": "stdout",
          "text": [
            "              precision    recall  f1-score   support\n",
            "\n",
            "   Not Fraud       0.86      1.00      0.92        72\n",
            "       Fraud       1.00      0.83      0.91        70\n",
            "\n",
            "    accuracy                           0.92       142\n",
            "   macro avg       0.93      0.91      0.91       142\n",
            "weighted avg       0.93      0.92      0.91       142\n",
            "\n"
          ]
        }
      ]
    },
    {
      "cell_type": "code",
      "source": [
        "gbc = GradientBoostingClassifier(n_estimators=50, learning_rate = 1.0, max_depth = 1, random_state = 0)\n",
        "gbc.fit(x_train_b, y_train_b)\n",
        "print(classification_report(y_val_b, gbc.predict(x_val_b),target_names = ['Not Fraud', 'Fraud']))"
      ],
      "metadata": {
        "colab": {
          "base_uri": "https://localhost:8080/",
          "height": 0
        },
        "id": "IBySdq9rxR8H",
        "outputId": "5ade0fd8-59c0-41f5-84cf-a7ce16374afa"
      },
      "execution_count": 39,
      "outputs": [
        {
          "output_type": "stream",
          "name": "stdout",
          "text": [
            "              precision    recall  f1-score   support\n",
            "\n",
            "   Not Fraud       0.89      0.93      0.91        72\n",
            "       Fraud       0.93      0.89      0.91        70\n",
            "\n",
            "    accuracy                           0.91       142\n",
            "   macro avg       0.91      0.91      0.91       142\n",
            "weighted avg       0.91      0.91      0.91       142\n",
            "\n"
          ]
        }
      ]
    },
    {
      "cell_type": "code",
      "source": [
        "svc = LinearSVC(class_weight = 'balanced')\n",
        "svc.fit(x_train_b,y_train_b)\n",
        "print(classification_report(y_val_b, svc.predict(x_val_b),target_names = ['Not Fraud', 'Fraud']))"
      ],
      "metadata": {
        "colab": {
          "base_uri": "https://localhost:8080/",
          "height": 0
        },
        "id": "LJqxKqFsxtcx",
        "outputId": "0c9675be-4797-4d28-b8dc-1e25897c0e16"
      },
      "execution_count": 40,
      "outputs": [
        {
          "output_type": "stream",
          "name": "stdout",
          "text": [
            "              precision    recall  f1-score   support\n",
            "\n",
            "   Not Fraud       0.89      0.97      0.93        72\n",
            "       Fraud       0.97      0.87      0.92        70\n",
            "\n",
            "    accuracy                           0.92       142\n",
            "   macro avg       0.93      0.92      0.92       142\n",
            "weighted avg       0.93      0.92      0.92       142\n",
            "\n"
          ]
        },
        {
          "output_type": "stream",
          "name": "stderr",
          "text": [
            "/usr/local/lib/python3.10/dist-packages/sklearn/svm/_base.py:1244: ConvergenceWarning: Liblinear failed to converge, increase the number of iterations.\n",
            "  warnings.warn(\n"
          ]
        }
      ]
    },
    {
      "cell_type": "code",
      "source": [
        "print(classification_report(y_test_b, neural_net_prediction (shallow_nn, x_test_b), target_names=['Not Fraud', 'Fraud']))"
      ],
      "metadata": {
        "colab": {
          "base_uri": "https://localhost:8080/",
          "height": 0
        },
        "id": "30Qee5GUyIuB",
        "outputId": "fe5901c2-8ff6-4735-fb17-a134eef79437"
      },
      "execution_count": 41,
      "outputs": [
        {
          "output_type": "stream",
          "name": "stdout",
          "text": [
            "5/5 [==============================] - 0s 6ms/step\n",
            "              precision    recall  f1-score   support\n",
            "\n",
            "   Not Fraud       0.85      1.00      0.92        73\n",
            "       Fraud       1.00      0.81      0.90        69\n",
            "\n",
            "    accuracy                           0.91       142\n",
            "   macro avg       0.92      0.91      0.91       142\n",
            "weighted avg       0.92      0.91      0.91       142\n",
            "\n"
          ]
        }
      ]
    },
    {
      "cell_type": "markdown",
      "source": [
        "- The balanced dataset is split into training, testing, and validation sets.\n",
        "- Various models (Logistic Regression, Shallow Neural Network, Random Forest, Gradient Boosting, and Linear SVM) are trained and evaluated on the balanced data.\n",
        "- Classification reports are generated for each model on the validation set for performance assessment.\n",
        "\n",
        "## Conclusion\n",
        "\n",
        "This Python code demonstrates the process of credit card fraud detection using machine learning techniques. It covers data preprocessing, model building, and evaluation, as well as handling class imbalance through data balancing techniques. The code can serve as a foundation for building and deploying fraud detection systems in real-world scenarios.\n",
        "\n",
        "![Screenshot 2023-09-07 at 12.09.30 PM.png](data:image/png;base64,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)"
      ],
      "metadata": {
        "id": "qLadVzl_BSzO"
      }
    }
  ]
}